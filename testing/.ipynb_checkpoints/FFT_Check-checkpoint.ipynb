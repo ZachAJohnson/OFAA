{
 "cells": [
  {
   "cell_type": "code",
   "execution_count": 1,
   "id": "9c2eb6ef-ade0-4980-8fa0-babce6e39035",
   "metadata": {
    "tags": []
   },
   "outputs": [
    {
     "name": "stdout",
     "output_type": "stream",
     "text": [
      "ModuleNotFoundError: No module named 'mendeleev'\n"
     ]
    }
   ],
   "source": [
    "import numpy as np\n",
    "from pandas import read_csv\n",
    "\n",
    "# from average_atom.core.average_atom_new import AverageAtom as AA\n",
    "from average_atom.core.aa_types import AverageAtomFactory\n",
    "from average_atom.core.misc import jacobi_relaxation, sor\n",
    "from average_atom.core.grids import NonUniformGrid\n",
    "from average_atom.core.physics import ThomasFermi, FermiDirac\n",
    "\n",
    "import matplotlib.pyplot as plt\n",
    "\n",
    "from hnc.hnc.constants import *\n",
    "from hnc.hnc.misc import rs_from_n, n_from_rs\n",
    "\n",
    "plt.rcParams.update({'font.size': 10})\n",
    "plt.rcParams[\"figure.figsize\"] = (5,3.5)\n",
    "plt.rcParams[\"figure.dpi\"] = 200\n",
    "plt.rcParams['xtick.labelsize']=14\n",
    "plt.rcParams.update({'font.size': 12, 'font.family': 'serif'})\n",
    "plt.rcParams['legend.fontsize'] = 8\n",
    "\n",
    "color_cycle = plt.rcParams['axes.prop_cycle'].by_key()['color']"
   ]
  },
  {
   "cell_type": "code",
   "execution_count": 20,
   "id": "2e9647ce-28f4-439a-a6aa-67319be5087d",
   "metadata": {
    "tags": []
   },
   "outputs": [
    {
     "name": "stdout",
     "output_type": "stream",
     "text": [
      "________________________\n",
      "Generating NPA\n",
      "T:  0.03674932539796232\n",
      "Using More TF fit for initial Zstar = 2.495\n",
      "\tIntializing grid\n",
      "Initializing, True\n",
      "Initializing\n",
      "\tCreating Integral Equation Solver\n",
      "Intialized Potentials and Densities\n",
      "Initialized\n"
     ]
    },
    {
     "name": "stderr",
     "output_type": "stream",
     "text": [
      "/home/zach/plasma/average_atom/core/average_atom_new.py:238: RuntimeWarning: invalid value encountered in power\n",
      "  nb_Mavrin_Demura_func = lambda r: np.nan_to_num(self.Z/(4*π*r_TF**3) * (Φ_Mavrin_Demura(x(r))/x(r) )**1.5)\n"
     ]
    }
   ],
   "source": [
    "# Aluminum\n",
    "name='Al'\n",
    "Z, A = 13, 27 \n",
    "\n",
    "ρ_solid = 2.699 #g/cc, the solid density of aluminum \n",
    "ρ = ρ_solid#8.1 # g/cc\n",
    "ni_cc = ρ/(A*amu_to_AU*AU_to_g)\n",
    "ni_AU = ni_cc*invcc_to_AU\n",
    "rs = rs_from_n(ni_AU)\n",
    "\n",
    "R  = 10*rs\n",
    "\n",
    "Ti_eV = 1 \n",
    "Te_eV = 1\n",
    "\n",
    "#\n",
    "\n",
    "Te_AU = Te_eV*eV_to_AU\n",
    "Ti_AU = Ti_eV*eV_to_AU\n",
    "\n",
    "\n",
    "aa_ZJ  = AverageAtomFactory.create_model(\"ZJ_ISModel\", Z, A, Ti_AU, Te_AU, rs, R, name=name, ignore_vxc=False, xc_type='KSDT', Npoints=2000, rmin=1e-4, N_stencil_oneside = 2)\n",
    "# aa_W  = AverageAtomFactory.create_model(\"ZJ_ISModel_W\", Z, A, Ti_AU, Te_AU, rs, R,  Weizsacker_λ=1/5, name=name, ignore_vxc=False, xc_type='KSDT', Npoints=2000, rmin=1e-4, N_stencil_oneside = 2)\n",
    "# aa_W.nf_init = 1/aa_W.grid.xs**1.5*np.exp(-2*aa_W.grid.xs)\n",
    "# aa_W.nf_init *= Z/aa_W.grid.integrate_f(aa_W.nf_init )\n",
    "# aa_W.ne = aa_W.nf_init + 0*aa_W.nb_init\n",
    "# aa_ZJ_cs  = AverageAtomFactory.create_model(\"ZJ_CSModel\", Z, A, Ti_AU, Te_AU, rs, R, name=name, ignore_vxc=False, Npoints=2000, rmin=1e-4, N_stencil_oneside = 2)\n",
    "# aa_CS  = AverageAtomFactory.create_model(\"TFStarret2014\", Z, A, Ti_AU, Te_AU, rs, R, name=name, ignore_vxc=False, Npoints=2000, rmin=1e-4, N_stencil_oneside = 2)"
   ]
  },
  {
   "cell_type": "code",
   "execution_count": 21,
   "id": "ab9dd227-9b34-493a-a23b-5cd8b1156003",
   "metadata": {
    "scrolled": true,
    "tags": []
   },
   "outputs": [
    {
     "name": "stdout",
     "output_type": "stream",
     "text": [
      "Beginning self-consistent electron solver.\n",
      "_________________________________\n",
      "__________________________________________\n",
      "TF Iteration 0\n",
      "\tμ = -6.844847875e-01, change: 2.822080212e+00 (converged=False)\n",
      "\tφe Err =  5.605e-11, φe change =  7.588e-01\n",
      "\tne Err =  8.630e-02, ne change =  8.272e-04\n",
      "\tQ =  0.000e+00 -> -4.774e+00, \n",
      "\tZstar guess =  2.495e+00. Current Zstar:  2.495e+00 (converged=True)\n",
      "\tChange =  2.092e+00\n",
      "__________________________________________\n",
      "TF Iteration 1\n",
      "\tμ = -6.844847875e-01, change: 0.000000000e+00 (converged=True)\n",
      "\tφe Err =  6.256e-11, φe change =  7.971e-02\n",
      "\tne Err =  1.130e-01, ne change =  3.748e-04\n",
      "\tQ = -4.774e+00 ->  6.441e-01, \n",
      "\tZstar guess =  2.495e+00. Current Zstar:  2.495e+00 (converged=True)\n",
      "\tChange =  8.472e-02\n",
      "__________________________________________\n",
      "TF Iteration 2\n",
      "\tμ = -6.844847875e-01, change: 0.000000000e+00 (converged=True)\n",
      "\tφe Err =  5.815e-11, φe change =  1.815e-02\n",
      "\tne Err =  4.224e-02, ne change =  1.952e-04\n",
      "\tQ =  6.441e-01 ->  2.909e+00, \n",
      "\tZstar guess =  2.495e+00. Current Zstar:  2.495e+00 (converged=True)\n",
      "\tChange =  1.927e-02\n",
      "__________________________________________\n",
      "TF Iteration 3\n",
      "\tμ = -6.844847875e-01, change: 0.000000000e+00 (converged=True)\n",
      "\tφe Err =  5.948e-11, φe change =  1.380e-02\n",
      "\tne Err =  1.918e-02, ne change =  1.032e-04\n",
      "\tQ =  2.909e+00 ->  3.309e+00, \n",
      "\tZstar guess =  2.495e+00. Current Zstar:  2.495e+00 (converged=True)\n",
      "\tChange =  1.504e-02\n",
      "__________________________________________\n",
      "TF Iteration 4\n",
      "\tμ = -6.844847875e-01, change: 0.000000000e+00 (converged=True)\n",
      "\tφe Err =  6.020e-11, φe change =  1.406e-03\n",
      "\tne Err =  1.899e-02, ne change =  5.168e-05\n",
      "\tQ =  3.309e+00 ->  3.147e+00, \n",
      "\tZstar guess =  2.495e+00. Current Zstar:  2.495e+00 (converged=True)\n",
      "\tChange =  3.542e-04\n",
      "__________________________________________\n",
      "TF Iteration 5\n",
      "\tμ = -6.844847875e-01, change: 0.000000000e+00 (converged=True)\n",
      "\tφe Err =  5.916e-11, φe change =  3.817e-03\n",
      "\tne Err =  1.133e-02, ne change =  2.451e-05\n",
      "\tQ =  3.147e+00 ->  3.018e+00, \n",
      "\tZstar guess =  2.495e+00. Current Zstar:  2.495e+00 (converged=True)\n",
      "\tChange =  3.901e-03\n",
      "__________________________________________\n",
      "TF Iteration 6\n",
      "\tμ = -6.844847875e-01, change: 0.000000000e+00 (converged=True)\n",
      "\tφe Err =  5.904e-11, φe change =  2.234e-03\n",
      "\tne Err =  5.722e-03, ne change =  1.156e-05\n",
      "\tQ =  3.018e+00 ->  2.986e+00, \n",
      "\tZstar guess =  2.495e+00. Current Zstar:  2.495e+00 (converged=True)\n",
      "\tChange =  2.381e-03\n",
      "__________________________________________\n",
      "TF Iteration 7\n",
      "\tμ = -6.844847875e-01, change: 0.000000000e+00 (converged=True)\n",
      "\tφe Err =  5.937e-11, φe change =  6.501e-04\n",
      "\tne Err =  3.297e-03, ne change =  5.695e-06\n",
      "\tQ =  2.986e+00 ->  2.984e+00, \n",
      "\tZstar guess =  2.495e+00. Current Zstar:  2.495e+00 (converged=True)\n",
      "\tChange =  7.100e-04\n",
      "__________________________________________\n",
      "TF Iteration 8\n",
      "\tμ = -6.844847875e-01, change: 0.000000000e+00 (converged=True)\n",
      "\tφe Err =  5.902e-11, φe change =  1.445e-04\n",
      "\tne Err =  2.404e-03, ne change =  2.935e-06\n",
      "\tQ =  2.984e+00 ->  2.976e+00, \n",
      "\tZstar guess =  2.495e+00. Current Zstar:  2.495e+00 (converged=True)\n",
      "\tChange =  1.364e-04\n",
      "__________________________________________\n",
      "TF Iteration 9\n",
      "\tμ = -6.844847875e-01, change: 0.000000000e+00 (converged=True)\n",
      "\tφe Err =  5.785e-11, φe change =  1.168e-04\n",
      "\tne Err =  2.018e-03, ne change =  1.526e-06\n",
      "\tQ =  2.976e+00 ->  2.960e+00, \n",
      "\tZstar guess =  2.495e+00. Current Zstar:  2.495e+00 (converged=True)\n",
      "\tChange =  1.260e-04\n",
      "__________________________________________\n",
      "TF Iteration 25\n",
      "\tμ = 1.405066280e-02, change: 0.000000000e+00 (converged=True)\n",
      "\tφe Err =  6.167e-11, φe change =  2.861e-04\n",
      "\tne Err =  8.576e-04, ne change =  2.004e-07\n",
      "\tQ =  1.012e+00 ->  9.982e-01, \n",
      "\tZstar guess =  2.495e+00. Current Zstar:  2.495e+00 (converged=True)\n",
      "\tChange =  3.123e-04\n",
      "__________________________________________\n",
      "TF Iteration 50\n",
      "\tμ = 2.179088936e-01, change: 2.621697338e-01 (converged=False)\n",
      "\tφe Err =  6.112e-11, φe change =  6.757e-06\n",
      "\tne Err =  8.015e-03, ne change =  4.255e-11\n",
      "\tQ =  5.141e-01 ->  5.155e-01, \n",
      "\tZstar guess =  2.495e+00. Current Zstar:  2.495e+00 (converged=True)\n",
      "\tChange =  1.628e-01\n",
      "__________________________________________\n",
      "TF Iteration 75\n",
      "\tμ = 2.636513106e-01, change: 0.000000000e+00 (converged=True)\n",
      "\tφe Err =  5.736e-11, φe change =  5.246e-05\n",
      "\tne Err =  1.346e-04, ne change =  2.509e-08\n",
      "\tQ =  1.213e-01 ->  1.224e-01, \n",
      "\tZstar guess =  2.495e+00. Current Zstar:  2.495e+00 (converged=True)\n",
      "\tChange =  5.715e-05\n",
      "__________________________________________\n",
      "TF Iteration 100\n",
      "\tμ = 2.836473163e-01, change: 1.280123324e-02 (converged=False)\n",
      "\tφe Err =  6.090e-11, φe change =  5.524e-07\n",
      "\tne Err =  6.635e-04, ne change =  2.831e-11\n",
      "\tQ =  4.261e-02 ->  4.269e-02, \n",
      "\tZstar guess =  2.495e+00. Current Zstar:  2.495e+00 (converged=True)\n",
      "\tChange =  8.995e-03\n",
      "__________________________________________\n",
      "TF Iteration 125\n",
      "\tμ = 2.869794869e-01, change: 0.000000000e+00 (converged=True)\n",
      "\tφe Err =  6.123e-11, φe change =  3.745e-06\n",
      "\tne Err =  9.426e-06, ne change =  1.765e-09\n",
      "\tQ =  8.556e-03 ->  8.632e-03, \n",
      "\tZstar guess =  2.495e+00. Current Zstar:  2.495e+00 (converged=True)\n",
      "\tChange =  4.077e-06\n",
      "__________________________________________\n",
      "TF Iteration 150\n",
      "\tμ = 2.883648253e-01, change: 8.522807384e-04 (converged=False)\n",
      "\tφe Err =  5.785e-11, φe change =  3.786e-08\n",
      "\tne Err =  4.559e-05, ne change =  2.041e-12\n",
      "\tQ =  2.928e-03 ->  2.933e-03, \n",
      "\tZstar guess =  2.495e+00. Current Zstar:  2.495e+00 (converged=True)\n",
      "\tChange =  6.024e-04\n",
      "__________________________________________\n",
      "TF Iteration 175\n",
      "\tμ = 2.885920208e-01, change: 0.000000000e+00 (converged=True)\n",
      "\tφe Err =  5.845e-11, φe change =  2.551e-07\n",
      "\tne Err =  6.413e-07, ne change =  1.201e-10\n",
      "\tQ =  5.822e-04 ->  5.874e-04, \n",
      "\tZstar guess =  2.495e+00. Current Zstar:  2.495e+00 (converged=True)\n",
      "\tChange =  2.777e-07\n",
      "__________________________________________\n",
      "TF Iteration 200\n",
      "\tμ = 2.886861861e-01, change: 5.779219961e-05 (converged=False)\n",
      "\tφe Err =  6.144e-11, φe change =  2.567e-09\n",
      "\tne Err =  3.098e-06, ne change =  1.462e-13\n",
      "\tQ =  1.989e-04 ->  1.993e-04, \n",
      "\tZstar guess =  2.495e+00. Current Zstar:  2.495e+00 (converged=True)\n",
      "\tChange =  4.087e-05\n",
      "__________________________________________\n",
      "TF Iteration 225\n",
      "\tμ = 2.887016179e-01, change: 0.000000000e+00 (converged=True)\n",
      "\tφe Err =  6.059e-11, φe change =  1.732e-08\n",
      "\tne Err =  4.356e-08, ne change =  8.156e-12\n",
      "\tQ =  3.955e-05 ->  3.990e-05, \n",
      "\tZstar guess =  2.495e+00. Current Zstar:  2.495e+00 (converged=True)\n",
      "\tChange =  1.886e-08\n",
      "__________________________________________\n",
      "TF Iteration 250\n",
      "\tμ = 2.887080137e-01, change: 3.924758953e-06 (converged=True)\n",
      "\tφe Err =  5.775e-11, φe change =  1.704e-10\n",
      "\tne Err =  2.104e-07, ne change =  1.407e-14\n",
      "\tQ =  1.351e-05 ->  1.354e-05, \n",
      "\tZstar guess =  2.495e+00. Current Zstar:  2.495e+00 (converged=True)\n",
      "\tChange =  2.775e-06\n",
      "__________________________________________\n",
      "TF Iteration 275\n",
      "\tμ = 2.887090619e-01, change: 0.000000000e+00 (converged=True)\n",
      "\tφe Err =  6.381e-11, φe change =  1.180e-09\n",
      "\tne Err =  2.959e-09, ne change =  5.564e-13\n",
      "\tQ =  2.686e-06 ->  2.710e-06, \n",
      "\tZstar guess =  2.495e+00. Current Zstar:  2.495e+00 (converged=True)\n",
      "\tChange =  1.285e-09\n",
      "__________________________________________\n",
      "TF Iteration 300\n",
      "\tμ = 2.887094194e-01, change: 0.000000000e+00 (converged=True)\n",
      "\tφe Err =  5.608e-11, φe change =  5.354e-12\n",
      "\tne Err =  9.714e-11, ne change =  9.803e-15\n",
      "\tQ =  9.151e-07 ->  9.178e-07, \n",
      "\tZstar guess =  2.495e+00. Current Zstar:  2.495e+00 (converged=True)\n",
      "\tChange =  4.119e-12\n"
     ]
    },
    {
     "name": "stderr",
     "output_type": "stream",
     "text": [
      "/home/zach/plasma/average_atom/core/physics.py:142: RuntimeWarning: overflow encountered in exp\n",
      "  f_fd = lambda q: 1/(1 + np.exp( 1/Te*(q**2/2 - μ ) ))\n",
      "/home/zach/plasma/average_atom/core/average_atom_new.py:478: RuntimeWarning: divide by zero encountered in divide\n",
      "  rel_errs = (np.abs(A @ φe - b)[:-1]/b[:-1])\n"
     ]
    },
    {
     "name": "stdout",
     "output_type": "stream",
     "text": [
      "\t-------------------\n",
      "\tSolving IET.\n",
      "0: Initial condition Total Error: 4.325e+02\n",
      "Exiting status 0, reverting to best index so far: 2743\n",
      "Final iter:2744, Total Error: 9.956e-13\n",
      "\t-------------------\n",
      "\tSolving IET.\n",
      "0: Initial condition Total Error: 4.325e+02\n",
      "Exiting status 0, reverting to best index so far: 2824\n",
      "Final iter:2825, Total Error: 9.969e-13\n",
      "CPU times: user 1min 32s, sys: 2min 40s, total: 4min 13s\n",
      "Wall time: 48.1 s\n"
     ]
    }
   ],
   "source": [
    "%%time\n",
    "aa_ZJ.solve(verbose=True, picard_alpha=0.5)\n",
    "aa_ZJ.set_uii_eff()"
   ]
  },
  {
   "cell_type": "code",
   "execution_count": 38,
   "id": "b261cb6c-776c-4a1d-9a21-116a12f399b5",
   "metadata": {
    "tags": []
   },
   "outputs": [
    {
     "name": "stderr",
     "output_type": "stream",
     "text": [
      "/home/zach/plasma/average_atom/core/physics.py:142: RuntimeWarning: overflow encountered in exp\n",
      "  f_fd = lambda q: 1/(1 + np.exp( 1/Te*(q**2/2 - μ ) ))\n",
      "/home/zach/plasma/average_atom/core/average_atom_new.py:478: RuntimeWarning: divide by zero encountered in divide\n",
      "  rel_errs = (np.abs(A @ φe - b)[:-1]/b[:-1])\n"
     ]
    },
    {
     "name": "stdout",
     "output_type": "stream",
     "text": [
      "\t-------------------\n",
      "\tSolving IET.\n",
      "0: Initial condition Total Error: 8.144e+02\n",
      "Exiting status 0, reverting to best index so far: 2827\n",
      "Final iter:2828, Total Error: 9.976e-13\n"
     ]
    }
   ],
   "source": [
    "aa_ZJ.iet.dst_type=4\n",
    "aa_ZJ.iet.make_k_r_spaces()\n",
    "aa_ZJ.iet.initialize()\n",
    "aa_ZJ.set_uii_eff()"
   ]
  },
  {
   "cell_type": "code",
   "execution_count": 41,
   "id": "46af6e6b-e085-48d0-bf75-033c5efc7a5f",
   "metadata": {
    "tags": []
   },
   "outputs": [
    {
     "data": {
      "image/png": "[encoded data removed]",
      "text/plain": [
       "<Figure size 1000x700 with 1 Axes>"
      ]
     },
     "metadata": {},
     "output_type": "display_data"
    }
   ],
   "source": [
    "def plot_uii(uii_data, figax = None, **kwargs):#line = None, color=None, label=None):\n",
    "    if figax is None:\n",
    "        fig, ax = plt.subplots()\n",
    "    else:\n",
    "        fig, ax  = figax\n",
    "    \n",
    "    ax.plot(uii_data[0], uii_data[1], **kwargs )#, linestyle=line, color=color, label=label)\n",
    "    \n",
    "    ax.set_xlim(1e-2,60)\n",
    "    ax.set_ylim(-1e2,1e4)\n",
    "    ax.set_yscale('symlog', linthresh=1e-2)\n",
    "    ax.set_xscale('log')\n",
    "    \n",
    "    ax.set_ylabel(r\"$u_{ii}$\")\n",
    "    ax.set_xlabel(r\"$r [au]$\")\n",
    "    \n",
    "    ax.legend(fontsize=4.8, ncols=2, labelspacing=0.5, columnspacing=1)\n",
    "\n",
    "def load_NS_u_data(filename, fix_factor=1):\n",
    "    NS_aa = read_csv(filename, skiprows=8, delim_whitespace=True, names=[\"r\", \"uii\",\"dvdr\"])\n",
    "    return NS_aa.r, NS_aa.uii*fix_factor\n",
    "NS_folder = \"/home/zach/plasma/average_atom/data/aluminum_2T/aluminum_2T_NS/\"\n",
    "\n",
    "# Fixed Ti cases\n",
    "NS_tf_u11 = load_NS_u_data(NS_folder + \"qm_ksdt_aluminum_ti1ev_t1ev_d2.7gpcc/tf_potential_for_md.jerome.dat\")\n",
    "NS_ks_u11 = load_NS_u_data(NS_folder + \"qm_ksdt_aluminum_ti1ev_t1ev_d2.7gpcc/qm_potential_for_md.jerome.dat\")\n",
    "\n",
    "# Fixed Ti\n",
    "fig, ax = plt.subplots()\n",
    "ax.set_title(r\"Aluminum @ $2.7$ g/cc, $T_i = 1 $ eV\", fontsize=8)\n",
    "\n",
    "plot_uii(NS_ks_u11, figax = (fig, ax), color=color_cycle[0], linestyle=':', label=r\"NS QM $T_e=1$ eV (<Z>=3.00)\")\n",
    "plot_uii(NS_tf_u11, figax = (fig, ax), color=color_cycle[0], linestyle='--', label=r\"NS TF $T_e=1$ eV (<Z>=2.89)\")\n",
    "plot_uii(np.array([aa_ZJ.iet.r_array*rs, aa_ZJ.uii_r_eff_iet]), figax = (fig, ax), color=color_cycle[0], linestyle='-',\n",
    "         label=r\"ZJ TF $T_e=1$ eV, $\\langle Z \\rangle ={0:0.2f}$\".format(aa_ZJ.Zstar))\n",
    "plot_uii([NS_tf_u11[0], 2.89**2/NS_tf_u11[0]], figax = (fig, ax), color=color_cycle[0], linestyle='-', label=r\"Coulomb (Z=2.89)\")\n"
   ]
  },
  {
   "cell_type": "code",
   "execution_count": null,
   "id": "16ee397f-6f4c-421c-9806-1b9c9ae9916b",
   "metadata": {
    "tags": []
   },
   "outputs": [],
   "source": [
    "from importlib import reload\n",
    "try:\n",
    "    reload(plotting)\n",
    "except NameError as e:\n",
    "    from average_atom.core import plotting as plotting\n",
    "    print(\"Error: \",e)\n",
    "except Exception as e:\n",
    "    print(\"Unexpected error during reload\")\n",
    "    print(e)\n",
    "    \n",
    "from average_atom.core.plotting import compare_aa, plot_convergence, plot_Uei, plot_Uii, plot_hii\n",
    "\n",
    "# fig, axs = plot_Uei([aa_CS, aa_ZJ, aa_ZJ_cs])\n",
    "# fig, axs = plot_Uii([aa_CS, aa_ZJ, aa_ZJ_cs])\n",
    "compare_aa([aa_W])\n",
    "plot_convergence(aa_W)\n",
    "aa_W.make_plots()\n",
    "\n"
   ]
  },
  {
   "cell_type": "code",
   "execution_count": null,
   "id": "dd0da2c8-c2f5-4c43-8bb7-bd4114afff21",
   "metadata": {
    "tags": []
   },
   "outputs": [],
   "source": [
    "from scipy.interpolate import PchipInterpolator\n",
    "from pandas import read_csv\n",
    "\n",
    "fig, axs = plot_hii([aa_W])\n",
    "\n",
    "# Data from community TCCW\n",
    "upper_data = read_csv(\"/home/zach/plasma/hnc/TCCW/Final_TCCW/Fig5c_Upper.txt\", delim_whitespace=True, header=1)\n",
    "lower_data = read_csv(\"/home/zach/plasma/hnc/TCCW/Final_TCCW/Fig5c_Lower.txt\", delim_whitespace=True, header=1)\n",
    "\n",
    "ax = axs[0]\n",
    "ax.fill_between(lower_data['r/ri'],lower_data['gii'], PchipInterpolator(upper_data['r/ri'], upper_data['gii'])(lower_data['r/ri']), alpha=0.5, color='k', label='Workshop DFT Spread')\n",
    "\n",
    "ax = axs[1]\n",
    "ax.fill_between(lower_data['r/ri'],lower_data['gii']-1, PchipInterpolator(upper_data['r/ri'], upper_data['gii'])(lower_data['r/ri'])-1, alpha=0.5, color='k', label='Workshop DFT Spread')\n"
   ]
  },
  {
   "cell_type": "markdown",
   "id": "0a31c14a-6189-45e3-862b-8a76c086dd81",
   "metadata": {},
   "source": [
    "### Compare Density Profiles"
   ]
  },
  {
   "cell_type": "code",
   "execution_count": null,
   "id": "9c56f7e9-7da2-4562-b0fe-97a00b5e43d0",
   "metadata": {
    "tags": []
   },
   "outputs": [],
   "source": [
    "def plot_ne(ne_data, ks=False, figax = None, **kwargs):#line = None, color=None, label=None):\n",
    "    if figax is None:\n",
    "        fig, ax = plt.subplots()\n",
    "    else:\n",
    "        fig, ax  = figax\n",
    "    \n",
    "    fourpi = True\n",
    "    if fourpi==True:\n",
    "        if ks==False:\n",
    "            ax.plot(ne_data[0], 4*π*ne_data[0]**2*ne_data[1], **kwargs )#, linestyle=line, color=color, label=label)\n",
    "        else:\n",
    "            ax.plot(ne_data[0], ne_data[1], **kwargs )#, linestyle=line, color=color, label=label)\n",
    "        ax.set_ylabel(r\"$4 \\pi  r^2 n_{bound}$\")        \n",
    "    else:\n",
    "        if ks==False:\n",
    "            ax.plot(ne_data[0], ne_data[1], **kwargs )#, linestyle=line, color=color, label=label)\n",
    "        else:\n",
    "            ax.plot(ne_data[0], (4*π*ne_data[0]**2)**-1*ne_data[1], **kwargs )#, linestyle=line, color=color, label=label)\n",
    "        ax.set_ylabel(r\"$n_{free} $ [au]\")        \n",
    "\n",
    "    if True:\n",
    "        ax.set_xlim(0,rs)\n",
    "        ax.set_ylim(0, 13)\n",
    "    else:\n",
    "        ax.set_xlim(1e-2,30)\n",
    "        ax.set_yscale('log')#, linthresh=1e-3)\n",
    "        ax.set_xscale('log')\n",
    "        ax.set_ylim(1e-3, 1e1)\n",
    "\n",
    "    \n",
    "    ax.set_xlabel(r\"$r $ [au]\")\n",
    "    \n",
    "    ax.legend(fontsize=6, ncols=2)\n",
    "    \n",
    "# Fixed Ti\n",
    "fig, ax = plt.subplots()\n",
    "ax.set_title(r\"Aluminum @ $2.7$ g/cc, $T_i = 1 $ eV\")\n",
    "\n",
    "# plot_ne(NS_ks_ne11, ks=True, figax = (fig, ax), color=color_cycle[0], linestyle='-', label=r\"NS QM $T_e=1$ eV\")\n",
    "# plot_ne(NS_tf_ne11, ks=False, figax = (fig, ax), color=color_cycle[0], linestyle='--', label=r\"NS TF $T_e=1$ eV\")\n",
    "ZJ_csaa = np.array([aa_CS.grid.xs, aa_CS.ne_full])\n",
    "ZJ_tfaa = np.array([aa_ZJ.grid.xs, aa_ZJ.ne])\n",
    "ZJ_tfaa_cs = np.array([aa_ZJ_cs.grid.xs, aa_ZJ_cs.ne])\n",
    "plot_ne(ZJ_csaa, ks=False, figax = (fig, ax), color=color_cycle[1], linestyle='-', marker='', markersize=1, label=r\"ZJ (SS2014) TF $T_e=1$ eV $\\langle Z \\rangle$={0:0.2f}\".format(aa_CS.Zstar))\n",
    "plot_ne(ZJ_tfaa, ks=False, figax = (fig, ax), color=color_cycle[2], linestyle='--', marker='', markersize=1, label=r\"ZJ (IS) TF $T_e=1$ eV $\\langle Z \\rangle$={0:0.2f}\".format(aa_ZJ.Zstar))\n",
    "plot_ne(ZJ_tfaa_cs, ks=False, figax = (fig, ax), color=color_cycle[3], linestyle=':', marker='', markersize=1, label=r\"ZJ (CS) TF $T_e=1$ eV $\\langle Z \\rangle$={0:0.2f}\".format(aa_ZJ.Zstar))\n",
    "# ZJ_csaa = np.array([aa_CS.core_atom.grid.xs, aa_CS.core_atom.ne])\n",
    "# plot_ne(ZJ_csaa, ks=False, figax = (fig, ax), color=color_cycle[1], linestyle='--', marker='.', markersize=1, label=r\"ZJ (CS2014) TF $T_e=1$ eV\")"
   ]
  },
  {
   "cell_type": "code",
   "execution_count": null,
   "id": "0c7bb4ea-4269-46db-af55-5674f8802cb2",
   "metadata": {
    "tags": []
   },
   "outputs": [],
   "source": [
    "from scipy.interpolate import interp1d\n",
    "\n",
    "fig, ax  = plt.subplots()\n",
    "\n",
    "ZJ_csaa = np.array([aa_CS.grid.xs, aa_CS.ne_full])\n",
    "\n",
    "# ax.plot(aa_CS.core_atom.grid.xs, aa_CS.grid.A_dfdx.dot(aa_CS.core_atom.φe  ), '--.')\n",
    "ax.plot(aa_CS.core_atom.grid.xs, aa_CS.core_atom.grid.A_dfdx.dot(aa_CS.core_atom.φe + aa_CS.core_atom.φion ), '--.')\n",
    "ax.plot(aa_CS.core_atom.grid.xs, (aa_CS.core_atom.φe + aa_CS.core_atom.φion ), '--.')\n",
    "ax.plot(ZJ_csaa[0], ZJ_csaa[1]/interp1d(NS_tf_ne11[0], NS_tf_ne11[1])(ZJ_csaa[0])-1, ':')\n",
    "\n",
    "ax.set_yscale('symlog', linthresh=1e-8)\n",
    "ax.set_xlim(np.min(ZJ_csaa[0]),3)\n",
    "# ax.set_xscale('log')\n",
    "ax.grid(alpha=0.2)"
   ]
  },
  {
   "cell_type": "markdown",
   "id": "d584ce93-453b-48af-90ac-cf059bb7e9d7",
   "metadata": {},
   "source": [
    "## EOS"
   ]
  },
  {
   "cell_type": "code",
   "execution_count": null,
   "id": "7f12d039-d4d7-4b3c-b2e0-a22aa5ceef3e",
   "metadata": {
    "tags": []
   },
   "outputs": [],
   "source": [
    "def get_E(aa):\n",
    "    βVeff = aa.get_βVeff(aa.φe, aa.ne, aa.ne_bar)\n",
    "    η = aa.μ/aa.Te - βVeff\n",
    "    βU = aa.grid.integrate_f(βVeff*aa.ne)\n",
    "    \n",
    "    φ_from_e_only = aa.get_φe(-aa.ne)[0] \n",
    "    φ_from_i_only = aa.get_φe(aa.ρi)[0] + aa.φion \n",
    "    U = -aa.grid.integrate_f(aa.ne * (0.5*φ_from_e_only + φ_from_i_only))\n",
    "\n",
    "    I_onehalf = FermiDirac.Ionehalf(η)\n",
    "    I_threehalf = FermiDirac.Ithreehalf(η)\n",
    "    \n",
    "    K = (2*aa.Te)**1.5/(2*π**2) * aa.Te * aa.grid.integrate_f( I_threehalf)\n",
    "    return U, K, (U + K)\n",
    "\n",
    "def get_P(aa):\n",
    "    P = (2*aa.Te)**2.5/(6*π**2) * FermiDirac.Ithreehalf(aa.μ/aa.Te)\n",
    "    return P\n",
    "\n",
    "def print_EOS(aa):\n",
    "    Ee_pot, Ee_K, Ee = get_E(aa)\n",
    "    P_e =  get_P(aa)\n",
    "    print(f\"____________________________________________\")\n",
    "    print(f\"Ee_pot_density = {Ee_pot*aa.ni_bar:0.3e} [au], Ee_K = {Ee_K*aa.ni_bar:0.3e} [au], Ee_tot = {Ee*aa.ni_bar:0.3e} [au]\")\n",
    "    print(f\"P_e = {P_e:0.3e} [au], {P_e*AU_to_bar/1e6:0.3e} [Mbar]\")\n",
    "    print(f\"Virial if {Ee_K:0.3e} = {3/2*P_e*aa.Vol - 0.5*Ee_pot:0.3e} --->  off by {100*Ee_K/(3/2*P_e*aa.Vol - 0.5*Ee_pot) - 100:0.3e} % \")\n",
    "    \n",
    "    print(f\"\\nβEe_pot/Z = {Ee_pot/aa.Te/aa.Z:0.3f}, βEe_K/Z = {Ee_K/aa.Te/aa.Z:0.3f}, βEe_tot/Z = {Ee/aa.Te/aa.Z:0.3f}\")\n",
    "    print(f\"βP_e Ω/Z = {P_e*aa.Vol/aa.Te/aa.Z:0.3f}\")\n",
    "    # print(f\"Virial if {Ee_K:0.3e} = {3/2*P_e*aa.Vol - 0.5*Ee_pot:0.3e}\")\n",
    "\n",
    "print_EOS(aa_ZJ)\n",
    "print_EOS(aa_ZJ_cs)\n",
    "print_EOS(aa_CS.core_atom)"
   ]
  },
  {
   "cell_type": "code",
   "execution_count": null,
   "id": "2796633c-2333-4653-8e29-428c77dd1528",
   "metadata": {},
   "outputs": [],
   "source": []
  },
  {
   "cell_type": "code",
   "execution_count": null,
   "id": "b6433536-e6b3-4b9c-a572-9420b622b9ec",
   "metadata": {},
   "outputs": [],
   "source": []
  },
  {
   "cell_type": "code",
   "execution_count": null,
   "id": "2e208679-3415-4e66-a0bf-55d6a016cac5",
   "metadata": {},
   "outputs": [],
   "source": []
  }
 ],
 "metadata": {
  "kernelspec": {
   "display_name": "Python 3 (ipykernel)",
   "language": "python",
   "name": "python3"
  },
  "language_info": {
   "codemirror_mode": {
    "name": "ipython",
    "version": 3
   },
   "file_extension": ".py",
   "mimetype": "text/x-python",
   "name": "python",
   "nbconvert_exporter": "python",
   "pygments_lexer": "ipython3",
   "version": "3.10.6"
  }
 },
 "nbformat": 4,
 "nbformat_minor": 5
}
