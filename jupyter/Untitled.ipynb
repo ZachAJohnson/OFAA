{
 "cells": [
  {
   "cell_type": "code",
   "execution_count": 2,
   "id": "9c2eb6ef-ade0-4980-8fa0-babce6e39035",
   "metadata": {
    "tags": []
   },
   "outputs": [
    {
     "name": "stdout",
     "output_type": "stream",
     "text": [
      "ModuleNotFoundError: No module named 'mendeleev'\n"
     ]
    }
   ],
   "source": [
    "import numpy as np\n",
    "import pandas as pd\n",
    "\n",
    "# from average_atom.core.average_atom_new import AverageAtom as AA\n",
    "from average_atom.core.aa_types import AverageAtomFactory\n",
    "from average_atom.core.misc import jacobi_relaxation, sor\n",
    "from average_atom.core.grids import NonUniformGrid\n",
    "from average_atom.core.physics import ThomasFermi, FermiDirac\n",
    "\n",
    "import matplotlib.pyplot as plt\n",
    "\n",
    "from hnc.hnc.constants import *\n",
    "from hnc.hnc.misc import rs_from_n, n_from_rs\n",
    "\n",
    "plt.rcParams.update({'font.size': 10})\n",
    "plt.rcParams[\"figure.figsize\"] = (5,3.5)\n",
    "plt.rcParams[\"figure.dpi\"] = 200\n",
    "plt.rcParams['xtick.labelsize']=14\n",
    "\n",
    "color_cycle = plt.rcParams['axes.prop_cycle'].by_key()['color']"
   ]
  },
  {
   "cell_type": "code",
   "execution_count": 5,
   "id": "c1cae6be-8381-472b-a8de-3e89067960eb",
   "metadata": {
    "tags": []
   },
   "outputs": [
    {
     "name": "stdout",
     "output_type": "stream",
     "text": [
      "________________________\n",
      "Generating NPA\n"
     ]
    },
    {
     "ename": "KeyError",
     "evalue": "'v2rho2'",
     "output_type": "error",
     "traceback": [
      "\u001b[0;31m---------------------------------------------------------------------------\u001b[0m",
      "\u001b[0;31mKeyError\u001b[0m                                  Traceback (most recent call last)",
      "Cell \u001b[0;32mIn[5], line 18\u001b[0m\n\u001b[1;32m     15\u001b[0m Te_AU \u001b[38;5;241m=\u001b[39m Te_eV\u001b[38;5;241m*\u001b[39meV_to_AU\n\u001b[1;32m     16\u001b[0m Ti_AU \u001b[38;5;241m=\u001b[39m Ti_eV\u001b[38;5;241m*\u001b[39meV_to_AU\n\u001b[0;32m---> 18\u001b[0m aa_empty \u001b[38;5;241m=\u001b[39m \u001b[43mAverageAtomFactory\u001b[49m\u001b[38;5;241;43m.\u001b[39;49m\u001b[43mcreate_model\u001b[49m\u001b[43m(\u001b[49m\u001b[38;5;124;43m\"\u001b[39;49m\u001b[38;5;124;43mEmptyAtom\u001b[39;49m\u001b[38;5;124;43m\"\u001b[39;49m\u001b[43m,\u001b[49m\u001b[43m \u001b[49m\u001b[43mZ\u001b[49m\u001b[43m,\u001b[49m\u001b[43m \u001b[49m\u001b[43mA\u001b[49m\u001b[43m,\u001b[49m\u001b[43m \u001b[49m\u001b[43mTi_AU\u001b[49m\u001b[43m,\u001b[49m\u001b[43m \u001b[49m\u001b[43mTe_AU\u001b[49m\u001b[43m,\u001b[49m\u001b[43m \u001b[49m\u001b[43mrs\u001b[49m\u001b[43m,\u001b[49m\u001b[43m \u001b[49m\u001b[43mR\u001b[49m\u001b[43m)\u001b[49m\n",
      "File \u001b[0;32m~/plasma/average_atom/core/aa_types.py:14\u001b[0m, in \u001b[0;36mAverageAtomFactory.create_model\u001b[0;34m(model_type, Z, A, Ti, Te, rs, R, **kwargs)\u001b[0m\n\u001b[1;32m     12\u001b[0m     \u001b[38;5;28;01mreturn\u001b[39;00m TFStarret2014(Z, A, Ti, Te, rs, R, \u001b[38;5;241m*\u001b[39m\u001b[38;5;241m*\u001b[39mkwargs)\n\u001b[1;32m     13\u001b[0m \u001b[38;5;28;01melif\u001b[39;00m model_type \u001b[38;5;241m==\u001b[39m \u001b[38;5;124m'\u001b[39m\u001b[38;5;124mEmptyAtom\u001b[39m\u001b[38;5;124m'\u001b[39m:\n\u001b[0;32m---> 14\u001b[0m     \u001b[38;5;28;01mreturn\u001b[39;00m \u001b[43mEmptyAtom\u001b[49m\u001b[43m(\u001b[49m\u001b[43mZ\u001b[49m\u001b[43m,\u001b[49m\u001b[43m \u001b[49m\u001b[43mA\u001b[49m\u001b[43m,\u001b[49m\u001b[43m \u001b[49m\u001b[43mTi\u001b[49m\u001b[43m,\u001b[49m\u001b[43m \u001b[49m\u001b[43mTe\u001b[49m\u001b[43m,\u001b[49m\u001b[43m \u001b[49m\u001b[43mrs\u001b[49m\u001b[43m,\u001b[49m\u001b[43m \u001b[49m\u001b[43mR\u001b[49m\u001b[43m,\u001b[49m\u001b[43m \u001b[49m\u001b[38;5;241;43m*\u001b[39;49m\u001b[38;5;241;43m*\u001b[39;49m\u001b[43mkwargs\u001b[49m\u001b[43m)\u001b[49m\n\u001b[1;32m     15\u001b[0m \u001b[38;5;28;01melse\u001b[39;00m:\n\u001b[1;32m     16\u001b[0m     \u001b[38;5;28;01mraise\u001b[39;00m \u001b[38;5;167;01mValueError\u001b[39;00m(\u001b[38;5;124mf\u001b[39m\u001b[38;5;124m\"\u001b[39m\u001b[38;5;124mUnknown model type: \u001b[39m\u001b[38;5;132;01m{\u001b[39;00mmodel_type\u001b[38;5;132;01m}\u001b[39;00m\u001b[38;5;124m\"\u001b[39m)\n",
      "File \u001b[0;32m~/plasma/average_atom/core/aa_types.py:21\u001b[0m, in \u001b[0;36mEmptyAtom.__init__\u001b[0;34m(self, Z, A, Ti, Te, rs, R, **kwargs)\u001b[0m\n\u001b[1;32m     20\u001b[0m \u001b[38;5;28;01mdef\u001b[39;00m \u001b[38;5;21m__init__\u001b[39m(\u001b[38;5;28mself\u001b[39m, Z, A, Ti, Te, rs, R, \u001b[38;5;241m*\u001b[39m\u001b[38;5;241m*\u001b[39mkwargs):\n\u001b[0;32m---> 21\u001b[0m     \u001b[38;5;28;43msuper\u001b[39;49m\u001b[43m(\u001b[49m\u001b[43m)\u001b[49m\u001b[38;5;241;43m.\u001b[39;49m\u001b[38;5;21;43m__init__\u001b[39;49m\u001b[43m(\u001b[49m\u001b[43mZ\u001b[49m\u001b[43m,\u001b[49m\u001b[43m \u001b[49m\u001b[43mA\u001b[49m\u001b[43m,\u001b[49m\u001b[43m \u001b[49m\u001b[43mTi\u001b[49m\u001b[43m,\u001b[49m\u001b[43m \u001b[49m\u001b[43mTe\u001b[49m\u001b[43m,\u001b[49m\u001b[43m \u001b[49m\u001b[43mrs\u001b[49m\u001b[43m,\u001b[49m\u001b[43m \u001b[49m\u001b[43mR\u001b[49m\u001b[43m,\u001b[49m\u001b[43m \u001b[49m\u001b[38;5;241;43m*\u001b[39;49m\u001b[38;5;241;43m*\u001b[39;49m\u001b[43mkwargs\u001b[49m\u001b[43m)\u001b[49m\n\u001b[1;32m     22\u001b[0m     \u001b[38;5;28mself\u001b[39m\u001b[38;5;241m.\u001b[39mignore_vxc \u001b[38;5;241m=\u001b[39m kwargs\u001b[38;5;241m.\u001b[39mget(\u001b[38;5;124m'\u001b[39m\u001b[38;5;124mignore_vxc\u001b[39m\u001b[38;5;124m'\u001b[39m, \u001b[38;5;28;01mTrue\u001b[39;00m)\n\u001b[1;32m     23\u001b[0m     \u001b[38;5;28mself\u001b[39m\u001b[38;5;241m.\u001b[39maa_type \u001b[38;5;241m=\u001b[39m \u001b[38;5;124m\"\u001b[39m\u001b[38;5;124mEmpty\u001b[39m\u001b[38;5;124m\"\u001b[39m\n",
      "File \u001b[0;32m~/plasma/average_atom/core/average_atom_new.py:115\u001b[0m, in \u001b[0;36mAverageAtom.__init__\u001b[0;34m(self, Z, A, Ti, Te, rs, R, initialize, μ_init, Zstar_init, rmin, Npoints, iet_R_over_rs, iet_N_bins, name, ignore_vxc, fixed_Zstar, use_full_ne_for_nf, χ_type, gii_init_type, grid_spacing, N_stencil_oneside)\u001b[0m\n\u001b[1;32m    113\u001b[0m \u001b[38;5;28mself\u001b[39m\u001b[38;5;241m.\u001b[39mgii_init_type \u001b[38;5;241m=\u001b[39m gii_init_type \n\u001b[1;32m    114\u001b[0m \u001b[38;5;66;03m# Whether to include xc, mainly because libxc is an absolute pain\u001b[39;00m\n\u001b[0;32m--> 115\u001b[0m \u001b[38;5;28mself\u001b[39m\u001b[38;5;241m.\u001b[39mTF \u001b[38;5;241m=\u001b[39m \u001b[43mThomasFermi\u001b[49m\u001b[43m(\u001b[49m\u001b[38;5;28;43mself\u001b[39;49m\u001b[38;5;241;43m.\u001b[39;49m\u001b[43mTe\u001b[49m\u001b[43m,\u001b[49m\u001b[43m \u001b[49m\u001b[43mignore_vxc\u001b[49m\u001b[43m \u001b[49m\u001b[38;5;241;43m=\u001b[39;49m\u001b[43m \u001b[49m\u001b[43mignore_vxc\u001b[49m\u001b[43m \u001b[49m\u001b[43m)\u001b[49m\n\u001b[1;32m    116\u001b[0m \u001b[38;5;28mself\u001b[39m\u001b[38;5;241m.\u001b[39mignore_vxc \u001b[38;5;241m=\u001b[39m ignore_vxc\n\u001b[1;32m    117\u001b[0m \u001b[38;5;28;01mif\u001b[39;00m ignore_vxc \u001b[38;5;241m==\u001b[39m \u001b[38;5;28;01mFalse\u001b[39;00m:\n",
      "File \u001b[0;32m~/plasma/average_atom/core/physics.py:260\u001b[0m, in \u001b[0;36mThomasFermi.__init__\u001b[0;34m(self, T, ignore_vxc)\u001b[0m\n\u001b[1;32m    257\u001b[0m \u001b[38;5;28mself\u001b[39m\u001b[38;5;241m.\u001b[39mη_interp \u001b[38;5;241m=\u001b[39m np\u001b[38;5;241m.\u001b[39mvectorize(\u001b[38;5;28mself\u001b[39m\u001b[38;5;241m.\u001b[39mη_interp)\n\u001b[1;32m    259\u001b[0m \u001b[38;5;28;01mif\u001b[39;00m ignore_vxc \u001b[38;5;241m==\u001b[39m \u001b[38;5;28;01mFalse\u001b[39;00m:\n\u001b[0;32m--> 260\u001b[0m \t\u001b[38;5;28mself\u001b[39m\u001b[38;5;241m.\u001b[39mvxc_func \u001b[38;5;241m=\u001b[39m \u001b[38;5;28;43mself\u001b[39;49m\u001b[38;5;241;43m.\u001b[39;49m\u001b[43mfast_vxc\u001b[49m\u001b[43m(\u001b[49m\u001b[43m)\u001b[49m\n\u001b[1;32m    261\u001b[0m \u001b[38;5;28mself\u001b[39m\u001b[38;5;241m.\u001b[39mhλ_func \u001b[38;5;241m=\u001b[39m \u001b[38;5;28mself\u001b[39m\u001b[38;5;241m.\u001b[39mfast_hλ()\n\u001b[1;32m    263\u001b[0m \u001b[38;5;28mself\u001b[39m\u001b[38;5;241m.\u001b[39mhλprime_func \u001b[38;5;241m=\u001b[39m \u001b[38;5;28;01mlambda\u001b[39;00m η: (\u001b[38;5;28mself\u001b[39m\u001b[38;5;241m.\u001b[39mhλ_func(η\u001b[38;5;241m*\u001b[39m(\u001b[38;5;241m1\u001b[39m\u001b[38;5;241m+\u001b[39m\u001b[38;5;241m1e-5\u001b[39m))\u001b[38;5;241m-\u001b[39m\u001b[38;5;28mself\u001b[39m\u001b[38;5;241m.\u001b[39mhλ_func(η\u001b[38;5;241m*\u001b[39m(\u001b[38;5;241m1\u001b[39m\u001b[38;5;241m-\u001b[39m\u001b[38;5;241m1e-5\u001b[39m)))\u001b[38;5;241m/\u001b[39m(\u001b[38;5;241m2\u001b[39m\u001b[38;5;241m*\u001b[39m\u001b[38;5;241m1e-5\u001b[39m)\n",
      "File \u001b[0;32m~/plasma/average_atom/core/physics.py:387\u001b[0m, in \u001b[0;36mThomasFermi.fast_vxc\u001b[0;34m(self)\u001b[0m\n\u001b[1;32m    385\u001b[0m rhoe \u001b[38;5;241m=\u001b[39m np\u001b[38;5;241m.\u001b[39mgeomspace(\u001b[38;5;241m1e-5\u001b[39m,\u001b[38;5;241m1e8\u001b[39m,num\u001b[38;5;241m=\u001b[39m\u001b[38;5;241m10000\u001b[39m)\n\u001b[1;32m    386\u001b[0m vxc \u001b[38;5;241m=\u001b[39m \u001b[38;5;28;01mlambda\u001b[39;00m ρe: \u001b[38;5;28mself\u001b[39m\u001b[38;5;241m.\u001b[39mVxc_density_prime(ρe) \u001b[38;5;66;03m#NO CHAIN RULE, this is done by libxc\u001b[39;00m\n\u001b[0;32m--> 387\u001b[0m \u001b[38;5;28;01mreturn\u001b[39;00m np\u001b[38;5;241m.\u001b[39mvectorize(interp1d(rhoe, np\u001b[38;5;241m.\u001b[39marray([vxc(rho) \u001b[38;5;28;01mfor\u001b[39;00m rho \u001b[38;5;129;01min\u001b[39;00m rhoe]), bounds_error\u001b[38;5;241m=\u001b[39m\u001b[38;5;28;01mFalse\u001b[39;00m, fill_value\u001b[38;5;241m=\u001b[39m(\u001b[38;5;241m0\u001b[39m,\u001b[38;5;28;01mNone\u001b[39;00m) ))\n",
      "File \u001b[0;32m~/plasma/average_atom/core/physics.py:387\u001b[0m, in \u001b[0;36m<listcomp>\u001b[0;34m(.0)\u001b[0m\n\u001b[1;32m    385\u001b[0m rhoe \u001b[38;5;241m=\u001b[39m np\u001b[38;5;241m.\u001b[39mgeomspace(\u001b[38;5;241m1e-5\u001b[39m,\u001b[38;5;241m1e8\u001b[39m,num\u001b[38;5;241m=\u001b[39m\u001b[38;5;241m10000\u001b[39m)\n\u001b[1;32m    386\u001b[0m vxc \u001b[38;5;241m=\u001b[39m \u001b[38;5;28;01mlambda\u001b[39;00m ρe: \u001b[38;5;28mself\u001b[39m\u001b[38;5;241m.\u001b[39mVxc_density_prime(ρe) \u001b[38;5;66;03m#NO CHAIN RULE, this is done by libxc\u001b[39;00m\n\u001b[0;32m--> 387\u001b[0m \u001b[38;5;28;01mreturn\u001b[39;00m np\u001b[38;5;241m.\u001b[39mvectorize(interp1d(rhoe, np\u001b[38;5;241m.\u001b[39marray([\u001b[43mvxc\u001b[49m\u001b[43m(\u001b[49m\u001b[43mrho\u001b[49m\u001b[43m)\u001b[49m \u001b[38;5;28;01mfor\u001b[39;00m rho \u001b[38;5;129;01min\u001b[39;00m rhoe]), bounds_error\u001b[38;5;241m=\u001b[39m\u001b[38;5;28;01mFalse\u001b[39;00m, fill_value\u001b[38;5;241m=\u001b[39m(\u001b[38;5;241m0\u001b[39m,\u001b[38;5;28;01mNone\u001b[39;00m) ))\n",
      "File \u001b[0;32m~/plasma/average_atom/core/physics.py:386\u001b[0m, in \u001b[0;36mThomasFermi.fast_vxc.<locals>.<lambda>\u001b[0;34m(ρe)\u001b[0m\n\u001b[1;32m    384\u001b[0m \u001b[38;5;28;01mdef\u001b[39;00m \u001b[38;5;21mfast_vxc\u001b[39m(\u001b[38;5;28mself\u001b[39m):\n\u001b[1;32m    385\u001b[0m     rhoe \u001b[38;5;241m=\u001b[39m np\u001b[38;5;241m.\u001b[39mgeomspace(\u001b[38;5;241m1e-5\u001b[39m,\u001b[38;5;241m1e8\u001b[39m,num\u001b[38;5;241m=\u001b[39m\u001b[38;5;241m10000\u001b[39m)\n\u001b[0;32m--> 386\u001b[0m     vxc \u001b[38;5;241m=\u001b[39m \u001b[38;5;28;01mlambda\u001b[39;00m ρe: \u001b[38;5;28;43mself\u001b[39;49m\u001b[38;5;241;43m.\u001b[39;49m\u001b[43mVxc_density_prime\u001b[49m\u001b[43m(\u001b[49m\u001b[43mρe\u001b[49m\u001b[43m)\u001b[49m \u001b[38;5;66;03m#NO CHAIN RULE, this is done by libxc\u001b[39;00m\n\u001b[1;32m    387\u001b[0m     \u001b[38;5;28;01mreturn\u001b[39;00m np\u001b[38;5;241m.\u001b[39mvectorize(interp1d(rhoe, np\u001b[38;5;241m.\u001b[39marray([vxc(rho) \u001b[38;5;28;01mfor\u001b[39;00m rho \u001b[38;5;129;01min\u001b[39;00m rhoe]), bounds_error\u001b[38;5;241m=\u001b[39m\u001b[38;5;28;01mFalse\u001b[39;00m, fill_value\u001b[38;5;241m=\u001b[39m(\u001b[38;5;241m0\u001b[39m,\u001b[38;5;28;01mNone\u001b[39;00m) ))\n",
      "File \u001b[0;32m~/plasma/average_atom/core/physics.py:382\u001b[0m, in \u001b[0;36mThomasFermi.Vxc_density_prime\u001b[0;34m(self, rho, *args)\u001b[0m\n\u001b[1;32m    380\u001b[0m d2fdrho2  \u001b[38;5;241m=\u001b[39m \u001b[38;5;28;01mlambda\u001b[39;00m rho: libxc_func\u001b[38;5;241m.\u001b[39mcompute({\u001b[38;5;124m'\u001b[39m\u001b[38;5;124mrho\u001b[39m\u001b[38;5;124m'\u001b[39m:rho})[\u001b[38;5;124m'\u001b[39m\u001b[38;5;124mv2rho2\u001b[39m\u001b[38;5;124m'\u001b[39m][\u001b[38;5;241m0\u001b[39m,\u001b[38;5;241m0\u001b[39m]\n\u001b[1;32m    381\u001b[0m \u001b[38;5;66;03m# vdfdrho = np.vectorize(dfdrho)\u001b[39;00m\n\u001b[0;32m--> 382\u001b[0m \u001b[38;5;28;01mreturn\u001b[39;00m \u001b[43md2fdrho2\u001b[49m\u001b[43m(\u001b[49m\u001b[43mrho\u001b[49m\u001b[43m)\u001b[49m\n",
      "File \u001b[0;32m~/plasma/average_atom/core/physics.py:380\u001b[0m, in \u001b[0;36mThomasFermi.Vxc_density_prime.<locals>.<lambda>\u001b[0;34m(rho)\u001b[0m\n\u001b[1;32m    374\u001b[0m \u001b[38;5;250m\u001b[39m\u001b[38;5;124;03m\"\"\"\u001b[39;00m\n\u001b[1;32m    375\u001b[0m \u001b[38;5;124;03mFull functional derivative of Vxc, delta Vxc/delta n, or if Vxc = integral(vxc), then \u001b[39;00m\n\u001b[1;32m    376\u001b[0m \u001b[38;5;124;03mthis function returns  \u001b[39;00m\n\u001b[1;32m    377\u001b[0m \u001b[38;5;124;03m    delta^2 Vxc/delta n delta n = vxc + n d(vxc)/dn\u001b[39;00m\n\u001b[1;32m    378\u001b[0m \u001b[38;5;124;03m\"\"\"\u001b[39;00m\n\u001b[1;32m    379\u001b[0m libxc_func  \u001b[38;5;241m=\u001b[39m pylibxc\u001b[38;5;241m.\u001b[39mLibXCFunctional(\u001b[38;5;124m\"\u001b[39m\u001b[38;5;124mLDA_XC_GDSMFB\u001b[39m\u001b[38;5;124m\"\u001b[39m,\u001b[38;5;124m'\u001b[39m\u001b[38;5;124munpolarized\u001b[39m\u001b[38;5;124m'\u001b[39m)\n\u001b[0;32m--> 380\u001b[0m d2fdrho2  \u001b[38;5;241m=\u001b[39m \u001b[38;5;28;01mlambda\u001b[39;00m rho: \u001b[43mlibxc_func\u001b[49m\u001b[38;5;241;43m.\u001b[39;49m\u001b[43mcompute\u001b[49m\u001b[43m(\u001b[49m\u001b[43m{\u001b[49m\u001b[38;5;124;43m'\u001b[39;49m\u001b[38;5;124;43mrho\u001b[39;49m\u001b[38;5;124;43m'\u001b[39;49m\u001b[43m:\u001b[49m\u001b[43mrho\u001b[49m\u001b[43m}\u001b[49m\u001b[43m)\u001b[49m\u001b[43m[\u001b[49m\u001b[38;5;124;43m'\u001b[39;49m\u001b[38;5;124;43mv2rho2\u001b[39;49m\u001b[38;5;124;43m'\u001b[39;49m\u001b[43m]\u001b[49m[\u001b[38;5;241m0\u001b[39m,\u001b[38;5;241m0\u001b[39m]\n\u001b[1;32m    381\u001b[0m \u001b[38;5;66;03m# vdfdrho = np.vectorize(dfdrho)\u001b[39;00m\n\u001b[1;32m    382\u001b[0m \u001b[38;5;28;01mreturn\u001b[39;00m d2fdrho2(rho)\n",
      "\u001b[0;31mKeyError\u001b[0m: 'v2rho2'"
     ]
    }
   ],
   "source": [
    "# Aluminum\n",
    "name='Al'\n",
    "Z, A = 13, 27 \n",
    "\n",
    "ρ_solid = 2.699 #g/cc, the solid density of aluminum \n",
    "ρ = ρ_solid#8.1 # g/cc\n",
    "ni_cc = ρ/(A*amu_to_AU*AU_to_g)\n",
    "ni_AU = ni_cc*invcc_to_AU\n",
    "rs = rs_from_n(ni_AU)\n",
    "R  = rs\n",
    "\n",
    "Ti_eV = 1 \n",
    "Te_eV = 1\n",
    "\n",
    "Te_AU = Te_eV*eV_to_AU\n",
    "Ti_AU = Ti_eV*eV_to_AU\n",
    "\n",
    "aa_empty = AverageAtomFactory.create_model(\"EmptyAtom\", Z, A, Ti_AU, Te_AU, rs, R)"
   ]
  },
  {
   "cell_type": "code",
   "execution_count": null,
   "id": "9c66790a-3663-40d4-8893-1ee46803e674",
   "metadata": {},
   "outputs": [],
   "source": []
  }
 ],
 "metadata": {
  "kernelspec": {
   "display_name": "Python 3 (ipykernel)",
   "language": "python",
   "name": "python3"
  },
  "language_info": {
   "codemirror_mode": {
    "name": "ipython",
    "version": 3
   },
   "file_extension": ".py",
   "mimetype": "text/x-python",
   "name": "python",
   "nbconvert_exporter": "python",
   "pygments_lexer": "ipython3",
   "version": "3.10.6"
  }
 },
 "nbformat": 4,
 "nbformat_minor": 5
}
