{
 "cells": [
  {
   "cell_type": "code",
   "execution_count": 1,
   "id": "faf6d1dd-bc49-4838-a508-126681f0f827",
   "metadata": {
    "editable": true,
    "slideshow": {
     "slide_type": ""
    },
    "tags": []
   },
   "outputs": [
    {
     "name": "stdout",
     "output_type": "stream",
     "text": [
      "Error:  name 'physics' is not defined\n",
      "ModuleNotFoundError: No module named 'mendeleev'\n"
     ]
    }
   ],
   "source": [
    "import numpy as np\n",
    "import pandas as pd\n",
    "\n",
    "\n",
    "from average_atom.core.average_atom import NeutralPseudoAtom as NPA\n",
    "from average_atom.core.misc import jacobi_relaxation, sor\n",
    "from average_atom.core.grids import NonUniformGrid\n",
    "from average_atom.core.physics import ThomasFermi, FermiDirac\n",
    "\n",
    "from importlib import reload\n",
    "try:\n",
    "    reload(physics)\n",
    "    reload(grids)\n",
    "    reload(average_atom_geometric)\n",
    "#     reload(average_atom)\n",
    "    reload(misc)\n",
    "except NameError as e:\n",
    "    from average_atom.core import physics as physics\n",
    "    from average_atom.core import average_atom as average_atom\n",
    "    from average_atom.core import misc as misc\n",
    "    from average_atom.core import grids as grids\n",
    "    print(\"Error: \",e)\n",
    "except Exception as e:\n",
    "    print(\"Unexpected error during reload\")\n",
    "    print(e)\n",
    "\n",
    "import matplotlib.pyplot as plt\n",
    "\n",
    "from hnc.hnc.constants import *\n",
    "from hnc.hnc.misc import rs_from_n, n_from_rs\n",
    "\n",
    "import cProfile\n",
    "\n",
    "plt.rcParams.update({'font.size': 10})\n",
    "plt.rcParams[\"figure.figsize\"] = (5,3.5)\n",
    "plt.rcParams[\"figure.dpi\"] = 200\n",
    "plt.rcParams['xtick.labelsize']=14\n",
    "\n",
    "\n",
    "color_cycle = plt.rcParams['axes.prop_cycle'].by_key()['color']\n",
    "\n"
   ]
  },
  {
   "cell_type": "code",
   "execution_count": 2,
   "id": "54305b4e-cfc1-446f-bc7a-1aecf2b8e892",
   "metadata": {
    "editable": true,
    "scrolled": true,
    "slideshow": {
     "slide_type": ""
    },
    "tags": []
   },
   "outputs": [
    {
     "name": "stdout",
     "output_type": "stream",
     "text": [
      "________________________\n",
      "Generating NPA\n",
      "Using More TF fit for initial Zstar = 2.495\n",
      "\tIntializing grid\n",
      "Initializing, True\n",
      "Initializing\n",
      "\tCreating Integral Equation Solver\n",
      "Intialized Potentials and Densities\n",
      "Initialized\n",
      "________________________\n",
      "Generating NPA\n",
      "Using More TF fit for initial Zstar = 2.495\n",
      "\tIntializing grid\n",
      "Initializing, True\n",
      "Initializing\n",
      "\tCreating Integral Equation Solver\n",
      "\t-------------------\n",
      "\tSolving IET.\n",
      "0: Initial condition Total Error: 6.985e+02\n",
      "Exiting status 0, reverting to best index so far: 1236\n",
      "Final iter:1237, Total Error: 9.838e-13\n",
      "Intialized Potentials and Densities\n",
      "Initialized\n"
     ]
    }
   ],
   "source": [
    "# Aluminuma\n",
    "name='Al'\n",
    "Z, A = 13, 27 \n",
    "\n",
    "ρ_solid = 2.699 #g/cc, the solid density of aluminum \n",
    "ρ = ρ_solid#8.1 # g/cc\n",
    "ni_cc = ρ/(A*amu_to_AU*AU_to_g)\n",
    "ni_AU = ni_cc*invcc_to_AU\n",
    "rs = rs_from_n(ni_AU)\n",
    "\n",
    "Ti_eV = 1 \n",
    "Te_eV = 1\n",
    "\n",
    "Te_AU = Te_eV*eV_to_AU\n",
    "Ti_AU = Ti_eV*eV_to_AU\n",
    "\n",
    "# Hydrogen\n",
    "# name='H'\n",
    "# Z, A = 1, 1.00784\n",
    "\n",
    "# Te_eV = 2 \n",
    "# Te_AU = Te_eV*eV_to_AU\n",
    "\n",
    "# Ti_eV = 2\n",
    "# Ti_AU = Ti_eV*eV_to_AU\n",
    "\n",
    "# ρ_gpercc = 1\n",
    "# ni_invcc = ρ_gpercc/(A*amu_to_AU*AU_to_g)\n",
    "# ni_AU = ni_invcc*invcc_to_AU\n",
    "# rs = rs_from_n(ni_AU)\n",
    "\n",
    "# Carbon\n",
    "# name = 'C'\n",
    "# Z, A = 6, 12.011\n",
    "\n",
    "# ρ_gpercc = 2.267\n",
    "# ni_invcc = ρ_gpercc/(A*amu_to_AU*AU_to_g)\n",
    "# ni_AU = ni_invcc*invcc_to_AU\n",
    "# rs = rs_from_n(ni_AU)\t\t\t\t\t\t\tprint(\"YO\")\n",
    "\n",
    "\n",
    "# Ti_eV = 0.5 \n",
    "# Te_eV = 0.5\n",
    "\n",
    "# Te_AU = Te_eV*eV_to_AU\n",
    "# Ti_AU = Ti_eV*eV_to_AU\n",
    "\n",
    "####\n",
    "R = 10*rs\n",
    "rmin = rs/1000\n",
    "ignore_vxc = False\n",
    "fixed_Zstar = False\n",
    "\n",
    "aa_kwargs = {'initialize':True, 'gradient_correction':None, 'μ_init' : 0.158, 'Zstar_init' : 'More', 'rmin': 1e-3,'Npoints':500,\n",
    "             'name':name, 'ignore_vxc':ignore_vxc, 'fixed_Zstar':fixed_Zstar, 'iet_R_over_rs':R/rs, 'iet_N_bins':5000, 'use_full_ne_for_nf':False,\n",
    "            'gii_init_type': 'step'}\n",
    "npa_kwargs = {'initialize':True, 'gradient_correction':None,'μ_init' : 0.158, 'Zstar_init' : 'More', 'rmin':1e-3 ,'Npoints':1000, \n",
    "              'name':name,'ignore_vxc':ignore_vxc, 'fixed_Zstar':fixed_Zstar, 'iet_R_over_rs':R/rs, 'iet_N_bins':10000, 'use_full_ne_for_nf':False,\n",
    "             'gii_init_type': 'iet', 'grid_spacing':'quadratic','N_stencil_oneside':2}\n",
    "\n",
    "aa = NPA(Z, A, Ti_AU, Te_AU, rs, rs, **aa_kwargs)\n",
    "npa = NPA(Z, A, Ti_AU, Te_AU, rs, R, **npa_kwargs)\n",
    "# npa_2 = NPA(Z, A, Ti_AU, Te_AU, rs, R, **npa_kwargs)"
   ]
  },
  {
   "cell_type": "markdown",
   "id": "e4962ed4-a26d-4664-a796-8357e2e62d52",
   "metadata": {
    "editable": true,
    "slideshow": {
     "slide_type": ""
    },
    "tags": []
   },
   "source": [
    "### Thomas Fermi (TF)"
   ]
  },
  {
   "cell_type": "code",
   "execution_count": 4,
   "id": "3f344bda-6c5f-437d-bba0-1a624862f3a9",
   "metadata": {
    "editable": true,
    "scrolled": true,
    "slideshow": {
     "slide_type": ""
    },
    "tags": []
   },
   "outputs": [
    {
     "name": "stdout",
     "output_type": "stream",
     "text": [
      "Beginning self-consistent electron solver.\n",
      "_________________________________\n",
      "__________________________________________\n",
      "TF Iteration 0\n",
      "\tμ = -9.930672522e-01, change: 5.474548899e-01 (converged=False)\n",
      "\tφe Err =       -inf, φe change =  6.929e-01\n",
      "\tne Err =  1.448e-01, ne change =  1.223e-03\n",
      "\tQ =  0.000e+00 ->  1.731e+00, \n",
      "\tZstar guess =  2.495e+00. Current Zstar:  2.495e+00 (converged=True)\n",
      "\tChange =  1.076e+00\n",
      "__________________________________________\n",
      "TF Iteration 1\n",
      "\tμ = -6.248792727e-01, change: 3.707583537e-01 (converged=False)\n",
      "\tφe Err =       -inf, φe change =  5.111e-02\n",
      "\tne Err =  1.398e-01, ne change =  6.717e-04\n",
      "\tQ =  1.731e+00 ->  1.906e+00, \n",
      "\tZstar guess =  2.495e+00. Current Zstar:  2.495e+00 (converged=True)\n",
      "\tChange =  3.712e-01\n",
      "__________________________________________\n",
      "TF Iteration 2\n",
      "\tμ = -4.691619352e-01, change: 2.491958755e-01 (converged=False)\n",
      "\tφe Err =       -inf, φe change =  1.203e-02\n",
      "\tne Err =  9.739e-02, ne change =  2.766e-04\n",
      "\tQ =  1.906e+00 ->  1.561e+00, \n",
      "\tZstar guess =  2.495e+00. Current Zstar:  2.495e+00 (converged=True)\n",
      "\tChange =  2.039e-01\n",
      "__________________________________________\n",
      "TF Iteration 3\n",
      "\tμ = -3.495415965e-01, change: 2.549659930e-01 (converged=False)\n",
      "\tφe Err =       -inf, φe change =  1.024e-02\n",
      "\tne Err =  6.489e-02, ne change =  9.899e-05\n",
      "\tQ =  1.561e+00 ->  1.253e+00, \n",
      "\tZstar guess =  2.495e+00. Current Zstar:  2.495e+00 (converged=True)\n",
      "\tChange =  2.067e-01\n",
      "__________________________________________\n",
      "TF Iteration 4\n",
      "\tμ = -2.457515241e-01, change: 2.969319632e-01 (converged=False)\n",
      "\tφe Err =       -inf, φe change =  5.854e-03\n",
      "\tne Err =  4.629e-02, ne change =  4.067e-05\n",
      "\tQ =  1.253e+00 ->  1.038e+00, \n",
      "\tZstar guess =  2.495e+00. Current Zstar:  2.495e+00 (converged=True)\n",
      "\tChange =  2.431e-01\n",
      "__________________________________________\n",
      "TF Iteration 5\n",
      "\tμ = -2.456922161e-01, change: 2.413328099e-04 (converged=False)\n",
      "\tφe Err =       -inf, φe change =  3.225e-03\n",
      "\tne Err =  1.785e-02, ne change =  2.477e-05\n",
      "\tQ =  1.038e+00 ->  8.920e-01, \n",
      "\tZstar guess =  2.495e+00. Current Zstar:  2.495e+00 (converged=True)\n",
      "\tChange =  2.595e-03\n",
      "__________________________________________\n",
      "TF Iteration 6\n",
      "\tμ = -2.455707229e-01, change: 4.944936429e-04 (converged=False)\n",
      "\tφe Err =       -inf, φe change =  2.854e-03\n",
      "\tne Err =  1.316e-02, ne change =  1.103e-05\n",
      "\tQ =  8.920e-01 ->  1.096e+00, \n",
      "\tZstar guess =  2.495e+00. Current Zstar:  2.495e+00 (converged=True)\n",
      "\tChange =  3.970e-03\n",
      "__________________________________________\n",
      "TF Iteration 7\n",
      "\tμ = -2.453964821e-01, change: 7.095343015e-04 (converged=False)\n",
      "\tφe Err =       -inf, φe change =  2.236e-03\n",
      "\tne Err =  1.618e-02, ne change =  5.500e-06\n",
      "\tQ =  1.096e+00 ->  1.439e+00, \n",
      "\tZstar guess =  2.495e+00. Current Zstar:  2.495e+00 (converged=True)\n",
      "\tChange =  3.454e-03\n",
      "__________________________________________\n",
      "TF Iteration 8\n",
      "\tμ = -2.451828402e-01, change: 8.705988795e-04 (converged=False)\n",
      "\tφe Err =       -inf, φe change =  1.456e-03\n",
      "\tne Err =  1.601e-02, ne change =  3.705e-06\n",
      "\tQ =  1.439e+00 ->  1.789e+00, \n",
      "\tZstar guess =  2.495e+00. Current Zstar:  2.495e+00 (converged=True)\n",
      "\tChange =  2.512e-03\n",
      "__________________________________________\n",
      "TF Iteration 9\n",
      "\tμ = -2.449424311e-01, change: 9.805298866e-04 (converged=False)\n",
      "\tφe Err =       -inf, φe change =  8.543e-04\n",
      "\tne Err =  1.362e-02, ne change =  2.192e-06\n",
      "\tQ =  1.789e+00 ->  2.084e+00, \n",
      "\tZstar guess =  2.495e+00. Current Zstar:  2.495e+00 (converged=True)\n",
      "\tChange =  1.717e-03\n",
      "__________________________________________\n",
      "TF Iteration 25\n",
      "\tμ = 2.834308919e-01, change: 0.000000000e+00 (converged=True)\n",
      "\tφe Err =       -inf, φe change =  5.281e-04\n",
      "\tne Err =  4.837e-03, ne change =  2.704e-06\n",
      "\tQ =  6.057e-02 ->  9.442e-02, \n",
      "\tZstar guess =  2.495e+00. Current Zstar:  2.495e+00 (converged=True)\n",
      "\tChange =  7.122e-04\n",
      "__________________________________________\n",
      "TF Iteration 50\n",
      "\tμ = 3.302459090e-01, change: 9.207512250e-03 (converged=False)\n",
      "\tφe Err =       -inf, φe change =  2.735e-06\n",
      "\tne Err =  1.027e-03, ne change =  8.322e-09\n",
      "\tQ =  3.147e-02 ->  3.377e-02, \n",
      "\tZstar guess =  2.495e+00. Current Zstar:  2.495e+00 (converged=True)\n",
      "\tChange =  6.482e-03\n",
      "__________________________________________\n",
      "TF Iteration 75\n",
      "\tμ = 3.526866197e-01, change: 0.000000000e+00 (converged=True)\n",
      "\tφe Err =       -inf, φe change =  2.463e-05\n",
      "\tne Err =  1.951e-04, ne change =  1.277e-07\n",
      "\tQ =  5.292e-03 ->  7.122e-03, \n",
      "\tZstar guess =  3.374e+00. Current Zstar:  3.361e+00 (converged=False)\n",
      "\tChange =  3.306e-05\n",
      "__________________________________________\n",
      "TF Iteration 100\n",
      "\tμ = 3.554705585e-01, change: 3.815383090e-03 (converged=False)\n",
      "\tφe Err =       -inf, φe change =  3.103e-06\n",
      "\tne Err =  4.214e-04, ne change =  6.327e-09\n",
      "\tQ =  1.195e-02 ->  1.396e-02, \n",
      "\tZstar guess =  3.389e+00. Current Zstar:  3.389e+00 (converged=True)\n",
      "\tChange =  2.696e-03\n",
      "__________________________________________\n",
      "TF Iteration 125\n",
      "\tμ = 3.559473369e-01, change: 0.000000000e+00 (converged=True)\n",
      "\tφe Err =       -inf, φe change =  3.491e-07\n",
      "\tne Err =  2.663e-06, ne change =  1.793e-09\n",
      "\tQ =  3.236e-05 ->  5.132e-05, \n",
      "\tZstar guess =  3.394e+00. Current Zstar:  3.394e+00 (converged=False)\n",
      "\tChange =  4.699e-07\n",
      "__________________________________________\n",
      "TF Iteration 150\n",
      "\tμ = 3.559839287e-01, change: 5.877138344e-06 (converged=True)\n",
      "\tφe Err =       -inf, φe change =  5.858e-09\n",
      "\tne Err =  6.844e-07, ne change =  1.153e-11\n",
      "\tQ =  2.034e-05 ->  2.265e-05, \n",
      "\tZstar guess =  3.394e+00. Current Zstar:  3.394e+00 (converged=True)\n",
      "\tChange =  4.162e-06\n",
      "__________________________________________\n",
      "TF Iteration 175\n",
      "\tμ = 3.559847357e-01, change: 0.000000000e+00 (converged=True)\n",
      "\tφe Err =       -inf, φe change =  9.069e-10\n",
      "\tne Err =  5.922e-09, ne change =  3.639e-12\n",
      "\tQ =  1.135e-07 ->  5.761e-08, \n",
      "\tZstar guess =  3.394e+00. Current Zstar:  3.394e+00 (converged=True)\n",
      "\tChange =  1.195e-09\n",
      "\t-------------------\n",
      "\tSolving IET.\n",
      "0: Initial condition Total Error: 8.771e+02\n"
     ]
    },
    {
     "name": "stderr",
     "output_type": "stream",
     "text": [
      "/home/zach/plasma/average_atom/core/average_atom.py:557: RuntimeWarning: divide by zero encountered in divide\n",
      "  rel_errs = (np.abs(A @ φe - b)[:-1]/b[:-1])\n"
     ]
    },
    {
     "name": "stdout",
     "output_type": "stream",
     "text": [
      "Exiting status 0, reverting to best index so far: 3606\n",
      "Final iter:3607, Total Error: 9.934e-13\n",
      "0: Initial condition Total Error: 9.934e-13\n",
      "Exiting status 0, reverting to best index so far: 1\n",
      "Final iter:2, Total Error: 9.929e-13\n",
      "CPU times: user 1min 7s, sys: 1min 57s, total: 3min 5s\n",
      "Wall time: 40.6 s\n"
     ]
    }
   ],
   "source": [
    "%%time\n",
    "from scipy.interpolate import interp1d\n",
    "aa.solve_TF(verbose=True, picard_alpha=0.5, tol=1e-8, n_wait_update_Zstar= 50)\n",
    "aa.set_uii_eff()\n",
    "aa.iet.HNC_solve(iters_to_wait=1e5, alpha_Picard=1e-2, tol=1e-12, verbose=False, num_iterations=1e5)\n",
    "aa.gii = interp1d(aa.iet.r_array*aa.rs, aa.iet.h_r_matrix[0,0]+1, bounds_error=False, fill_value='extrapolate')(aa.grid.xs)\n",
    "# npa_2.gii = interp1d(npa.iet.r_array*npa.rs, aa.iet.h_r_matrix[0,0]+1, bounds_error=False, fill_value='extrapolate')(npa.grid.xs)\n",
    "aa.make_ρi()"
   ]
  },
  {
   "cell_type": "code",
   "execution_count": 23,
   "id": "4ebae697-3769-4a00-8caa-61055be6e6fc",
   "metadata": {
    "tags": []
   },
   "outputs": [
    {
     "data": {
      "text/plain": [
       "((500,), (500, 500))"
      ]
     },
     "execution_count": 23,
     "metadata": {},
     "output_type": "execute_result"
    }
   ],
   "source": [
    "from average_atom.core.solvers import Ndiageig\n",
    "\n",
    "A = -0.5*aa.grid.A_laplace# + np.diag(aa.get_βVeff(aa.φe, aa.ne, aa.ne_bar))\n",
    "\n",
    "sol = Ndiageig(A, aa.N_stencil_oneside)\n",
    "sol[0].shape, sol[1].shape"
   ]
  },
  {
   "cell_type": "code",
   "execution_count": 24,
   "id": "24a14460-26d2-4f70-a150-7da68692cc3d",
   "metadata": {
    "tags": []
   },
   "outputs": [
    {
     "data": {
      "image/png": "[encoded data removed]",
      "text/plain": [
       "<Figure size 1000x700 with 1 Axes>"
      ]
     },
     "metadata": {},
     "output_type": "display_data"
    }
   ],
   "source": [
    "fig, ax = plt.subplots()\n",
    "\n",
    "ax.plot(sol[0])\n",
    "ax.set_yscale('symlog')\n",
    "ax.set_xscale('log')"
   ]
  },
  {
   "cell_type": "code",
   "execution_count": 22,
   "id": "545634d3-f909-486b-9aba-4397872a66c1",
   "metadata": {
    "tags": []
   },
   "outputs": [
    {
     "data": {
      "image/png": "[encoded data removed]",
      "text/plain": [
       "<Figure size 1000x700 with 1 Axes>"
      ]
     },
     "metadata": {},
     "output_type": "display_data"
    }
   ],
   "source": [
    "fig, ax = plt.subplots()\n",
    "\n",
    "ax.plot(sol[0][0])\n",
    "ax.set_yscale('symlog')\n",
    "ax.set_xscale('log')"
   ]
  },
  {
   "cell_type": "code",
   "execution_count": null,
   "id": "9bfdfc0e-092a-4a7a-aff1-f26d40dc75ba",
   "metadata": {
    "editable": true,
    "slideshow": {
     "slide_type": ""
    },
    "tags": []
   },
   "outputs": [],
   "source": [
    "def get_Eii(aa):\n",
    "    βVeff = aa.get_βVeff(aa.φe, aa.ne, aa.ne_bar)\n",
    "    η = aa.μ/aa.Te - βVeff\n",
    "    βU = aa.grid.integrate_f(βVeff*aa.ne)\n",
    "    I_onehalf = FermiDirac.Ionehalf(η)\n",
    "    I_threehalf = FermiDirac.Ithreehalf(η)\n",
    "    \n",
    "    βK = (2*aa.Te)**1.5/π**2 * aa.grid.integrate_f( η*I_onehalf - 2/3 * I_threehalf   )\n",
    "    return βU, βK, βU + βK\n",
    "\n",
    "def get_ETF(aa):\n",
    "    \n",
    "def get_Exc(aa):\n",
    "    aa.vxc\n",
    "\n",
    "def get_E_Hartree(aa):\n",
    "    \n",
    "    \n",
    "    \n",
    "\n",
    "# get_E(aa_tfd), get_E(npa_tfd)"
   ]
  },
  {
   "cell_type": "code",
   "execution_count": null,
   "id": "a1668779-6b99-4c2d-80f7-a388e9146876",
   "metadata": {
    "tags": []
   },
   "outputs": [],
   "source": [
    "def get_P(aa):\n",
    "    aa_old_βu = aa.iet.βu_r_matrix.copy()\n",
    "    # aa.iet.set_βu_matrix( np.array([[1/aa.Ti * aa.Zstar**2/(aa.iet.r_array*aa.rs) ]] ))\n",
    "    P_id_hnc, P_ex_hnc, P_hnc = aa.iet.ideal_pressure(), aa.iet.excess_pressure(), aa.iet.total_pressure()\n",
    "    P_id_AU, P_ex_AU, P_AU  = P_id_hnc/rs**3, P_ex_hnc/rs**3, P_hnc/rs**3\n",
    "    aa.iet.set_βu_matrix(aa_old_βu)\n",
    "    return P_id_AU, P_ex_AU, P_AU\n",
    "\n",
    "aa_P_ions = get_P(aa_tfd)\n",
    "aa_P_ions[1]/aa_P_ions[0]"
   ]
  }
 ],
 "metadata": {
  "kernelspec": {
   "display_name": "Python 3 (ipykernel)",
   "language": "python",
   "name": "python3"
  },
  "language_info": {
   "codemirror_mode": {
    "name": "ipython",
    "version": 3
   },
   "file_extension": ".py",
   "mimetype": "text/x-python",
   "name": "python",
   "nbconvert_exporter": "python",
   "pygments_lexer": "ipython3",
   "version": "3.10.6"
  }
 },
 "nbformat": 4,
 "nbformat_minor": 5
}
