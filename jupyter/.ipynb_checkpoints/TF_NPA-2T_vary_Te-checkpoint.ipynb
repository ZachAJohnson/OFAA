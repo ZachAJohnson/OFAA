{
 "cells": [
  {
   "cell_type": "code",
   "execution_count": 1,
   "id": "faf6d1dd-bc49-4838-a508-126681f0f827",
   "metadata": {
    "tags": []
   },
   "outputs": [
    {
     "name": "stdout",
     "output_type": "stream",
     "text": [
      "ModuleNotFoundError: No module named 'mendeleev'\n",
      "Error:  name 'physics' is not defined\n"
     ]
    }
   ],
   "source": [
    "import numpy as np\n",
    "import pandas as pd\n",
    "\n",
    "# from atomic_forces.average_atom.python.average_atom import NeutralPseudoAtom as NPA\n",
    "from atomic_forces.average_atom.python.average_atom_geometric import NeutralPseudoAtom as NPA\n",
    "# from atomic_forces.average_atom.python.average_atom_geometric import load_NPA\n",
    "from atomic_forces.average_atom.python.misc import jacobi_relaxation, sor\n",
    "from atomic_forces.average_atom.python.grids import NonUniformGrid\n",
    "# from atomic_forces.average_atom.python.average_atom import load_NPA\n",
    "from atomic_forces.average_atom.python.physics import ThomasFermi, FermiDirac, More_TF_Zbar\n",
    "\n",
    "from importlib import reload\n",
    "try:\n",
    "    reload(physics)\n",
    "    reload(grids)\n",
    "    reload(average_atom_geometric)\n",
    "#     reload(average_atom)\n",
    "    reload(misc)\n",
    "except NameError as e:\n",
    "    from atomic_forces.average_atom.python import physics as physics\n",
    "    from atomic_forces.average_atom.python import average_atom_geometric as average_atom_geometric\n",
    "#     from atomic_forces.average_atom.python import average_atom as average_atom\n",
    "    from atomic_forces.average_atom.python import misc as misc\n",
    "    from atomic_forces.average_atom.python import grids as grids\n",
    "    print(\"Error: \",e)\n",
    "except Exception as e:\n",
    "    print(\"Unexpected error during reload\")\n",
    "    print(e)\n",
    "\n",
    "\n",
    "import matplotlib.pyplot as plt\n",
    "\n",
    "from hnc.hnc.constants import *\n",
    "from hnc.hnc.misc import rs_from_n, n_from_rs\n",
    "\n",
    "import cProfile\n",
    "\n",
    "plt.rcParams.update({'font.size': 14})\n",
    "plt.rcParams[\"figure.figsize\"] = (8,6)\n",
    "plt.rcParams['xtick.labelsize']=14\n"
   ]
  },
  {
   "cell_type": "code",
   "execution_count": null,
   "id": "54305b4e-cfc1-446f-bc7a-1aecf2b8e892",
   "metadata": {
    "scrolled": true,
    "tags": []
   },
   "outputs": [
    {
     "name": "stdout",
     "output_type": "stream",
     "text": [
      "______________________\n",
      "______________________\n",
      "Iteration 0/20, Te = 0.50 [eV]\n",
      "________________________\n",
      "Generating NPA\n",
      "Using More TF fit for initial Zstar = 2.478\n",
      "\tIntializing grid\n",
      "\tCreating Integral Equation Solver\n",
      "Intialized Potentials and Densities\n"
     ]
    }
   ],
   "source": [
    "# Aluminum\n",
    "name='Al'\n",
    "Z, A = 13, 27 \n",
    "\n",
    "Ti_eV = 1 \n",
    "# Te_eV = 10\n",
    "\n",
    "# Te_AU = Te_eV*eV_to_AU\n",
    "Ti_AU = Ti_eV*eV_to_AU\n",
    "\n",
    "rs = 2.985767276908717\n",
    "\n",
    "####\n",
    "R = 20*rs\n",
    "\n",
    "aa_kwargs = {'initialize':True, 'gradient_correction':None, 'μ_init' : 0.158, 'Zstar_init' : 'More', 'rmin':2e-2 ,'Npoints':300,\n",
    "             'name':name, 'ignore_vxc':False, 'fixed_Zstar':False, 'iet_R_over_rs':R/rs, 'iet_N_bins':5000, 'use_full_ne_for_nf':False}\n",
    "npa_kwargs = {'initialize':True, 'gradient_correction':None,'μ_init' : 0.158, 'Zstar_init' : 'More', 'rmin':1e-2 ,'Npoints':2000, \n",
    "              'name':name,'ignore_vxc':False, 'fixed_Zstar':False, 'iet_R_over_rs':R/rs*3, 'use_full_ne_for_nf':False}\n",
    "\n",
    "Te_eV_array = Ti_eV*np.geomspace(0.5,2000, num=20)\n",
    "aa_list = []; npa_list = []\n",
    "for i, Te_eV in enumerate(Te_eV_array):\n",
    "    print(\"______________________\")\n",
    "    print(\"______________________\")\n",
    "    print(f\"Iteration {i}/{len(Te_eV_array)}, Te = {Te_eV:0.2f} [eV]\")\n",
    "    Te_AU = Te_eV*eV_to_AU\n",
    "    aa = NPA(Z, A, Ti_AU, Te_AU, rs, rs, **aa_kwargs)\n",
    "    # npa = NPA(Z, A, Ti_AU, Te_AU, rs, R, **npa_kwargs)\n",
    "\n",
    "    aa.solve_TF(verbose=False, picard_alpha=2e-1, tol=1e-7)\n",
    "    aa.set_uii_eff()\n",
    "    \n",
    "#     npa.solve_TF(verbose=False, picard_alpha=0.1, tol=1e-7, nmax = 1e3)\n",
    "#     npa.set_uii_eff()\n",
    "    \n",
    "    aa_list.append(aa); #npa_list.append(npa)"
   ]
  },
  {
   "cell_type": "markdown",
   "id": "fd09732b-cfa4-4882-8471-e9f5bcf312f2",
   "metadata": {
    "tags": []
   },
   "source": [
    "##### Effective Ion-Ion Pair Potential $u_{ii}(r)$"
   ]
  },
  {
   "cell_type": "code",
   "execution_count": null,
   "id": "2fa86802-fb02-47bd-9bde-13ed8e10e60b",
   "metadata": {
    "tags": []
   },
   "outputs": [],
   "source": [
    "fig, ax = plt.subplots()\n",
    "\n",
    "color_cycle = plt.rcParams['axes.prop_cycle'].by_key()['color']\n",
    "\n",
    "for i, (aa, npa) in enumerate(zip(aa_list[:-2], npa_list[:-2])):\n",
    "    ax.plot(aa.iet.r_array, 1/aa.Ti * aa.uii_r_eff_iet,'--', color=color_cycle[i], label=r\"AA $T_e$ = {0:0.3f}\".format(aa.Te*AU_to_eV) )\n",
    "    # ax.plot(npa.iet.r_array, 1/aa.Ti * npa.uii_r_eff_iet,'-', color=color_cycle[i], label=r\"NPA $T_e$ = {0:0.3f}\".format(npa.Te*AU_to_eV) )\n",
    "    \n",
    "ax.set_xlabel(r\"$r/r_i$\")\n",
    "ax.set_ylabel(r\"$\\beta_i u^{\\rm eff}_{ii}$\")\n",
    "\n",
    "ax.set_yscale('symlog', linthresh=1e-1)\n",
    "ax.set_xscale('log')\n",
    "# ax.set_xlim(2,5)\n",
    "\n",
    "ax.legend(fontsize=10, loc='upper right')"
   ]
  },
  {
   "cell_type": "markdown",
   "id": "19c14671-ddb8-4cab-9a8b-89740645fbca",
   "metadata": {
    "tags": []
   },
   "source": [
    "##### Radial Distribution Function $g_{ii}(r)$"
   ]
  },
  {
   "cell_type": "code",
   "execution_count": null,
   "id": "3f344bda-6c5f-437d-bba0-1a624862f3a9",
   "metadata": {
    "tags": []
   },
   "outputs": [],
   "source": [
    "from pandas import read_csv\n",
    "from scipy.interpolate import PchipInterpolator\n",
    "\n",
    "fig, ax = plt.subplots()\n",
    "\n",
    "color_cycle = plt.rcParams['axes.prop_cycle'].by_key()['color']\n",
    "\n",
    "for i, (aa, npa) in enumerate(zip(aa_list[:], npa_list[:])):\n",
    "    ax.plot(aa.iet.r_array, aa.iet.h_r_matrix[0,0]+1,'--', color=color_cycle[i], label=r\"AA $T_e$ = {0:0.3f}\".format(aa.Te*AU_to_eV) )\n",
    "    # ax.plot(npa.iet.r_array, npa.iet.h_r_matrix[0,0]+1,'-', color=color_cycle[i], label=r\"NPA $T_e$ = {0:0.3f}\".format(npa.Te*AU_to_eV) )\n",
    "\n",
    "# Data from community TCCW\n",
    "upper_data = read_csv(\"/home/zach/plasma/hnc/TCCW/Final_TCCW/Fig5c_Upper.txt\", delim_whitespace=True, header=1)\n",
    "lower_data = read_csv(\"/home/zach/plasma/hnc/TCCW/Final_TCCW/Fig5c_Lower.txt\", delim_whitespace=True, header=1)\n",
    "\n",
    "ax.fill_between(lower_data['r/ri'],lower_data['gii'], PchipInterpolator(upper_data['r/ri'], upper_data['gii'])(lower_data['r/ri']), alpha=0.5, color='k', label='TCCW2 DFT Spread')\n",
    "\n",
    "\n",
    "# make textbox\n",
    "# text = (\"{0}\\n\".format(aa.name)+ \n",
    "#     r\"$r_s$ = \" + \"{0},    \".format(np.round(aa.rs,2)) +\n",
    "#     r\"$R_{NPA}$ = \" + \"{0} rs \\n\".format(npa.R/npa.rs)  +\n",
    "#         r\"$T_i$ = \" + \"{0:0.2f} eV\\n\".format(aa.Ti*AU_to_eV) + r\"$\\mu$ = \" + \"{0:0.2f} [eV]\".format(aa.μ*AU_to_eV))\n",
    "\n",
    "# props = dict(boxstyle='round', facecolor='w')\n",
    "# ax.text(0.05,0.95, text, fontsize=12, transform=ax.transAxes, verticalalignment='top', bbox=props)\n",
    "\n",
    "        \n",
    "ax.set_xlim(0,4)\n",
    "ax.set_ylim(0,2.3)\n",
    "\n",
    "ax.set_xlabel(r\"$r/r_i$\", fontsize=20)\n",
    "ax.set_ylabel(r\"$g_{ii}$\", fontsize=20)\n",
    "ax.legend(fontsize=10, loc='upper right')"
   ]
  },
  {
   "cell_type": "markdown",
   "id": "434bc08e-2340-41c0-a434-0a0b0d1f7827",
   "metadata": {},
   "source": [
    "##### Static Structure factor $S_{}(k,0)$"
   ]
  },
  {
   "cell_type": "code",
   "execution_count": null,
   "id": "642491e3-e4c3-46ca-af19-f6fed2ca6128",
   "metadata": {
    "tags": []
   },
   "outputs": [],
   "source": [
    "fig, ax = plt.subplots()\n",
    "\n",
    "color_cycle = plt.rcParams['axes.prop_cycle'].by_key()['color']\n",
    "\n",
    "for i, (aa, npa) in enumerate(zip(aa_list[:], npa_list[:])):\n",
    "    ax.plot(aa.iet.k_array, aa.iet.S_k_matrix[0,0],'--', color=color_cycle[i], label=r\"AA $T_e$ = {0:0.3f}\".format(aa.Te*AU_to_eV) )\n",
    "    # ax.plot(npa.iet.k_array, npa.iet.S_k_matrix[0,0],'-', color=color_cycle[i], label=r\"NPA $T_e$ = {0:0.3f}\".format(npa.Te*AU_to_eV) )\n",
    "\n",
    "# # make textbox\n",
    "# text = (\"{0}\\n\".format(aa.name)+ \n",
    "#     r\"$r_s$ = \" + \"{0},    \".format(np.round(aa.rs,2)) +\n",
    "#     r\"$R_{NPA}$ = \" + \"{0} rs \\n\".format(npa.R/npa.rs)  +\n",
    "#         r\"$T_i$ = \" + \"{0:0.2f} eV\\n\".format(aa.Ti*AU_to_eV) + r\"$\\mu$ = \" + \"{0:0.2f} [eV]\".format(aa.μ*AU_to_eV))\n",
    "\n",
    "# props = dict(boxstyle='round', facecolor='w')\n",
    "# ax.text(0.05,0.95, text, fontsize=12, transform=ax.transAxes, verticalalignment='top', bbox=props)\n",
    "\n",
    "ax.set_xlim(0,10*aa.kF)\n",
    "\n",
    "ax.set_xlabel(r\"$k r_i$\")\n",
    "ax.set_ylabel(r\"$S_{ii}(k)$\")\n",
    "ax.legend(fontsize=12, loc='lower right')"
   ]
  },
  {
   "cell_type": "markdown",
   "id": "55de9d51-d8b0-4ec0-9c60-3c54bf70728a",
   "metadata": {},
   "source": [
    "### Zstar"
   ]
  },
  {
   "cell_type": "code",
   "execution_count": null,
   "id": "c55d5582-c2a9-4b2a-853c-e33256f79984",
   "metadata": {
    "tags": []
   },
   "outputs": [],
   "source": [
    "MM_NPA_Ts, MM_NPA_Zstars = np.array([[5.11450504972058,   3.0163934426229506],\n",
    "[10.104496381022852,  3.027322404371585],\n",
    "[20.067028615617833, 3.5081967213114753],\n",
    "[30.256078694746794,   4.28415300546448],\n",
    "[40.26856374600249,  5.103825136612022],\n",
    "[60.08707154412468, 6.251366120218579],\n",
    "[79.5567807021131, 7.191256830601093],\n",
    "[101.04496381022851, 7.726775956284153],\n",
    "[199.62996638292896, 9.562841530054644]] ).T\n",
    "\n",
    "GP_AA_Ts, GP_AA_Zstars = np.array([[0.0992662705695525,  3.014888337468983],\n",
    "[0.980553321974707,   3.002481389578164],\n",
    "[4.214377896234591,  3.0272952853598016],\n",
    "[6.180801214239726,  3.0521091811414394],\n",
    "[9.335750868773577,   3.176178660049628],\n",
    "[14.205352845215044,  3.449131513647643],\n",
    "[11.729955789899613, 3.3002481389578167],\n",
    "[17.848394113818813, 3.6848635235732012],\n",
    "[23.26685803023974,  4.0446650124069485],\n",
    "[29.66753407786115,   4.491315136476427],\n",
    "[34.62945279460377,   4.863523573200993],\n",
    "[41.02101447998807,   5.359801488833747],\n",
    "[48.23573160038079,   5.806451612903226],\n",
    "[60.606051630880664,  6.501240694789082],\n",
    "[100., 7.928039702233251]]).T\n",
    "\n",
    "dense_T_eV = np.geomspace(0.1, 1000,num=100)\n",
    "More_Ts, More_Zstars = dense_T_eV, More_TF_Zbar(Z, aa.ni_bar, dense_T_eV*eV_to_AU) \n",
    "\n",
    "fig, ax = plt.subplots(figsize=(8,6))\n",
    "\n",
    "ax.plot(More_Ts, More_Zstars, '-',label='More TF Fit (1985)')\n",
    "ax.plot(MM_NPA_Ts, MM_NPA_Zstars, 'x',label='MM NPA (2013)')\n",
    "ax.plot(GP_AA_Ts, GP_AA_Zstars, '.',label='GP AA (2021)')\n",
    "\n",
    "# ax.plot(amdis_Ts, amdis_Zstars,'-', label= 'AMDIS data')\n",
    "ax.plot(Te_eV_array, [npa.Zstar for npa in npa_list],'xk', label='{} (Me)'.format(npa.aa_type))\n",
    "ax.plot(Te_eV_array, [aa.Zstar for aa in aa_list],'xr', label='{} (Me)'.format(aa.aa_type))\n",
    "\n",
    "ax.set_ylim(1e-2,14)\n",
    "\n",
    "# ax.set_yscale('log')\n",
    "ax.set_xscale('log')\n",
    "ax.set_title(r'Aluminum at $n=10^{22}$ cm$^{-3}$',fontsize=15)\n",
    "ax.set_ylabel('Z*',fontsize=15)\n",
    "ax.set_xlabel(\"T [eV]\",fontsize=15)\n",
    "ax.tick_params(labelsize=15)\n",
    "ax.legend(fontsize=12)"
   ]
  }
 ],
 "metadata": {
  "kernelspec": {
   "display_name": "Python 3 (ipykernel)",
   "language": "python",
   "name": "python3"
  },
  "language_info": {
   "codemirror_mode": {
    "name": "ipython",
    "version": 3
   },
   "file_extension": ".py",
   "mimetype": "text/x-python",
   "name": "python",
   "nbconvert_exporter": "python",
   "pygments_lexer": "ipython3",
   "version": "3.10.6"
  }
 },
 "nbformat": 4,
 "nbformat_minor": 5
}
