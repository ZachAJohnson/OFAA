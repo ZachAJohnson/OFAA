{
 "cells": [
  {
   "cell_type": "code",
   "execution_count": 1,
   "id": "faf6d1dd-bc49-4838-a508-126681f0f827",
   "metadata": {
    "editable": true,
    "slideshow": {
     "slide_type": ""
    },
    "tags": []
   },
   "outputs": [
    {
     "name": "stdout",
     "output_type": "stream",
     "text": [
      "Error:  name 'physics' is not defined\n",
      "ModuleNotFoundError: No module named 'mendeleev'\n"
     ]
    }
   ],
   "source": [
    "import numpy as np\n",
    "import pandas as pd\n",
    "\n",
    "\n",
    "from average_atom.core.average_atom import NeutralPseudoAtom as NPA\n",
    "from average_atom.core.misc import jacobi_relaxation, sor\n",
    "from average_atom.core.grids import NonUniformGrid\n",
    "from average_atom.core.physics import ThomasFermi, FermiDirac\n",
    "\n",
    "from importlib import reload\n",
    "try:\n",
    "    reload(physics)\n",
    "    reload(grids)\n",
    "    reload(average_atom_geometric)\n",
    "#     reload(average_atom)\n",
    "    reload(misc)\n",
    "except NameError as e:\n",
    "    from average_atom.core import physics as physics\n",
    "    from average_atom.core import average_atom as average_atom\n",
    "    from average_atom.core import misc as misc\n",
    "    from average_atom.core import grids as grids\n",
    "    print(\"Error: \",e)\n",
    "except Exception as e:\n",
    "    print(\"Unexpected error during reload\")\n",
    "    print(e)\n",
    "\n",
    "import matplotlib.pyplot as plt\n",
    "\n",
    "from hnc.hnc.constants import *\n",
    "from hnc.hnc.misc import rs_from_n, n_from_rs\n",
    "\n",
    "import cProfile\n",
    "\n",
    "plt.rcParams.update({'font.size': 10})\n",
    "plt.rcParams[\"figure.figsize\"] = (5,3.5)\n",
    "plt.rcParams[\"figure.dpi\"] = 200\n",
    "plt.rcParams['xtick.labelsize']=14\n",
    "\n",
    "color_cycle = plt.rcParams['axes.prop_cycle'].by_key()['color']\n",
    "\n"
   ]
  },
  {
   "cell_type": "code",
   "execution_count": 2,
   "id": "54305b4e-cfc1-446f-bc7a-1aecf2b8e892",
   "metadata": {
    "editable": true,
    "scrolled": true,
    "slideshow": {
     "slide_type": ""
    },
    "tags": []
   },
   "outputs": [
    {
     "name": "stdout",
     "output_type": "stream",
     "text": [
      "________________________\n",
      "Generating NPA\n",
      "\tIntializing grid\n",
      "\tCreating Integral Equation Solver\n",
      "μ=-11.641923166765306\n",
      "μ=-11.641923166765306\n",
      "Intialized Potentials and Densities\n"
     ]
    },
    {
     "name": "stderr",
     "output_type": "stream",
     "text": [
      "/home/zach/plasma/average_atom/core/physics.py:39: RuntimeWarning: divide by zero encountered in scalar divide\n",
      "  λD = 1/np.sqrt(  4*π*ne/T_effective ) # Including degeneracy\n"
     ]
    }
   ],
   "source": [
    "# Aluminuma\n",
    "name='Al'\n",
    "Z, A = 13, 27 \n",
    "Z, A = 13, 27 \n",
    "\n",
    "ρ_solid = 2.699 #g/cc, the solid density of aluminum \n",
    "ρ = ρ_solid#8.1 # g/cc\n",
    "ni_cc = ρ/(A*amu_to_AU*AU_to_g)\n",
    "ni_AU = ni_cc*invcc_to_AU\n",
    "rs = rs_from_n(ni_AU)\n",
    "\n",
    "Ti_eV = 1 \n",
    "Te_eV = 1\n",
    "\n",
    "Te_AU = Te_eV*eV_to_AU\n",
    "Ti_AU = Ti_eV*eV_to_AU\n",
    "\n",
    "# Hydrogen\n",
    "# name='H'\n",
    "# Z, A = 1, 1.00784\n",
    "\n",
    "# Te_eV = 2 \n",
    "# Te_AU = Te_eV*eV_to_AU\n",
    "\n",
    "# Ti_eV = 2\n",
    "# Ti_AU = Ti_eV*eV_to_AU\n",
    "\n",
    "# ρ_gpercc = 1\n",
    "# ni_invcc = ρ_gpercc/(A*amu_to_AU*AU_to_g)\n",
    "# ni_AU = ni_invcc*invcc_to_AU\n",
    "# rs = rs_from_n(ni_AU)\n",
    "\n",
    "\n",
    "####\n",
    "R = 30*rs\n",
    "rmin = rs/1000\n",
    "ignore_vxc = True\n",
    "fixed_Zstar = True\n",
    "\n",
    "# aa_kwargs = {'initialize':True, 'gradient_correction':None, 'μ_init' : 0.158, 'Zstar_init' : 'More', 'rmin': rmin,'Npoints':300,\n",
    "#              'name':name, 'ignore_vxc':ignore_vxc, 'fixed_Zstar':fixed_Zstar, 'iet_R_over_rs':R/rs, 'iet_N_bins':5000, 'use_full_ne_for_nf':False,\n",
    "#             'gii_init_type': 'step'}\n",
    "npa_kwargs = {'initialize':True, 'gradient_correction':None,'μ_init' : 0.158, 'Zstar_init' : 0, 'rmin':1e-2 ,'Npoints':10000, \n",
    "              'name':name,'ignore_vxc':ignore_vxc, 'fixed_Zstar':fixed_Zstar, 'iet_R_over_rs':R/rs, 'iet_N_bins':10000, 'use_full_ne_for_nf':False,\n",
    "             'gii_init_type': 'step', 'grid_spacing':'geometric'}\n",
    "\n",
    "# aa = NPA(Z, A, Ti_AU, Te_AU, rs, rs, **aa_kwargs)\n",
    "npa = NPA(Z, A, Ti_AU, Te_AU, rs, R, **npa_kwargs)\n",
    "# npa_2 = NPA(Z, A, Ti_AU, Te_AU, rs, R, **npa_kwargs)"
   ]
  },
  {
   "cell_type": "code",
   "execution_count": 3,
   "id": "d972cd3f-d841-4b6d-b680-7875906a36d5",
   "metadata": {
    "tags": []
   },
   "outputs": [
    {
     "name": "stdout",
     "output_type": "stream",
     "text": [
      "Q_err:  0.0\n",
      "0.1448714392635111\n"
     ]
    },
    {
     "ename": "UnboundLocalError",
     "evalue": "local variable 'Γ' referenced before assignment",
     "output_type": "error",
     "traceback": [
      "\u001b[0;31m---------------------------------------------------------------------------\u001b[0m",
      "\u001b[0;31mUnboundLocalError\u001b[0m                         Traceback (most recent call last)",
      "Cell \u001b[0;32mIn[3], line 10\u001b[0m\n\u001b[1;32m      7\u001b[0m \u001b[38;5;28mprint\u001b[39m(\u001b[38;5;124m\"\u001b[39m\u001b[38;5;124mQ_err: \u001b[39m\u001b[38;5;124m\"\u001b[39m, \u001b[38;5;241m-\u001b[39mZ\u001b[38;5;241m/\u001b[39mnpa\u001b[38;5;241m.\u001b[39mgrid\u001b[38;5;241m.\u001b[39mintegrate_f(ρ)\u001b[38;5;241m-\u001b[39m\u001b[38;5;241m1\u001b[39m)\n\u001b[1;32m      9\u001b[0m \u001b[38;5;28mprint\u001b[39m(np\u001b[38;5;241m.\u001b[39mmin(npa\u001b[38;5;241m.\u001b[39mφe))\n\u001b[0;32m---> 10\u001b[0m npa\u001b[38;5;241m.\u001b[39mφe \u001b[38;5;241m=\u001b[39m \u001b[43mnpa\u001b[49m\u001b[38;5;241;43m.\u001b[39;49m\u001b[43mget_φe_iet\u001b[49m\u001b[43m(\u001b[49m\u001b[43mρ\u001b[49m\u001b[43m)\u001b[49m[\u001b[38;5;241m0\u001b[39m]\u001b[38;5;241m.\u001b[39mcopy()\n\u001b[1;32m     11\u001b[0m \u001b[38;5;66;03m# npa.φe = npa.get_φe_screened(npa.ρi - npa.ne)[0].copy()\u001b[39;00m\n\u001b[1;32m     12\u001b[0m \u001b[38;5;28mprint\u001b[39m(np\u001b[38;5;241m.\u001b[39mmin(npa\u001b[38;5;241m.\u001b[39mφe))\n",
      "File \u001b[0;32m~/plasma/average_atom/core/average_atom.py:593\u001b[0m, in \u001b[0;36mNeutralPseudoAtom.get_φe_iet\u001b[0;34m(self, ρ)\u001b[0m\n\u001b[1;32m    591\u001b[0m Q \u001b[38;5;241m=\u001b[39m \u001b[38;5;241m-\u001b[39mZ\n\u001b[1;32m    592\u001b[0m \u001b[38;5;28mself\u001b[39m\u001b[38;5;241m.\u001b[39miet\u001b[38;5;241m.\u001b[39mρ0_r \u001b[38;5;241m=\u001b[39m λ\u001b[38;5;241m*\u001b[39m\u001b[38;5;241m*\u001b[39m\u001b[38;5;241m3\u001b[39m\u001b[38;5;241m*\u001b[39mQ\u001b[38;5;241m/\u001b[39m(\u001b[38;5;241m8\u001b[39m\u001b[38;5;241m*\u001b[39mπ) \u001b[38;5;241m*\u001b[39m np\u001b[38;5;241m.\u001b[39mexp(\u001b[38;5;241m-\u001b[39mλ\u001b[38;5;241m*\u001b[39mr) \u001b[38;5;66;03m# analytically normalized to cancel Z\u001b[39;00m\n\u001b[0;32m--> 593\u001b[0m \u001b[38;5;28mself\u001b[39m\u001b[38;5;241m.\u001b[39miet\u001b[38;5;241m.\u001b[39mφe0 \u001b[38;5;241m=\u001b[39m Q\u001b[38;5;241m/\u001b[39mr\u001b[38;5;241m*\u001b[39m(\u001b[38;5;241m1\u001b[39m\u001b[38;5;241m-\u001b[39mnp\u001b[38;5;241m.\u001b[39mexp(\u001b[38;5;241m-\u001b[39mr\u001b[38;5;241m*\u001b[39mλ)) \u001b[38;5;241m-\u001b[39m \u001b[38;5;241m1\u001b[39m\u001b[38;5;241m/\u001b[39m\u001b[38;5;241m2\u001b[39m\u001b[38;5;241m*\u001b[39mQ\u001b[38;5;241m*\u001b[39mλ\u001b[38;5;241m*\u001b[39m\u001b[38;5;241m*\u001b[39m\u001b[38;5;241m2\u001b[39m\u001b[38;5;241m*\u001b[39m\u001b[43mΓ\u001b[49m\n\u001b[1;32m    595\u001b[0m \u001b[38;5;66;03m### aa space\u001b[39;00m\n\u001b[1;32m    596\u001b[0m r, Z, rs, R \u001b[38;5;241m=\u001b[39m \u001b[38;5;28mself\u001b[39m\u001b[38;5;241m.\u001b[39mgrid\u001b[38;5;241m.\u001b[39mxs, \u001b[38;5;28mself\u001b[39m\u001b[38;5;241m.\u001b[39mZ, \u001b[38;5;28mself\u001b[39m\u001b[38;5;241m.\u001b[39mrs, \u001b[38;5;28mself\u001b[39m\u001b[38;5;241m.\u001b[39mR\n",
      "\u001b[0;31mUnboundLocalError\u001b[0m: local variable 'Γ' referenced before assignment"
     ]
    }
   ],
   "source": [
    "ρ = npa.ρi - npa.ne\n",
    "# ρ = -np.exp(-npa.grid.xs**2/(2*1**2))*npa.grid.xs**5\n",
    "# ρ = -np.exp(-npa.grid.xs/1)\n",
    "# ρ *= np.abs(Z/npa.grid.integrate_f(ρ))\n",
    "# ρ = npa.ρ0_r_iet\n",
    "\n",
    "print(\"Q_err: \", -Z/npa.grid.integrate_f(ρ)-1)\n",
    "\n",
    "print(np.min(npa.φe))\n",
    "npa.φe = npa.get_φe_iet(ρ)[0].copy()\n",
    "# npa.φe = npa.get_φe_screened(npa.ρi - npa.ne)[0].copy()\n",
    "print(np.min(npa.φe))\n",
    "φe_iet = npa.get_φe_iet(ρ)[0].copy()\n",
    "φe_iet = φe_iet - φe_iet[-1]\n",
    "φe_tri = npa.get_φe(ρ)[0].copy()\n",
    "φe_tri = φe_tri - φe_tri[-1]\n",
    "\n",
    "\n",
    "fig, ax = plt.subplots()\n",
    "\n",
    "\n",
    "# ax.plot(npa.grid.xs, ρ)\n",
    "# ax.plot(npa.grid.xs, npa.ρ0_r_iet/npa.grid.xs)\n",
    "# ax.plot(npa.iet.r_array*rs, npa.iet.ρ_r - npa.iet.ρ0_r)\n",
    "E_from_Q = (npa.get_Q_profile(ρ) + Z)/npa.grid.xs**2\n",
    "# ax.plot(npa.grid.xs, E_from_Q, '-',color=color_cycle[0], label=r'$Q/r^2$' ,zorder=1)\n",
    "# ax.plot(npa.grid.xs, npa.grid.integrate_f(E_from_Q) - npa.get_Q_profile(E_from_Q), '-',color=color_cycle[0], label=r'$Q/r^2$' ,zorder=1)\n",
    "# ax.plot(npa.grid.xs, -npa.grid.dfdx(φe_tri-npa.φe0_iet + npa.φion), ':',color=color_cycle[3], label=r'$\\delta\\vec{E}_{tri}$',zorder=2)\n",
    "# ax.plot(npa.grid.xs, -npa.grid.dfdx(φe_tri + npa.φion), '-',color=color_cycle[3], label=r'$\\vec{E}_{tri}$',zorder=2)\n",
    "# ax.plot(npa.grid.xs, -npa.grid.dfdx(φe_iet + npa.φion), '-',color=color_cycle[2], label=r'$\\vec{E}_{iet}$',zorder=1)\n",
    "\n",
    "# ax.plot(npa.grid.xs, -φe_iet,'-', color=color_cycle[5] ,label=r'$\\phi$ iet')\n",
    "# ax.plot(npa.grid.xs, npa.φion,':', color=color_cycle[6] ,label=r'$\\phi$ iet')\n",
    "\n",
    "# ax.plot(npa.grid.xs, -npa.grid.dfdx(-φe_iet),'--', color=color_cycle[4] ,label=r'$E_e$ iet')\n",
    "# ax.plot(npa.grid.xs, -npa.grid.dfdx(-φe_tri),'--', color=color_cycle[5] ,label=r'$E_e$ tri')\n",
    "# ax.plot(npa.grid.xs, -npa.grid.dfdx(npa.φion),':', color=color_cycle[6] ,label=r'$E_i$')\n",
    "\n",
    "ax.plot(npa.grid.xs, φe_iet + npa.φion,'--', color=color_cycle[2] ,label=r'$\\phi$ iet')\n",
    "ax.plot(npa.grid.xs, φe0_iet + npa.φion,':', color=color_cycle[2] ,label=r'$\\phi$ iet')\n",
    "ax.plot(npa.grid.xs, φe_iet + npa.φion,'--', color=color_cycle[2] ,label=r'$\\phi$ iet')\n",
    "ax.plot(npa.grid.xs, φe_tri + npa.φion,'--', color=color_cycle[3], label=r'$\\phi$ tridiag')\n",
    "# ax.plot(npa.grid.xs, φe_tri - φe_iet,':', color='k', label=r'$\\phi Error$ ')\n",
    "\n",
    "\n",
    "ax.set_ylabel('E')\n",
    "ax.set_xlabel('r [au]')\n",
    "ax.set_yscale('symlog', linthresh=1e-12)\n",
    "ax.set_xscale('log')\n",
    "# ax.set_xlim(0.07,0.12)\n",
    "ax.legend()\n",
    "ax.grid(which='both', alpha=0.2)\n",
    "# ax.set_ylim(-1, None)"
   ]
  },
  {
   "cell_type": "code",
   "execution_count": null,
   "id": "f48d8f04-2cc3-40ec-9b68-053b9b21f685",
   "metadata": {},
   "outputs": [],
   "source": [
    "stop"
   ]
  },
  {
   "cell_type": "code",
   "execution_count": null,
   "id": "2b8beb74-7079-48c9-8058-c0b8a07f6661",
   "metadata": {
    "editable": true,
    "scrolled": true,
    "slideshow": {
     "slide_type": ""
    },
    "tags": []
   },
   "outputs": [],
   "source": [
    "%%time\n",
    "npa.solve_TF(verbose=True, picard_alpha=0.01, tol=1e-12, nmax = 1000, n_wait_update_Zstar= 200)\n",
    "npa.set_uii_eff()"
   ]
  },
  {
   "cell_type": "code",
   "execution_count": null,
   "id": "335a8b62-ca4e-4866-ac6d-83ad16db45b3",
   "metadata": {},
   "outputs": [],
   "source": [
    "limiting_μ = npa.get_μ_infinite()\n",
    "neutral_μ = npa.get_μ_neutral()\n",
    "print(f\"Neutral μ = {neutral_μ:0.9e}, vs. r->infinity μ={limiting_μ:0.9e}, {neutral_μ/limiting_μ - 1:0.9e}\")\n",
    "# Final μ = 5.66492e-01, vs. expected r->infinity μ=5.66507e-01, Err=-2.664e-05"
   ]
  },
  {
   "cell_type": "code",
   "execution_count": null,
   "id": "3f344bda-6c5f-437d-bba0-1a624862f3a9",
   "metadata": {
    "editable": true,
    "scrolled": true,
    "slideshow": {
     "slide_type": ""
    },
    "tags": []
   },
   "outputs": [],
   "source": [
    "# %%time\n",
    "from scipy.interpolate import interp1d\n",
    "aa.solve_TF(verbose=True, picard_alpha=0.2, tol=1e-12)\n",
    "aa.set_uii_eff()\n",
    "aa.iet.HNC_solve(iters_to_wait=1e5, alpha_Picard=1e-2, tol=1e-12, verbose=False, num_iterations=1e5)\n",
    "aa.gii = interp1d(aa.iet.r_array*aa.rs, aa.iet.h_r_matrix[0,0]+1, bounds_error=False, fill_value='extrapolate')(aa.grid.xs)\n",
    "# npa_2.gii = interp1d(npa.iet.r_array*npa.rs, aa.iet.h_r_matrix[0,0]+1, bounds_error=False, fill_value='extrapolate')(npa.grid.xs)\n",
    "aa.make_ρi()"
   ]
  },
  {
   "cell_type": "code",
   "execution_count": null,
   "id": "f47c6864-5138-479e-9f84-78b292aef423",
   "metadata": {
    "editable": true,
    "slideshow": {
     "slide_type": ""
    },
    "tags": []
   },
   "outputs": [],
   "source": [
    "# fig, axs  = plt.subplots(1,2,figsize=(10,4))\n",
    "\n",
    "# colors = plt.rcParams['axes.prop_cycle'].by_key()['color']\n",
    "\n",
    "# short_distance_weight = np.exp(-(0.08*npa.kTF*npa.grid.xs)**4)\n",
    "# for ax in axs:\n",
    "#     # ax.plot(npa.iet.r_array*rs, npa.iet.h_r_matrix[0,0], color=colors[0], label=r\"NPA: $u_Y$\")\n",
    "#     ax.plot(npa.grid.xs, npa.gii-1, color=colors[0], label=r\"NPA: $u_Y$\")\n",
    "#     # ax.plot(npa_2.grid.xs, npa_2.gii-1,'--', color=colors[0], label=r\"NPA: $u_{AA}$\",zorder=10)\n",
    "#     ax.plot(aa.iet.r_array*rs, aa.iet.h_r_matrix[0,0],color=colors[1],  label=r\"$u_{AA}$\")\n",
    "#     # ax.plot(npa.grid.xs, short_distance_weight*(npa.gii-1),'--',color=colors[3],  label=r\"$u_Y$ damped\")\n",
    "    \t\t\t\n",
    "\n",
    "#     # ax.plot(aa.grid.xs, aa.gii-1,'--',color=colors[3],  label=r\"$u_Y$\")\n",
    "#     ax.axvline(npa.iet.r_array[-1]*rs,color='k')\n",
    "    \n",
    "# ax = axs[0]\n",
    "# ax.set_xlabel(r\"$r/r_i$\",fontsize=12)\n",
    "# ax.set_ylabel(\"h(r)\",fontsize=12)\n",
    "# ax.set_xlim(0,3*rs)\n",
    "\n",
    "# ax = axs[1]\n",
    "# ax.set_xlabel(r\"$r/r_i$\",fontsize=12)\n",
    "# ax.set_ylabel(\"h(r)\",fontsize=12)\n",
    "# ax.set_xscale('log')\n",
    "# ax.set_xlim(0.5,None)\n",
    "# ax.set_yscale('symlog', linthresh=1e-6)\n",
    "# for ax in axs:\n",
    "#     ax.legend(fontsize=12)\n",
    "#     ax.tick_params(labelsize=12)\n",
    "\n",
    "\n",
    "# plt.tight_layout()\n",
    "\n"
   ]
  },
  {
   "cell_type": "code",
   "execution_count": null,
   "id": "348a075a-19c3-4936-9e11-e01a5bc7062e",
   "metadata": {
    "scrolled": true
   },
   "outputs": [],
   "source": [
    "# ρ_iet = interp1d(npa.grid.xs, npa.ρi - npa.ne, bounds_error=False, fill_value=( (npa.ρi - npa.ne)[0],  (npa.ρi - npa.ne)[-1]))(npa.iet.r_array*rs)\n",
    "# δφe_k = 4*π*npa.iet.FT_r_2_k(ρ_iet)/(npa.iet.k_array/rs)**2\n",
    "# δφe_r = npa.iet.FT_k_2_r(δφe_k)\n",
    "# φe = interp1d(npa.iet.r_array*rs, δφe_r, bounds_error=False, fill_value='extrapolate')(npa.grid.xs)\n",
    "# ne_iet = npa.get_ne_TF(φe-φe[-1], npa.ne, npa.μ, npa.ne_bar)"
   ]
  },
  {
   "cell_type": "code",
   "execution_count": null,
   "id": "062694e6-6a06-4fad-943a-f78aeedb1a23",
   "metadata": {
    "editable": true,
    "slideshow": {
     "slide_type": ""
    },
    "tags": []
   },
   "outputs": [],
   "source": [
    "# fig, ax = plt.subplots(figsize=(5,3.5))\n",
    "\n",
    "# # φ\n",
    "# # ax.plot(npa.grid.xs, φe)\n",
    "# # ax.plot(npa.grid.xs, npa.φe)\n",
    "\n",
    "# # n\n",
    "# ax.plot(npa.grid.xs, npa.ne)\n",
    "# ax.plot(npa.grid.xs, ne_iet)\n",
    "\n",
    "\n",
    "# ax.set_yscale('symlog', linthresh=1e-8)\n",
    "# ax.set_xscale('log')"
   ]
  },
  {
   "cell_type": "markdown",
   "id": "e4962ed4-a26d-4664-a796-8357e2e62d52",
   "metadata": {
    "editable": true,
    "jp-MarkdownHeadingCollapsed": true,
    "slideshow": {
     "slide_type": ""
    },
    "tags": []
   },
   "source": [
    "### Thomas Fermi (TF)"
   ]
  },
  {
   "cell_type": "code",
   "execution_count": null,
   "id": "6a58b355-5d12-4619-9c99-5852efbe9ff4",
   "metadata": {
    "editable": true,
    "slideshow": {
     "slide_type": ""
    },
    "tags": []
   },
   "outputs": [],
   "source": [
    "# 2000: -5.419e-02, 4000: 1.592e-02"
   ]
  },
  {
   "cell_type": "code",
   "execution_count": null,
   "id": "361e56de-3114-409c-b08d-c4d9b178077b",
   "metadata": {
    "editable": true,
    "scrolled": true,
    "slideshow": {
     "slide_type": ""
    },
    "tags": []
   },
   "outputs": [],
   "source": [
    "# %%time\n",
    "# npa_2.solve_TF(verbose=True, picard_alpha=0.2, num_10folds_per_rs=0.5, tol=1e-7, nmax = 1000, n_wait_update_Zstar= 200)\n",
    "# npa_2.set_uii_eff()"
   ]
  },
  {
   "cell_type": "markdown",
   "id": "eb430086-2d19-4080-a540-052b2bac8cd4",
   "metadata": {
    "jp-MarkdownHeadingCollapsed": true,
    "tags": []
   },
   "source": [
    "### EOS"
   ]
  },
  {
   "cell_type": "code",
   "execution_count": null,
   "id": "9bfdfc0e-092a-4a7a-aff1-f26d40dc75ba",
   "metadata": {
    "editable": true,
    "slideshow": {
     "slide_type": ""
    },
    "tags": []
   },
   "outputs": [],
   "source": [
    "def get_Eii(aa):\n",
    "    βVeff = aa.get_βVeff(aa.φe, aa.ne, aa.ne_bar)\n",
    "    η = aa.μ/aa.Te - βVeff\n",
    "    βU = aa.grid.integrate_f(βVeff*aa.ne)\n",
    "    I_onehalf = FermiDirac.Ionehalf(η)\n",
    "    I_threehalf = FermiDirac.Ithreehalf(η)\n",
    "    \n",
    "    βK = (2*aa.Te)**1.5/π**2 * aa.grid.integrate_f( η*I_onehalf - 2/3 * I_threehalf   )\n",
    "    return βU, βK, βU + βK\n",
    "\n",
    "def get_ETF(aa):\n",
    "    \n",
    "def get_Exc(aa):\n",
    "    aa.vxc\n",
    "\n",
    "def get_E_Hartree(aa):\n",
    "    \n",
    "    \n",
    "    \n",
    "\n",
    "# get_E(aa_tfd), get_E(npa_tfd)"
   ]
  },
  {
   "cell_type": "code",
   "execution_count": null,
   "id": "a1668779-6b99-4c2d-80f7-a388e9146876",
   "metadata": {
    "tags": []
   },
   "outputs": [],
   "source": [
    "def get_P(aa):\n",
    "    aa_old_βu = aa.iet.βu_r_matrix.copy()\n",
    "    # aa.iet.set_βu_matrix( np.array([[1/aa.Ti * aa.Zstar**2/(aa.iet.r_array*aa.rs) ]] ))\n",
    "    P_id_hnc, P_ex_hnc, P_hnc = aa.iet.ideal_pressure(), aa.iet.excess_pressure(), aa.iet.total_pressure()\n",
    "    P_id_AU, P_ex_AU, P_AU  = P_id_hnc/rs**3, P_ex_hnc/rs**3, P_hnc/rs**3\n",
    "    aa.iet.set_βu_matrix(aa_old_βu)\n",
    "    return P_id_AU, P_ex_AU, P_AU\n",
    "\n",
    "aa_P_ions = get_P(aa_tfd)\n",
    "aa_P_ions[1]/aa_P_ions[0]"
   ]
  },
  {
   "cell_type": "markdown",
   "id": "c0bb2e15-2b27-4a30-8d83-197edf5158ec",
   "metadata": {
    "tags": []
   },
   "source": [
    "## Comparison"
   ]
  },
  {
   "cell_type": "code",
   "execution_count": null,
   "id": "1b049f68-b9c3-4cb2-9ba8-927161b15436",
   "metadata": {
    "editable": true,
    "slideshow": {
     "slide_type": ""
    },
    "tags": []
   },
   "outputs": [],
   "source": [
    "npa.make_plots()"
   ]
  },
  {
   "cell_type": "code",
   "execution_count": null,
   "id": "e038a42f-317a-44e3-8a98-93e6acf5c997",
   "metadata": {
    "editable": true,
    "slideshow": {
     "slide_type": ""
    },
    "tags": []
   },
   "outputs": [],
   "source": [
    "def plot_convergence(aa, axs=None):\n",
    "    if axs is None:\n",
    "        fig, axs = plt.subplots(ncols=3,figsize=(18,5),facecolor='w', dpi=200)\n",
    "    \n",
    "    # ELectric potential\n",
    "    slice_by_num = 10\n",
    "    ax = axs[0]\n",
    "    colors = plt.cm.coolwarm(np.linspace(0, 1,len(aa.φe_list[::slice_by_num])))\n",
    "    for i, (φe, ne, μ, ne_bar) in enumerate(zip(aa.φe_list[::slice_by_num], aa.ne_list[::slice_by_num], aa.μ_list[::slice_by_num],aa.ne_bar_list[::slice_by_num])):\n",
    "        if i ==0 or i==len(aa.φe_list[::slice_by_num])-1:\n",
    "            ax.plot(aa.grid.xs, (φe+aa.φion),linewidth=1,color=colors[i],alpha=1, label=r'$\\phi_e$'.format(i))\n",
    "            # ax.plot(aa.grid.xs, -aa.grid.dfdx(φe+aa.φion),linewidth=1,color=colors[i],alpha=1, label=r'$\\vec E$'.format(i))\n",
    "            # ax.plot(aa.grid.xs, aa.get_βVeff(φe, ne, ne_bar),linewidth=1,color=colors[i],alpha=1, label=r'$\\beta V_{{\\rm eff}}$'.format(i))\n",
    "        else:\n",
    "            ax.plot(aa.grid.xs, φe+aa.φion,linewidth=1,color=colors[i],alpha=1)\n",
    "            # ax.plot(aa.grid.xs, -aa.grid.dfdx(φe+aa.φion),linewidth=1,color=colors[i],alpha=1)\n",
    "            # ax.plot(aa.grid.xs, aa.get_βVeff(φe, ne, ne_bar),linewidth=1,color=colors[i],alpha=1)\n",
    "    # ax.plot(aa.grid.xs, aa.get_φe( (aa.ρi - aa.ne) )[0] + aa.φion  ,'k:', label=r'$\\phi$ check') \n",
    "    ax.set_yscale('symlog',linthresh=1e-10)\n",
    "    ax.plot(aa.grid.xs, aa.φe_init + aa.φion, 'k:')\n",
    "\n",
    "    # number density\n",
    "    ax = axs[1]\n",
    "    for i, (ne, ρi) in enumerate(zip(aa.ne_list[::slice_by_num], aa.ρi_list[::slice_by_num])):\n",
    "        if i ==0 or i==len(aa.ne_list[::slice_by_num])-1:\n",
    "            if i==0: \n",
    "                ne_bar_0 = ne[-1]\n",
    "            ax.plot(aa.grid.xs, [aa.grid.integrate_f(-ne + ρi, end_index = index) + aa.Z for index in range(len(aa.grid.xs))],linewidth=1,color=colors[i],alpha=1, label=r'$Q(r)$'.format(i*slice_by_num))\n",
    "            # ax.plot(aa.grid.xs, -ne + 0*ρi + ne[-1],linewidth=1,color=colors[i],alpha=1, label=r'$\\rho$'.format(i))\n",
    "            # ax.plot(aa.grid.xs, -ne + ρi,linewidth=1,color=colors[i],alpha=1, label=r'$\\rho$'.format(i))\n",
    "            # ax.plot(aa.grid.xs, -ne + ne_bar_0,linewidth=1,color=colors[i],alpha=1, label=r'$\\rho$'.format(i))\n",
    "            # ax.plot(aa.grid.xs, -ρi[-1] + ρi,linewidth=1,color=colors[i],alpha=1, label=r'$\\rho$'.format(i))\n",
    "            # pass\n",
    "        else:\n",
    "            ax.plot(aa.grid.xs, [aa.grid.integrate_f(-ne + ρi, end_index = index) + aa.Z for index in range(len(aa.grid.xs))],linewidth=1,color=colors[i],alpha=1)\n",
    "            # print(ne[-1]-ne_bar_0)\n",
    "            # ax.plot(aa.grid.xs, -ne + ρi ,linewidth=1,linestyle='-',color=colors[i],alpha=0.5)\n",
    "            # ax.plot(aa.grid.xs, -ne + ne_bar_0 ,linewidth=1,linestyle='-',color=colors[i],alpha=0.5)\n",
    "            # ax.plot(aa.grid.xs, -ρi[-1]+ ρi ,linewidth=1,linestyle='-',color=colors[i],alpha=0.5)\n",
    "            pass\n",
    "    # for i in range(int(aa.R/aa.rs)):\n",
    "    #     ax.axvline(aa.rs*i, color='k', linestyle='--', alpha=0.2)\n",
    "    # ax.set_xscale('log')\n",
    "    # ax.plot(aa.grid.xs, (aa.gii)-1, 'k:')\n",
    "    ax.set_yscale('symlog',linthresh=1e-4)\n",
    "\n",
    "            \n",
    "    # number density\n",
    "    ax = axs[2]\n",
    "    for i, (φe, ne, μ, ne_bar) in enumerate(zip(aa.φe_list[::slice_by_num], aa.ne_list[::slice_by_num], aa.μ_list[::slice_by_num],aa.ne_bar_list[::slice_by_num])):\n",
    "        ne_TF = aa.get_ne_TF(φe, ne, μ, ne_bar)\n",
    "        if i ==0 or i==len(aa.ne_list[::slice_by_num])-1:\n",
    "            # ax.plot(aa.grid.xs, ne - 0*ne_TF,linewidth=1,color=colors[i],alpha=1, label=r'$n_e/n_e^{{TF}}-1$, iter: {0}'.format(i))\n",
    "            ax.plot(aa.grid.xs, ne_TF-ne_TF[-1],linewidth=1,color=colors[i],alpha=1, label=r'$n_e^{{TF}} - n_e^{{TF}}[-1]$, iter: {0}'.format(i*slice_by_num))\n",
    "            # ax.plot(aa.grid.xs, ne-ne[-1],linewidth=1,color=colors[i],linestyle='--',alpha=1, label=r'$n_e - n_e[-1]$, iter: {0}'.format(i))\n",
    "            # pass\n",
    "        else:\n",
    "            # ax.plot(aa.grid.xs, ne - 0*ne_TF, linewidth=1,linestyle='-',color=colors[i],alpha=0.5)\n",
    "            ax.plot(aa.grid.xs, ne_TF-ne_TF[-1],linewidth=1,color=colors[i],alpha=1)\n",
    "            # ax.plot(aa.grid.xs, ne-ne[-1], linewidth=1,linestyle='--',color=colors[i],alpha=0.5)\n",
    "            \n",
    "\n",
    "            # print(np.abs(ne/ne_TF-1))\n",
    "            # print(np.where( np.abs(ne/ne_TF-1)>1e-6 ))\n",
    "            # print(aa.grid.xs[np.where( np.abs(ne/ne_TF-1) > 1e-8)][0]/10, 1/(np.sum(aa.grid.xs*np.abs(ne/ne_TF-1))/np.sum(np.abs(ne/ne_TF-1))))\n",
    "    # ax.set_ylim()\n",
    "    # ax.plot(aa.grid.xs, npa.get_ne_TF(npa.φe, npa.ne, npa.μ, npa.ne_bar) - npa.get_ne_TF(npa.φe, npa.ne, npa.μ, npa.ne_bar)[-1] , 'k:')\n",
    "    ax.plot(aa.grid.xs, aa.get_ne_TF(aa.φe, aa.ne_bar*np.ones_like(aa.ne), aa.μ, aa.ne_bar) - aa.get_ne_TF(aa.φe, aa.ne_bar*np.ones_like(aa.ne), aa.μ, aa.ne_bar)[-1] , 'k:')\n",
    "    ax.set_yscale('symlog',linthresh=1e-10)\n",
    "    # ax.set_xscale('log')\n",
    "    for ax in axs:\n",
    "        ax.legend(fontsize=14)\n",
    "        ax.tick_params(labelsize=14)\n",
    "        ax.plot(aa.grid.xs, np.zeros_like(aa.ne),'k', alpha=0.2)\n",
    "    plt.tight_layout()\n",
    "    \n",
    "# plot_convergence(aa)\n",
    "plot_convergence(npa)"
   ]
  },
  {
   "cell_type": "code",
   "execution_count": null,
   "id": "8fda529c-8320-445a-8e77-dbffbd513779",
   "metadata": {
    "editable": true,
    "slideshow": {
     "slide_type": ""
    },
    "tags": []
   },
   "outputs": [],
   "source": [
    "\n",
    "colors = plt.rcParams['axes.prop_cycle'].by_key()['color']\n",
    "\n",
    "petrov = pd.read_csv(\"../data/GP_TFDW_Al_1eV_solid.dat\",header=0, comment='#', delim_whitespace=True)\n",
    "\n",
    "def compare_aa(aa_list, axs=None, name=''):\n",
    "    eV = 0.0367512 # So 4 eV = 4 * 0.036.. in natural units\n",
    "    if axs is None:\n",
    "        fig, axs = plt.subplots(ncols=2,figsize=(20,8),facecolor='w')\n",
    "\n",
    "    # Density * 4pi r^2 plot\n",
    "    for ax in axs:\n",
    "        for aa, color in zip( aa_list, colors):\n",
    "            factor = 4*np.pi*aa.grid.xs**2\n",
    "            ax.plot(np.array(petrov['r/R'])*rs, 4*π*(np.array(petrov['r/R'])*rs)**2*(petrov['ne']/m_to_AU**3), 'k--', label=\"Petrov AA\")\n",
    "            ax.plot(aa.grid.xs, aa.ne*factor ,'-',color=color, label=r'$n_e$: '+ name)\n",
    "            ax.plot(aa.grid.xs, aa.n_b*factor,'--',color=color,  label=r'$n_b$: ' + name)\n",
    "            ax.plot(aa.grid.xs, aa.n_f*factor,':',color=color,  label=r'$n_f$: ' + name)\n",
    "            if aa.rs != aa.R:\n",
    "                ax.plot(aa.grid.xs, aa.ρi*factor,'-',color='r',  label=r'$\\rho_i$: ' + name)\n",
    "                ax.plot(aa.grid.xs, (aa.ρi-aa.ne)*factor,'--',color='r',  label=r'$\\rho_i+\\rho_e$: ' + name)\n",
    "        # axs[0].plot(aa.grid.xs, aa.δn_f*factor,'--',color='g',  label=r'$n_e^{sc}$: ' + name)\n",
    "\n",
    "\n",
    "    axs[0].set_ylabel(r'$4 \\pi r^2 n_e(r) $ [A.U.]',fontsize=20)\n",
    "    axs[0].set_ylim(0, 1e3)\n",
    "    axs[0].set_yscale('symlog',linthresh=1e-1)\n",
    "    axs[0].set_xscale('log')\n",
    "    axs[0].set_xlim(aa.grid.xs[0],aa.grid.xs[-1])\n",
    "\n",
    "    axs[1].set_ylabel(r'$4 \\pi r^2 n_e(r) $ [A.U.]',fontsize=20)\n",
    "    axs[1].set_ylim(0, 13)\n",
    "    axs[1].set_xlim(0, np.min([aa.R,1.3*aa.rs]))\n",
    "\n",
    "        \n",
    "    for ax in axs:\n",
    "        ax.set_xlabel(r'$|r-R_1|$ [A.U.]',fontsize=20)\n",
    "        ax.legend(loc=\"upper right\",fontsize=20,labelspacing = 0.1)\n",
    "        ax.tick_params(labelsize=20)\n",
    "        ax.grid(which='both',alpha=0.4)\n",
    "\n",
    "        # make textbox\n",
    "        text = (\"{0}\\n\".format(aa.name)+ \n",
    "            r\"$r_s$ = \" + \"{0},    \".format(np.round(aa.rs,2)) +\n",
    "            r\"$R_{NPA}$ = \" + \"{0}\\n\".format(aa.R)  +\n",
    "                r\"$T_e$ = \" + \"{0} [A.U.] = {1} eV\\n\".format(np.round(aa.Te,2),np.round(aa.Te/eV,2)) + r\"$\\mu$ = \" + \"{0} [A.U.]\\n\".format(np.round(aa.μ,2)) +\n",
    "                r\"$Z^\\ast = $\" + \"{0}\".format(np.round(aa.Zstar,2))  )\n",
    "\n",
    "        props = dict(boxstyle='round', facecolor='w')\n",
    "        ax.text(0.25,0.95, text, fontsize=15, transform=ax.transAxes, verticalalignment='top', bbox=props)\n",
    "\n",
    "    plt.tight_layout()\n",
    "    name = \"NPA_densities_{0}_rs{1}_{2}eV_R{3}.png\".format(aa.name, np.round(aa.rs,2), np.round(aa.Te/eV,2) ,np.round(aa.R))\n",
    "    plt.savefig(\"/home/zach/plasma/atomic_forces/average_atom/media/\" + name, dpi=300, bbox_inches='tight',facecolor=\"w\")\n",
    "    \n",
    "    \n",
    "    return axs\n",
    "\n",
    "\n",
    "axs = compare_aa([aa, npa])#, npa_2])\n",
    "for ax in axs:\n",
    "    handles, labels = ax.get_legend_handles_labels()\n",
    "    by_label = dict(zip(labels, handles))\n",
    "    ax.legend(by_label.values(), by_label.keys(), fontsize=16, loc='upper right')\n",
    "# axs[1].set_ylim(1e-5,1e3)"
   ]
  },
  {
   "cell_type": "markdown",
   "id": "86554e6e-1709-48ee-8144-ee1f4d9e2177",
   "metadata": {
    "editable": true,
    "slideshow": {
     "slide_type": ""
    },
    "tags": []
   },
   "source": [
    "## HNC and FT"
   ]
  },
  {
   "cell_type": "code",
   "execution_count": null,
   "id": "c786b0ca-1709-4d1e-8faf-6fe7f757481c",
   "metadata": {
    "editable": true,
    "slideshow": {
     "slide_type": ""
    },
    "tags": []
   },
   "outputs": [],
   "source": [
    "plt.rcParams[\"figure.figsize\"] = (8,6)\n",
    "plt.rcParams['font.size'] =  16\n",
    "plt.rcParams['legend.fontsize'] = 12\n",
    "# Plot and Compare\n",
    "fig, axs = plt.subplots(1,2, figsize=(10,4))\n",
    "\n",
    "colors = plt.rcParams['axes.prop_cycle'].by_key()['color']\n",
    "\n",
    "axs[0].plot(aa.iet.k_array/rs, aa.Uei_iet_k*(aa.iet.k_array/rs)**2/(4*π) ,'--.',color=colors[0], label=\"AA\" ) # Need to muultiply by some rs power???\n",
    "axs[0].plot(npa.iet.k_array/rs, npa.Uei_iet_k*(npa.iet.k_array/rs)**2/(4*π) ,'--.',color=colors[1], label=\"NPA\") # Need to muultiply by some rs power???\n",
    "axs[0].plot(aa.iet.k_array/rs, aa.Zstar*np.ones_like(aa.iet.k_array),':', color=colors[0], label=f\"Coulomb, Z={aa.Zstar:0.3f}\")\n",
    "axs[0].plot(npa.iet.k_array/rs, npa.Zstar*np.ones_like(npa.iet.k_array),':',color=colors[1], label=f\"Coulomb, Z={npa.Zstar:0.3f}\")\n",
    "\n",
    "# axs[0].set_yscale('log')\n",
    "axs[0].set_xscale('log')\n",
    "axs[0].set_xlabel(r\"$k$ [au]\")\n",
    "axs[0].set_ylabel(r\"$U_{ei}$ [au]\")\n",
    "\n",
    "axs[1].plot(aa.iet.k_array/rs, aa.uii_k_eff_iet,'-', color=colors[0], label=\"AA\")\n",
    "axs[1].plot(aa.iet.k_array/rs, 4*π*aa.Zstar**2/(aa.iet.k_array/rs)**2,'--', color=colors[0], label=r\"AA: $u_{{ii}}^0$, Z={0:0.3f}\".format(aa.Zstar))\n",
    "axs[1].plot(aa.iet.k_array/rs, 1/(aa.iet.k_array**2/rs**2/(4*π*aa.Zstar**2) + 1/aa.uii_k_eff_iet[0] ),'--', color=colors[0], label=r\"AA: $u_{{ii}}^0$, Z={0:0.3f}\".format(aa.Zstar))\n",
    "# axs[1].plot(aa.iet.k_array/rs, uii_test,'--', color=colors[0], label=r\"AA: $u_{{ii}}^0$, Z={0:0.3f}\".format(aa.Zstar))\n",
    "\n",
    "\n",
    "# axs[1].plot(npa.iet.k_array/rs, npa.uii_k_eff_iet,color=colors[1], label=\"NPA\")\n",
    "axs[1].plot(npa.iet.k_array/rs, 4*π*npa.Zstar**2/(npa.iet.k_array/rs)**2,'--', color=colors[1], label=r\"NPA: $u_{{ii}}^0$, Z={0:0.3f}\".format(npa.Zstar))\n",
    "\n",
    "\n",
    "\n",
    "axs[1].set_yscale('symlog',linthresh=1e-4)\n",
    "axs[1].set_ylim(0,1e5)\n",
    "axs[1].set_xscale('log')\n",
    "axs[1].set_xlabel(r\"$k$ [au]\")\n",
    "axs[1].set_ylabel(r\"$u^{\\rm eff}_{ii}$ [au]\")\n",
    "\n",
    "\n",
    "for ax in axs:\n",
    "    ax.legend(fontsize=12)\n",
    "plt.tight_layout()"
   ]
  },
  {
   "cell_type": "code",
   "execution_count": null,
   "id": "12b1f39d-f168-4d87-977d-d0a6cdfb2f46",
   "metadata": {
    "editable": true,
    "slideshow": {
     "slide_type": ""
    },
    "tags": []
   },
   "outputs": [],
   "source": [
    "uii_test = aa.iet.FT_k_2_r(aa.uii_k_eff_iet)/rs**3"
   ]
  },
  {
   "cell_type": "code",
   "execution_count": null,
   "id": "bb34b91b-3ed4-486a-8616-010a9843f225",
   "metadata": {
    "editable": true,
    "slideshow": {
     "slide_type": ""
    },
    "tags": []
   },
   "outputs": [],
   "source": [
    "plt.rcParams[\"figure.figsize\"] = (8,6)\n",
    "plt.rcParams['font.size'] =  16\n",
    "plt.rcParams['legend.fontsize'] = 12\n",
    "# Plot and Compare\n",
    "fig, axs = plt.subplots(1,2, figsize=(10,4))\n",
    "\n",
    "colors = plt.rcParams['axes.prop_cycle'].by_key()['color']\n",
    "\n",
    "axs[0].plot(aa.iet.r_array*rs, -aa.Zstar/(aa.iet.r_array*rs), color=colors[0], label=f\"Coulomb, Z={aa.Zstar:0.3f}\")\n",
    "axs[0].plot(aa.iet.r_array*rs, -aa.Uei_iet ,':',color=colors[0], label=\"AA\" ) # Need to muultiply by some rs power???\n",
    "axs[0].plot(npa.iet.r_array*rs, -npa.Zstar/(npa.iet.r_array*rs),color=colors[1], label=f\"Coulomb, Z={npa.Zstar:0.3f}\")\n",
    "axs[0].plot(npa.iet.r_array*rs, -npa.Uei_iet ,':',color=colors[1], label=\"NPA\") # Need to muultiply by some rs power???\n",
    "# axs[0].plot(npa_2.iet.r_array*rs, -npa_2.Zstar/(npa.iet.r_array*rs),color=colors[2], label=f\"Coulomb, Z={npa.Zstar:0.3f}\")\n",
    "# axs[0].plot(npa_2.iet.r_array*rs, -npa_2.Uei_iet ,':',color=colors[2], label=r\"NPA: $g_{AA}$\") # Need to muultiply by some rs power???\n",
    "\n",
    "\n",
    "\n",
    "axs[0].set_yscale('symlog',linthresh=1e-1)\n",
    "axs[0].set_xscale('log')\n",
    "axs[0].set_xlabel(r\"$r$ [au]\")\n",
    "axs[0].set_ylabel(r\"$U_{ei}$ [au]\")\n",
    "\n",
    "axs[1].plot(aa.iet.r_array*rs, 1/aa.Te * aa.uii_r_eff_iet, color=colors[0],linestyle='-', label='AA')\n",
    "axs[1].plot(aa.iet.r_array*rs, 1/aa.Te *aa.Zstar**2/(aa.iet.r_array*rs ), color=colors[0] ,linestyle='--', label=f'Coulomb Z={aa.Zstar:0.3f}')\n",
    "axs[1].plot(npa.iet.r_array*rs, 1/npa.Te *npa.uii_r_eff_iet, color=colors[1],linestyle='-', label='NPA')\n",
    "axs[1].plot(npa.iet.r_array*rs, 1/npa.Te *npa.Zstar**2/(npa.iet.r_array*rs ), color=colors[1],linestyle='--', label=f'Coulomb Z={npa.Zstar:0.3f}' )\n",
    "# axs[1].plot(npa_2.iet.r_array*rs, npa_2.uii_r_eff_iet, color=colors[2],linestyle='-', label=r\"NPA: $g_{AA}$\")\n",
    "# axs[1].plot(npa_2.iet.r_array*rs, npa_2.Zstar**2/(npa_2.iet.r_array*rs ), color=colors[2],linestyle='--', label=f'Coulomb Z={npa.Zstar:0.3f}' )\n",
    "\n",
    "axs[1].set_yscale('symlog',linthresh=1e-4)\n",
    "axs[1].set_xscale('log')\n",
    "axs[1].set_ylabel(r\"$\\beta U_{ii}$ [au]\")\n",
    "axs[1].set_xlabel(r\"$r$ [au]\")\n",
    "axs[1].set_xlim(1,None)\n",
    "\n",
    "\n",
    "for ax in axs:\n",
    "    ax.legend(fontsize=10)\n",
    "plt.tight_layout()"
   ]
  },
  {
   "cell_type": "code",
   "execution_count": null,
   "id": "8d825f9b-0e31-411c-a9ae-1781eb96702b",
   "metadata": {
    "editable": true,
    "slideshow": {
     "slide_type": ""
    },
    "tags": []
   },
   "outputs": [],
   "source": [
    "npa.make_gii()\n",
    "npa.make_ρi()\n",
    "# npa_2.make_gii()\n",
    "# npa_2.make_ρi()"
   ]
  },
  {
   "cell_type": "code",
   "execution_count": null,
   "id": "ecbd3699-1cc5-472d-bd92-c5910fa17911",
   "metadata": {
    "editable": true,
    "slideshow": {
     "slide_type": ""
    },
    "tags": []
   },
   "outputs": [],
   "source": [
    "from scipy.interpolate import PchipInterpolator\n",
    "from pandas import read_csv\n",
    "\n",
    "fig, axs  = plt.subplots(1,2, figsize=(8,4))\n",
    "\n",
    "# Data from community TCCW\n",
    "upper_data = read_csv(\"/home/zach/plasma/hnc/TCCW/Final_TCCW/Fig5c_Upper.txt\", delim_whitespace=True, header=1)\n",
    "lower_data = read_csv(\"/home/zach/plasma/hnc/TCCW/Final_TCCW/Fig5c_Lower.txt\", delim_whitespace=True, header=1)\n",
    "\n",
    "ax = axs[0]\n",
    "ax.fill_between(lower_data['r/ri'],lower_data['gii'], PchipInterpolator(upper_data['r/ri'], upper_data['gii'])(lower_data['r/ri']), alpha=0.5, color='k', label='Workshop DFT Spread')\n",
    "\n",
    "# Average atom effective potential to gii\n",
    "ax.plot(npa.grid.xs/rs, npa.gii, label=r\"NPA: $u_{ii}^{\\rm Y initial}$\",linewidth=1, zorder=2)\n",
    "# ax.plot(npa_2.grid.xs/rs, npa_2.gii, label=r\"NPA: $u_{ii}^{\\rm AA initial}$\",linewidth=1, zorder=2)\n",
    "ax.plot(aa.iet.r_array, aa.iet.h_r_matrix[0,0] + 1, label=r\"AA: $u_{ii}^{\\rm eff}$\",linewidth=1, zorder=5)\n",
    "\n",
    "ax.set_xlabel(r\"$r/r_i$\")\n",
    "ax.set_ylabel(\"g(r)\")\n",
    "ax.set_xlim(0.7,3)\n",
    "# ax.set_ylim(0,2)\n",
    "ax.legend(fontsize=10)\n",
    "\n",
    "ax = axs[1]\n",
    "ax.fill_between(lower_data['r/ri'],lower_data['gii']-1, PchipInterpolator(upper_data['r/ri'], upper_data['gii'])(lower_data['r/ri']), alpha=0.5, color='k', label='Workshop DFT Spread')\n",
    "# Average atom effective potential to gii\n",
    "ax.plot(npa.grid.xs/rs, npa.gii-1, label=r\"NPA: $u_{ii}^{\\rm Y initial}$\",linewidth=1, zorder=2)\n",
    "# ax.plot(npa_2.grid.xs/rs, npa_2.gii-1, label=r\"NPA: $u_{ii}^{\\rm AA initial}$\",linewidth=1, zorder=2)\n",
    "ax.plot(aa.iet.r_array, aa.iet.h_r_matrix[0,0], label=r\"AA: $u_{ii}^{\\rm eff}$\",linewidth=1, zorder=5)\n",
    "\n",
    "ax.set_xlabel(r\"$r/r_i$\")\n",
    "ax.set_ylabel(\"h(r)\")\n",
    "ax.set_xlim(0.7,10)\n",
    "ax.set_ylim(0,2.5)\n",
    "ax.set_yscale('symlog', linthresh=1e-4)\n",
    "\n",
    "ax.legend(fontsize=8, loc='upper right')\n",
    "plt.tight_layout()\n"
   ]
  },
  {
   "cell_type": "code",
   "execution_count": null,
   "id": "8fc7f07e-d832-4ddf-bc2f-8cd1eeac0f0d",
   "metadata": {
    "editable": true,
    "slideshow": {
     "slide_type": ""
    },
    "tags": []
   },
   "outputs": [],
   "source": []
  }
 ],
 "metadata": {
  "kernelspec": {
   "display_name": "Python 3 (ipykernel)",
   "language": "python",
   "name": "python3"
  },
  "language_info": {
   "codemirror_mode": {
    "name": "ipython",
    "version": 3
   },
   "file_extension": ".py",
   "mimetype": "text/x-python",
   "name": "python",
   "nbconvert_exporter": "python",
   "pygments_lexer": "ipython3",
   "version": "3.10.6"
  }
 },
 "nbformat": 4,
 "nbformat_minor": 5
}
