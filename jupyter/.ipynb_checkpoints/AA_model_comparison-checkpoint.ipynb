{
 "cells": [
  {
   "cell_type": "code",
   "execution_count": 1,
   "id": "9c2eb6ef-ade0-4980-8fa0-babce6e39035",
   "metadata": {
    "tags": []
   },
   "outputs": [
    {
     "name": "stdout",
     "output_type": "stream",
     "text": [
      "ModuleNotFoundError: No module named 'mendeleev'\n"
     ]
    }
   ],
   "source": [
    "import numpy as np\n",
    "from pandas import read_csv\n",
    "\n",
    "# from average_atom.core.average_atom_new import AverageAtom as AA\n",
    "from average_atom.core.aa_types import AverageAtomFactory\n",
    "from average_atom.core.misc import jacobi_relaxation, sor\n",
    "from average_atom.core.grids import NonUniformGrid\n",
    "from average_atom.core.physics import ThomasFermi, FermiDirac\n",
    "\n",
    "import matplotlib.pyplot as plt\n",
    "\n",
    "from hnc.hnc.constants import *\n",
    "from hnc.hnc.misc import rs_from_n, n_from_rs\n",
    "\n",
    "plt.rcParams.update({'font.size': 10})\n",
    "plt.rcParams[\"figure.figsize\"] = (5,3.5)\n",
    "plt.rcParams[\"figure.dpi\"] = 200\n",
    "plt.rcParams['xtick.labelsize']=14\n",
    "\n",
    "color_cycle = plt.rcParams['axes.prop_cycle'].by_key()['color']"
   ]
  },
  {
   "cell_type": "code",
   "execution_count": 2,
   "id": "2e9647ce-28f4-439a-a6aa-67319be5087d",
   "metadata": {
    "tags": []
   },
   "outputs": [
    {
     "name": "stdout",
     "output_type": "stream",
     "text": [
      "________________________\n",
      "Generating NPA\n",
      "T:  0.03674932539796232\n",
      "Using More TF fit for initial Zstar = 2.495\n",
      "\tIntializing grid\n",
      "Initializing, True\n",
      "Initializing\n",
      "\tCreating Integral Equation Solver\n",
      "Intialized Potentials and Densities\n",
      "Initialized\n"
     ]
    },
    {
     "name": "stderr",
     "output_type": "stream",
     "text": [
      "/home/zach/plasma/average_atom/core/average_atom_new.py:259: RuntimeWarning: invalid value encountered in power\n",
      "  nb_Mavrin_Demura_func = lambda r: np.nan_to_num(self.Z/(4*π*r_TF**3) * (Φ_Mavrin_Demura(x(r))/x(r) )**1.5)\n"
     ]
    }
   ],
   "source": [
    "# Aluminum\n",
    "name='Al'\n",
    "Z, A = 13, 27 \n",
    "\n",
    "ρ_solid = 2.699 #g/cc, the solid density of aluminum \n",
    "ρ = ρ_solid#8.1 # g/cc\n",
    "ni_cc = ρ/(A*amu_to_AU*AU_to_g)\n",
    "ni_AU = ni_cc*invcc_to_AU\n",
    "rs = rs_from_n(ni_AU)\n",
    "\n",
    "R  = 10*rs\n",
    "\n",
    "Ti_eV = 1 \n",
    "Te_eV = 1\n",
    "\n",
    "\n",
    "#\n",
    "\n",
    "Te_AU = Te_eV*eV_to_AU\n",
    "Ti_AU = Ti_eV*eV_to_AU\n",
    "\n",
    "\n",
    "aa_ZJ  = AverageAtomFactory.create_model(\"ZJ_ISModel\", Z, A, Ti_AU, Te_AU, rs, R, name=name, ignore_vxc=True, xc_type='KSDT', Npoints=2000, rmin=1e-4, N_stencil_oneside = 2)\n",
    "# aa_ZJ_cs  = AverageAtomFactory.create_model(\"ZJ_CSModel\", Z, A, Ti_AU, Te_AU, rs, R, name=name, ignore_vxc=False, Npoints=2000, rmin=1e-4, N_stencil_oneside = 2)\n",
    "# aa_CS  = AverageAtomFactory.create_model(\"TFStarret2014\", Z, A, Ti_AU, Te_AU, rs, R, name=name, ignore_vxc=False, Npoints=2000, rmin=1e-4, N_stencil_oneside = 2)"
   ]
  },
  {
   "cell_type": "code",
   "execution_count": 3,
   "id": "ab9dd227-9b34-493a-a23b-5cd8b1156003",
   "metadata": {
    "scrolled": true,
    "tags": []
   },
   "outputs": [
    {
     "name": "stdout",
     "output_type": "stream",
     "text": [
      "Beginning self-consistent electron solver.\n",
      "_________________________________\n",
      "__________________________________________\n",
      "TF Iteration 0\n",
      "\tμ = -2.248224108e-01, change: 1.598471249e+00 (converged=False)\n",
      "\tφe Err =  5.605e-11, φe change =  7.588e-01\n",
      "\tne Err =  6.289e-02, ne change =  1.770e-05\n",
      "\tQ =  0.000e+00 -> -3.487e+00, \n",
      "\tZstar guess =  2.495e+00. Current Zstar:  2.495e+00 (converged=True)\n",
      "\tChange =  2.104e+00\n",
      "__________________________________________\n",
      "TF Iteration 1\n",
      "\tμ = -2.242056176e-01, change: 2.743468579e-03 (converged=False)\n",
      "\tφe Err =  5.913e-11, φe change =  5.566e-02\n",
      "\tne Err =  9.074e-02, ne change =  1.815e-05\n",
      "\tQ = -3.487e+00 ->  1.073e+00, \n",
      "\tZstar guess =  2.495e+00. Current Zstar:  2.495e+00 (converged=True)\n",
      "\tChange =  6.125e-02\n",
      "__________________________________________\n",
      "TF Iteration 2\n",
      "\tμ = -2.237022539e-01, change: 2.245098695e-03 (converged=False)\n",
      "\tφe Err =  5.837e-11, φe change =  1.706e-02\n",
      "\tne Err =  3.237e-02, ne change =  1.753e-06\n",
      "\tQ =  1.073e+00 ->  2.889e+00, \n",
      "\tZstar guess =  2.495e+00. Current Zstar:  2.495e+00 (converged=True)\n",
      "\tChange =  1.939e-02\n",
      "__________________________________________\n",
      "TF Iteration 3\n",
      "\tμ = -2.233800252e-01, change: 1.440435596e-03 (converged=False)\n",
      "\tφe Err =  5.491e-11, φe change =  1.149e-02\n",
      "\tne Err =  1.192e-02, ne change =  3.743e-06\n",
      "\tQ =  2.889e+00 ->  3.060e+00, \n",
      "\tZstar guess =  2.495e+00. Current Zstar:  2.495e+00 (converged=True)\n",
      "\tChange =  1.342e-02\n",
      "__________________________________________\n",
      "TF Iteration 4\n",
      "\tμ = -2.231249430e-01, change: 1.141920381e-03 (converged=False)\n",
      "\tφe Err =  5.721e-11, φe change =  8.222e-04\n",
      "\tne Err =  9.670e-03, ne change =  1.813e-06\n",
      "\tQ =  3.060e+00 ->  2.866e+00, \n",
      "\tZstar guess =  2.495e+00. Current Zstar:  2.495e+00 (converged=True)\n",
      "\tChange =  1.137e-03\n",
      "__________________________________________\n",
      "TF Iteration 5\n",
      "\tμ = -2.228667788e-01, change: 1.157038488e-03 (converged=False)\n",
      "\tφe Err =  5.521e-11, φe change =  2.319e-03\n",
      "\tne Err =  3.493e-03, ne change =  6.261e-08\n",
      "\tQ =  2.866e+00 ->  2.797e+00, \n",
      "\tZstar guess =  2.495e+00. Current Zstar:  2.495e+00 (converged=True)\n",
      "\tChange =  3.210e-03\n",
      "__________________________________________\n",
      "TF Iteration 6\n",
      "\tμ = -2.225966669e-01, change: 1.211988386e-03 (converged=False)\n",
      "\tφe Err =  5.982e-11, φe change =  9.180e-04\n",
      "\tne Err =  1.184e-03, ne change =  3.884e-07\n",
      "\tQ =  2.797e+00 ->  2.822e+00, \n",
      "\tZstar guess =  2.495e+00. Current Zstar:  2.495e+00 (converged=True)\n",
      "\tChange =  1.843e-03\n",
      "__________________________________________\n",
      "TF Iteration 7\n",
      "\tμ = -2.223228338e-01, change: 1.230175913e-03 (converged=False)\n",
      "\tφe Err =  5.889e-11, φe change =  1.040e-04\n",
      "\tne Err =  6.680e-04, ne change =  1.519e-07\n",
      "\tQ =  2.822e+00 ->  2.852e+00, \n",
      "\tZstar guess =  2.495e+00. Current Zstar:  2.495e+00 (converged=True)\n",
      "\tChange =  9.320e-04\n",
      "__________________________________________\n",
      "TF Iteration 8\n",
      "\tμ = -2.220497735e-01, change: 1.228215252e-03 (converged=False)\n",
      "\tφe Err =  5.841e-11, φe change =  1.995e-04\n",
      "\tne Err =  1.985e-04, ne change =  1.034e-08\n",
      "\tQ =  2.852e+00 ->  2.864e+00, \n",
      "\tZstar guess =  2.495e+00. Current Zstar:  2.495e+00 (converged=True)\n",
      "\tChange =  1.075e-03\n",
      "__________________________________________\n",
      "TF Iteration 9\n",
      "\tμ = -2.217777347e-01, change: 1.225125380e-03 (converged=False)\n",
      "\tφe Err =  5.972e-11, φe change =  6.559e-05\n",
      "\tne Err =  1.258e-04, ne change =  3.307e-08\n",
      "\tQ =  2.864e+00 ->  2.864e+00, \n",
      "\tZstar guess =  2.495e+00. Current Zstar:  2.495e+00 (converged=True)\n",
      "\tChange =  9.371e-04\n"
     ]
    },
    {
     "name": "stderr",
     "output_type": "stream",
     "text": [
      "\n",
      "KeyboardInterrupt\n",
      "\n"
     ]
    }
   ],
   "source": [
    "%%time\n",
    "aa_ZJ.solve(verbose=True)\n",
    "aa_ZJ.set_uii_eff()"
   ]
  },
  {
   "cell_type": "code",
   "execution_count": 4,
   "id": "470f16e9-a276-48a7-9dd8-1098f0a95200",
   "metadata": {
    "scrolled": true,
    "tags": []
   },
   "outputs": [
    {
     "ename": "NameError",
     "evalue": "name 'aa_ZJ_cs' is not defined",
     "output_type": "error",
     "traceback": [
      "\u001b[0;31m---------------------------------------------------------------------------\u001b[0m",
      "\u001b[0;31mNameError\u001b[0m                                 Traceback (most recent call last)",
      "File \u001b[0;32m<timed exec>:1\u001b[0m\n",
      "\u001b[0;31mNameError\u001b[0m: name 'aa_ZJ_cs' is not defined"
     ]
    }
   ],
   "source": [
    "%%time\n",
    "aa_ZJ_cs.solve(picard_alpha=0.5,verbose=True)\n",
    "aa_ZJ_cs.set_uii_eff()"
   ]
  },
  {
   "cell_type": "code",
   "execution_count": 5,
   "id": "0c4223a9-c7d0-4a13-9d17-24b400476796",
   "metadata": {
    "scrolled": true,
    "tags": []
   },
   "outputs": [
    {
     "ename": "NameError",
     "evalue": "name 'aa_CS' is not defined",
     "output_type": "error",
     "traceback": [
      "\u001b[0;31m---------------------------------------------------------------------------\u001b[0m",
      "\u001b[0;31mNameError\u001b[0m                                 Traceback (most recent call last)",
      "File \u001b[0;32m<timed exec>:1\u001b[0m\n",
      "\u001b[0;31mNameError\u001b[0m: name 'aa_CS' is not defined"
     ]
    }
   ],
   "source": [
    "%%time\n",
    "aa_CS.solve(verbose=True)\n",
    "aa_CS.make_iet()\n",
    "aa_CS.set_uii_eff()"
   ]
  },
  {
   "cell_type": "code",
   "execution_count": 6,
   "id": "3f2250ba-d80a-4f83-9c6a-a8df71da95ae",
   "metadata": {
    "tags": []
   },
   "outputs": [
    {
     "name": "stderr",
     "output_type": "stream",
     "text": [
      "\n",
      "KeyboardInterrupt\n",
      "\n"
     ]
    }
   ],
   "source": [
    "aa_CS.iet.dst_type=3"
   ]
  },
  {
   "cell_type": "code",
   "execution_count": null,
   "id": "16ee397f-6f4c-421c-9806-1b9c9ae9916b",
   "metadata": {
    "tags": []
   },
   "outputs": [],
   "source": [
    "from importlib import reload\n",
    "try:\n",
    "    reload(plotting)\n",
    "except NameError as e:\n",
    "    from average_atom.core import plotting as plotting\n",
    "    print(\"Error: \",e)\n",
    "except Exception as e:\n",
    "    print(\"Unexpected error during reload\")\n",
    "    print(e)\n",
    "    \n",
    "from average_atom.core.plotting import compare_aa, plot_convergence, plot_Uei, plot_Uii, plot_hii\n",
    "\n",
    "fig, axs = plot_Uei([aa_CS, aa_ZJ, aa_ZJ_cs])\n",
    "fig, axs = plot_Uii([aa_CS, aa_ZJ, aa_ZJ_cs])\n"
   ]
  },
  {
   "cell_type": "code",
   "execution_count": null,
   "id": "dd0da2c8-c2f5-4c43-8bb7-bd4114afff21",
   "metadata": {
    "tags": []
   },
   "outputs": [],
   "source": [
    "from scipy.interpolate import PchipInterpolator\n",
    "from pandas import read_csv\n",
    "\n",
    "fig, axs = plot_hii([aa_CS, aa_ZJ, aa_ZJ_cs])\n",
    "\n",
    "# Data from community TCCW\n",
    "upper_data = read_csv(\"/home/zach/plasma/hnc/TCCW/Final_TCCW/Fig5c_Upper.txt\", delim_whitespace=True, header=1)\n",
    "lower_data = read_csv(\"/home/zach/plasma/hnc/TCCW/Final_TCCW/Fig5c_Lower.txt\", delim_whitespace=True, header=1)\n",
    "\n",
    "ax = axs[0]\n",
    "ax.fill_between(lower_data['r/ri'],lower_data['gii'], PchipInterpolator(upper_data['r/ri'], upper_data['gii'])(lower_data['r/ri']), alpha=0.5, color='k', label='Workshop DFT Spread')\n",
    "\n",
    "ax = axs[1]\n",
    "ax.fill_between(lower_data['r/ri'],lower_data['gii']-1, PchipInterpolator(upper_data['r/ri'], upper_data['gii'])(lower_data['r/ri'])-1, alpha=0.5, color='k', label='Workshop DFT Spread')\n"
   ]
  },
  {
   "cell_type": "markdown",
   "id": "0a31c14a-6189-45e3-862b-8a76c086dd81",
   "metadata": {},
   "source": [
    "### Compare Density Profiles"
   ]
  },
  {
   "cell_type": "code",
   "execution_count": null,
   "id": "9c56f7e9-7da2-4562-b0fe-97a00b5e43d0",
   "metadata": {
    "tags": []
   },
   "outputs": [],
   "source": [
    "def plot_ne(ne_data, ks=False, figax = None, **kwargs):#line = None, color=None, label=None):\n",
    "    if figax is None:\n",
    "        fig, ax = plt.subplots()\n",
    "    else:\n",
    "        fig, ax  = figax\n",
    "    \n",
    "    fourpi = True\n",
    "    if fourpi==True:\n",
    "        if ks==False:\n",
    "            ax.plot(ne_data[0], 4*π*ne_data[0]**2*ne_data[1], **kwargs )#, linestyle=line, color=color, label=label)\n",
    "        else:\n",
    "            ax.plot(ne_data[0], ne_data[1], **kwargs )#, linestyle=line, color=color, label=label)\n",
    "        ax.set_ylabel(r\"$4 \\pi  r^2 n_{bound}$\")        \n",
    "    else:\n",
    "        if ks==False:\n",
    "            ax.plot(ne_data[0], ne_data[1], **kwargs )#, linestyle=line, color=color, label=label)\n",
    "        else:\n",
    "            ax.plot(ne_data[0], (4*π*ne_data[0]**2)**-1*ne_data[1], **kwargs )#, linestyle=line, color=color, label=label)\n",
    "        ax.set_ylabel(r\"$n_{free} $ [au]\")        \n",
    "\n",
    "    if True:\n",
    "        ax.set_xlim(0,rs)\n",
    "        ax.set_ylim(0, 13)\n",
    "    else:\n",
    "        ax.set_xlim(1e-2,30)\n",
    "        ax.set_yscale('log')#, linthresh=1e-3)\n",
    "        ax.set_xscale('log')\n",
    "        ax.set_ylim(1e-3, 1e1)\n",
    "\n",
    "    \n",
    "    ax.set_xlabel(r\"$r $ [au]\")\n",
    "    \n",
    "    ax.legend(fontsize=6, ncols=2)\n",
    "    \n",
    "# Fixed Ti\n",
    "fig, ax = plt.subplots()\n",
    "ax.set_title(r\"Aluminum @ $2.7$ g/cc, $T_i = 1 $ eV\")\n",
    "\n",
    "# plot_ne(NS_ks_ne11, ks=True, figax = (fig, ax), color=color_cycle[0], linestyle='-', label=r\"NS QM $T_e=1$ eV\")\n",
    "# plot_ne(NS_tf_ne11, ks=False, figax = (fig, ax), color=color_cycle[0], linestyle='--', label=r\"NS TF $T_e=1$ eV\")\n",
    "ZJ_csaa = np.array([aa_CS.grid.xs, aa_CS.ne_full])\n",
    "ZJ_tfaa = np.array([aa_ZJ.grid.xs, aa_ZJ.ne])\n",
    "ZJ_tfaa_cs = np.array([aa_ZJ_cs.grid.xs, aa_ZJ_cs.ne])\n",
    "plot_ne(ZJ_csaa, ks=False, figax = (fig, ax), color=color_cycle[1], linestyle='-', marker='', markersize=1, label=r\"ZJ (SS2014) TF $T_e=1$ eV $\\langle Z \\rangle$={0:0.2f}\".format(aa_CS.Zstar))\n",
    "plot_ne(ZJ_tfaa, ks=False, figax = (fig, ax), color=color_cycle[2], linestyle='--', marker='', markersize=1, label=r\"ZJ (IS) TF $T_e=1$ eV $\\langle Z \\rangle$={0:0.2f}\".format(aa_ZJ.Zstar))\n",
    "plot_ne(ZJ_tfaa_cs, ks=False, figax = (fig, ax), color=color_cycle[3], linestyle=':', marker='', markersize=1, label=r\"ZJ (CS) TF $T_e=1$ eV $\\langle Z \\rangle$={0:0.2f}\".format(aa_ZJ.Zstar))\n",
    "# ZJ_csaa = np.array([aa_CS.core_atom.grid.xs, aa_CS.core_atom.ne])\n",
    "# plot_ne(ZJ_csaa, ks=False, figax = (fig, ax), color=color_cycle[1], linestyle='--', marker='.', markersize=1, label=r\"ZJ (CS2014) TF $T_e=1$ eV\")"
   ]
  },
  {
   "cell_type": "code",
   "execution_count": null,
   "id": "0c7bb4ea-4269-46db-af55-5674f8802cb2",
   "metadata": {
    "tags": []
   },
   "outputs": [],
   "source": [
    "from scipy.interpolate import interp1d\n",
    "\n",
    "fig, ax  = plt.subplots()\n",
    "\n",
    "ZJ_csaa = np.array([aa_CS.grid.xs, aa_CS.ne_full])\n",
    "\n",
    "# ax.plot(aa_CS.core_atom.grid.xs, aa_CS.grid.A_dfdx.dot(aa_CS.core_atom.φe  ), '--.')\n",
    "ax.plot(aa_CS.core_atom.grid.xs, aa_CS.core_atom.grid.A_dfdx.dot(aa_CS.core_atom.φe + aa_CS.core_atom.φion ), '--.')\n",
    "ax.plot(aa_CS.core_atom.grid.xs, (aa_CS.core_atom.φe + aa_CS.core_atom.φion ), '--.')\n",
    "ax.plot(ZJ_csaa[0], ZJ_csaa[1]/interp1d(NS_tf_ne11[0], NS_tf_ne11[1])(ZJ_csaa[0])-1, ':')\n",
    "\n",
    "ax.set_yscale('symlog', linthresh=1e-8)\n",
    "ax.set_xlim(np.min(ZJ_csaa[0]),3)\n",
    "# ax.set_xscale('log')\n",
    "ax.grid(alpha=0.2)"
   ]
  },
  {
   "cell_type": "markdown",
   "id": "d584ce93-453b-48af-90ac-cf059bb7e9d7",
   "metadata": {},
   "source": [
    "## EOS"
   ]
  },
  {
   "cell_type": "code",
   "execution_count": null,
   "id": "7f12d039-d4d7-4b3c-b2e0-a22aa5ceef3e",
   "metadata": {
    "tags": []
   },
   "outputs": [],
   "source": [
    "def get_E(aa):\n",
    "    βVeff = aa.get_βVeff(aa.φe, aa.ne, aa.ne_bar)\n",
    "    η = aa.μ/aa.Te - βVeff\n",
    "    βU = aa.grid.integrate_f(βVeff*aa.ne)\n",
    "    \n",
    "    φ_from_e_only = aa.get_φe(-aa.ne)[0] \n",
    "    φ_from_i_only = aa.get_φe(aa.ρi)[0] + aa.φion \n",
    "    U = -aa.grid.integrate_f(aa.ne * (0.5*φ_from_e_only + φ_from_i_only))\n",
    "\n",
    "    I_onehalf = FermiDirac.Ionehalf(η)\n",
    "    I_threehalf = FermiDirac.Ithreehalf(η)\n",
    "    \n",
    "    K = (2*aa.Te)**1.5/(2*π**2) * aa.Te * aa.grid.integrate_f( I_threehalf)\n",
    "    return U, K, (U + K)\n",
    "\n",
    "def get_P(aa):\n",
    "    P = (2*aa.Te)**2.5/(6*π**2) * FermiDirac.Ithreehalf(aa.μ/aa.Te)\n",
    "    return P\n",
    "\n",
    "def print_EOS(aa):\n",
    "    Ee_pot, Ee_K, Ee = get_E(aa)\n",
    "    P_e =  get_P(aa)\n",
    "    print(f\"____________________________________________\")\n",
    "    print(f\"Ee_pot_density = {Ee_pot*aa.ni_bar:0.3e} [au], Ee_K = {Ee_K*aa.ni_bar:0.3e} [au], Ee_tot = {Ee*aa.ni_bar:0.3e} [au]\")\n",
    "    print(f\"P_e = {P_e:0.3e} [au], {P_e*AU_to_bar/1e6:0.3e} [Mbar]\")\n",
    "    print(f\"Virial if {Ee_K:0.3e} = {3/2*P_e*aa.Vol - 0.5*Ee_pot:0.3e} --->  off by {100*Ee_K/(3/2*P_e*aa.Vol - 0.5*Ee_pot) - 100:0.3e} % \")\n",
    "    \n",
    "    print(f\"\\nβEe_pot/Z = {Ee_pot/aa.Te/aa.Z:0.3f}, βEe_K/Z = {Ee_K/aa.Te/aa.Z:0.3f}, βEe_tot/Z = {Ee/aa.Te/aa.Z:0.3f}\")\n",
    "    print(f\"βP_e Ω/Z = {P_e*aa.Vol/aa.Te/aa.Z:0.3f}\")\n",
    "    # print(f\"Virial if {Ee_K:0.3e} = {3/2*P_e*aa.Vol - 0.5*Ee_pot:0.3e}\")\n",
    "\n",
    "print_EOS(aa_ZJ)\n",
    "print_EOS(aa_ZJ_cs)\n",
    "print_EOS(aa_CS.core_atom)"
   ]
  },
  {
   "cell_type": "code",
   "execution_count": null,
   "id": "2796633c-2333-4653-8e29-428c77dd1528",
   "metadata": {},
   "outputs": [],
   "source": []
  },
  {
   "cell_type": "code",
   "execution_count": null,
   "id": "b6433536-e6b3-4b9c-a572-9420b622b9ec",
   "metadata": {},
   "outputs": [],
   "source": []
  },
  {
   "cell_type": "code",
   "execution_count": null,
   "id": "2e208679-3415-4e66-a0bf-55d6a016cac5",
   "metadata": {},
   "outputs": [],
   "source": []
  }
 ],
 "metadata": {
  "kernelspec": {
   "display_name": "Python 3 (ipykernel)",
   "language": "python",
   "name": "python3"
  },
  "language_info": {
   "codemirror_mode": {
    "name": "ipython",
    "version": 3
   },
   "file_extension": ".py",
   "mimetype": "text/x-python",
   "name": "python",
   "nbconvert_exporter": "python",
   "pygments_lexer": "ipython3",
   "version": "3.10.6"
  }
 },
 "nbformat": 4,
 "nbformat_minor": 5
}
