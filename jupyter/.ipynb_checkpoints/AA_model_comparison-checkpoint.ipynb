{
 "cells": [
  {
   "cell_type": "code",
   "execution_count": 5,
   "id": "9c2eb6ef-ade0-4980-8fa0-babce6e39035",
   "metadata": {
    "tags": []
   },
   "outputs": [],
   "source": [
    "import numpy as np\n",
    "from pandas import read_csv\n",
    "\n",
    "# from average_atom.core.average_atom_new import AverageAtom as AA\n",
    "from average_atom.core.aa_types import AverageAtomFactory\n",
    "from average_atom.core.misc import jacobi_relaxation, sor\n",
    "from average_atom.core.grids import NonUniformGrid\n",
    "from average_atom.core.physics import ThomasFermi, FermiDirac\n",
    "\n",
    "import matplotlib.pyplot as plt\n",
    "\n",
    "from hnc.hnc.constants import *\n",
    "from hnc.hnc.misc import rs_from_n, n_from_rs\n",
    "\n",
    "plt.rcParams.update({'font.size': 10})\n",
    "plt.rcParams[\"figure.figsize\"] = (5,3.5)\n",
    "plt.rcParams[\"figure.dpi\"] = 200\n",
    "plt.rcParams['xtick.labelsize']=14\n",
    "\n",
    "color_cycle = plt.rcParams['axes.prop_cycle'].by_key()['color']"
   ]
  },
  {
   "cell_type": "code",
   "execution_count": 2,
   "id": "2e9647ce-28f4-439a-a6aa-67319be5087d",
   "metadata": {
    "tags": []
   },
   "outputs": [
    {
     "name": "stdout",
     "output_type": "stream",
     "text": [
      "________________________\n",
      "Generating NPA\n",
      "Using More TF fit for initial Zstar = 2.495\n",
      "\tIntializing grid\n",
      "Initializing, False\n"
     ]
    }
   ],
   "source": [
    "# Aluminum\n",
    "name='Al'\n",
    "Z, A = 13, 27 \n",
    "\n",
    "ρ_solid = 2.699 #g/cc, the solid density of aluminum \n",
    "ρ = ρ_solid#8.1 # g/cc\n",
    "ni_cc = ρ/(A*amu_to_AU*AU_to_g)\n",
    "ni_AU = ni_cc*invcc_to_AU\n",
    "rs = rs_from_n(ni_AU)\n",
    "R  = 10*rs\n",
    "\n",
    "Ti_eV = 1 \n",
    "Te_eV = 1\n",
    "\n",
    "Te_AU = Te_eV*eV_to_AU\n",
    "Ti_AU = Ti_eV*eV_to_AU\n",
    "\n",
    "\n",
    "\n",
    "aa_CS  = AverageAtomFactory.create_model(\"TFStarret2014\", Z, A, Ti_AU, Te_AU, rs, R, name=name, ignore_vxc=False)"
   ]
  },
  {
   "cell_type": "code",
   "execution_count": 3,
   "id": "78e63387-cb70-446f-9dc9-2dddd3cb47e3",
   "metadata": {
    "scrolled": true,
    "tags": []
   },
   "outputs": [
    {
     "name": "stdout",
     "output_type": "stream",
     "text": [
      "Setting up and solving core.\n",
      "________________________\n",
      "Generating NPA\n",
      "Using More TF fit for initial Zstar = 2.495\n",
      "\tIntializing grid\n",
      "Initializing, True\n",
      "Initializing\n",
      "\tCreating Integral Equation Solver\n",
      "Intialized Potentials and Densities\n",
      "Initialized\n",
      "Beginning self-consistent electron solver.\n",
      "_________________________________\n"
     ]
    },
    {
     "name": "stderr",
     "output_type": "stream",
     "text": [
      "/home/zach/plasma/average_atom/core/average_atom_new.py:559: RuntimeWarning: divide by zero encountered in divide\n",
      "  rel_errs = (np.abs(A @ φe - b)[:-1]/b[:-1])\n"
     ]
    },
    {
     "name": "stdout",
     "output_type": "stream",
     "text": [
      "__________________________________________\n",
      "TF Iteration 0\n",
      "\tμ = -9.930549893e-01, change: 5.474604685e-01 (converged=False)\n",
      "\tφe Err =       -inf, φe change =  6.927e-01\n",
      "\tne Err =  1.719e-01, ne change =  1.305e-03\n",
      "\tQ =  0.000e+00 ->  1.731e+00, \n",
      "\tZstar guess =  2.495e+00. Current Zstar:  1.164e-25 (converged=False)\n",
      "\tChange =  1.076e+00\n",
      "__________________________________________\n",
      "TF Iteration 1\n",
      "\tμ = -9.165789033e-01, change: 7.701092767e-02 (converged=False)\n",
      "\tφe Err =       -inf, φe change =  5.116e-02\n",
      "\tne Err =  1.256e-01, ne change =  6.980e-04\n",
      "\tQ =  1.731e+00 ->  1.374e+00, \n",
      "\tZstar guess =  2.495e+00. Current Zstar:  9.340e-14 (converged=False)\n",
      "\tChange =  1.141e-01\n",
      "__________________________________________\n",
      "TF Iteration 2\n",
      "\tμ = -7.046032843e-01, change: 2.312682719e-01 (converged=False)\n",
      "\tφe Err =       -inf, φe change =  1.218e-02\n",
      "\tne Err =  9.300e-02, ne change =  3.134e-04\n",
      "\tQ =  1.374e+00 ->  1.373e+00, \n",
      "\tZstar guess =  2.495e+00. Current Zstar:  7.979e-13 (converged=False)\n",
      "\tChange =  1.906e-01\n",
      "__________________________________________\n",
      "TF Iteration 3\n",
      "\tμ = -5.794961242e-01, change: 1.775568790e-01 (converged=False)\n",
      "\tφe Err =       -inf, φe change =  1.067e-02\n",
      "\tne Err =  6.250e-02, ne change =  1.067e-04\n",
      "\tQ =  1.373e+00 ->  1.169e+00, \n",
      "\tZstar guess =  2.495e+00. Current Zstar:  2.375e-10 (converged=False)\n",
      "\tChange =  1.398e-01\n",
      "__________________________________________\n",
      "TF Iteration 4\n",
      "\tμ = -4.780568850e-01, change: 1.750473126e-01 (converged=False)\n",
      "\tφe Err =       -inf, φe change =  6.161e-03\n",
      "\tne Err =  4.457e-02, ne change =  4.101e-05\n",
      "\tQ =  1.169e+00 ->  9.922e-01, \n",
      "\tZstar guess =  2.495e+00. Current Zstar:  7.254e-09 (converged=False)\n",
      "\tChange =  1.355e-01\n",
      "__________________________________________\n",
      "TF Iteration 5\n",
      "\tμ = -3.892338508e-01, change: 1.858001358e-01 (converged=False)\n",
      "\tφe Err =       -inf, φe change =  3.195e-03\n",
      "\tne Err =  3.496e-02, ne change =  2.535e-05\n",
      "\tQ =  9.922e-01 ->  8.626e-01, \n",
      "\tZstar guess =  2.495e+00. Current Zstar:  1.160e-07 (converged=False)\n",
      "\tChange =  1.461e-01\n",
      "__________________________________________\n",
      "TF Iteration 6\n",
      "\tμ = -3.110020720e-01, change: 2.009891448e-01 (converged=False)\n",
      "\tφe Err =       -inf, φe change =  2.690e-03\n",
      "\tne Err =  2.925e-02, ne change =  1.578e-05\n",
      "\tQ =  8.626e-01 ->  7.671e-01, \n",
      "\tZstar guess =  2.495e+00. Current Zstar:  1.321e-06 (converged=False)\n",
      "\tChange =  1.604e-01\n",
      "__________________________________________\n",
      "TF Iteration 7\n",
      "\tμ = -2.425285156e-01, change: 2.201707402e-01 (converged=False)\n",
      "\tφe Err =       -inf, φe change =  2.759e-03\n",
      "\tne Err =  2.522e-02, ne change =  8.124e-06\n",
      "\tQ =  7.671e-01 ->  6.924e-01, \n",
      "\tZstar guess =  2.495e+00. Current Zstar:  1.127e-05 (converged=False)\n",
      "\tChange =  1.773e-01\n",
      "__________________________________________\n",
      "TF Iteration 8\n",
      "\tμ = -1.827647030e-01, change: 2.464197353e-01 (converged=False)\n",
      "\tφe Err =       -inf, φe change =  2.610e-03\n",
      "\tne Err =  2.197e-02, ne change =  3.312e-06\n",
      "\tQ =  6.924e-01 ->  6.312e-01, \n",
      "\tZstar guess =  2.495e+00. Current Zstar:  7.391e-05 (converged=False)\n",
      "\tChange =  2.003e-01\n",
      "__________________________________________\n",
      "TF Iteration 9\n",
      "\tμ = -1.303873410e-01, change: 2.865835754e-01 (converged=False)\n",
      "\tφe Err =       -inf, φe change =  2.311e-03\n",
      "\tne Err =  1.913e-02, ne change =  1.371e-06\n",
      "\tQ =  6.312e-01 ->  5.801e-01, \n",
      "\tZstar guess =  2.495e+00. Current Zstar:  3.833e-04 (converged=False)\n",
      "\tChange =  2.364e-01\n",
      "__________________________________________\n",
      "TF Iteration 25\n",
      "\tμ = 2.737809281e-01, change: 2.565009640e-02 (converged=False)\n",
      "\tφe Err =       -inf, φe change =  1.531e-04\n",
      "\tne Err =  2.827e-03, ne change =  1.394e-07\n",
      "\tQ =  1.323e-01 ->  1.115e-01, \n",
      "\tZstar guess =  2.495e+00. Current Zstar:  1.433e+00 (converged=False)\n",
      "\tChange =  1.811e-02\n",
      "__________________________________________\n",
      "TF Iteration 50\n",
      "\tμ = 3.110289890e-01, change: 3.692703211e-04 (converged=False)\n",
      "\tφe Err =       -inf, φe change =  2.957e-06\n",
      "\tne Err =  5.132e-05, ne change =  2.780e-09\n",
      "\tQ =  2.174e-03 ->  1.849e-03, \n",
      "\tZstar guess =  2.495e+00. Current Zstar:  1.887e+00 (converged=False)\n",
      "\tChange =  2.651e-04\n",
      "__________________________________________\n",
      "TF Iteration 75\n",
      "\tμ = 3.116717377e-01, change: 6.473043920e-06 (converged=True)\n",
      "\tφe Err =       -inf, φe change =  5.206e-08\n",
      "\tne Err =  9.030e-07, ne change =  4.899e-11\n",
      "\tQ =  3.819e-05 ->  3.249e-05, \n",
      "\tZstar guess =  2.495e+00. Current Zstar:  1.896e+00 (converged=False)\n",
      "\tChange =  4.648e-06\n",
      "__________________________________________\n",
      "TF Iteration 100\n",
      "\tμ = 3.116830351e-01, change: 1.137906451e-07 (converged=True)\n",
      "\tφe Err =       -inf, φe change =  9.154e-10\n",
      "\tne Err =  1.587e-08, ne change =  8.625e-13\n",
      "\tQ =  6.713e-07 ->  5.711e-07, \n",
      "\tZstar guess =  2.495e+00. Current Zstar:  1.896e+00 (converged=False)\n",
      "\tChange =  8.170e-08\n",
      "__________________________________________\n",
      "TF Iteration 125\n",
      "\tμ = 3.116832337e-01, change: 2.000453359e-09 (converged=True)\n",
      "\tφe Err =       -inf, φe change =  1.609e-11\n",
      "\tne Err =  2.791e-10, ne change =  1.476e-14\n",
      "\tQ =  1.180e-08 ->  1.004e-08, \n",
      "\tZstar guess =  2.495e+00. Current Zstar:  1.896e+00 (converged=False)\n",
      "\tChange =  1.436e-09\n",
      "__________________________________________\n",
      "TF Iteration 142\n",
      "\tμ = 3.116832369e-01, change: 0.000000000e+00 (converged=True)\n",
      "\tφe Err =       -inf, φe change =  1.278e-12\n",
      "\tne Err =  1.235e-11, ne change =  2.614e-15\n",
      "\tQ =  8.887e-10 ->  7.561e-10, \n",
      "\tZstar guess =  2.495e+00. Current Zstar:  1.896e+00 (converged=False)\n",
      "\tChange =  1.697e-12\n"
     ]
    },
    {
     "ename": "AttributeError",
     "evalue": "'TFStarret2014_core' object has no attribute 'ne_full'",
     "output_type": "error",
     "traceback": [
      "\u001b[0;31m---------------------------------------------------------------------------\u001b[0m",
      "\u001b[0;31mAttributeError\u001b[0m                            Traceback (most recent call last)",
      "Cell \u001b[0;32mIn[3], line 1\u001b[0m\n\u001b[0;32m----> 1\u001b[0m \u001b[43maa_CS\u001b[49m\u001b[38;5;241;43m.\u001b[39;49m\u001b[43msolve\u001b[49m\u001b[43m(\u001b[49m\u001b[43mverbose\u001b[49m\u001b[38;5;241;43m=\u001b[39;49m\u001b[38;5;28;43;01mTrue\u001b[39;49;00m\u001b[43m)\u001b[49m\n",
      "File \u001b[0;32m~/plasma/average_atom/core/aa_types.py:145\u001b[0m, in \u001b[0;36mTFStarret2014.solve\u001b[0;34m(self, **kwargs)\u001b[0m\n\u001b[1;32m    143\u001b[0m \u001b[38;5;28mprint\u001b[39m(\u001b[38;5;124m\"\u001b[39m\u001b[38;5;124mSetting up and solving core.\u001b[39m\u001b[38;5;124m\"\u001b[39m)\n\u001b[1;32m    144\u001b[0m \u001b[38;5;28mself\u001b[39m\u001b[38;5;241m.\u001b[39msetup_core_atom()\n\u001b[0;32m--> 145\u001b[0m \u001b[38;5;28;43mself\u001b[39;49m\u001b[38;5;241;43m.\u001b[39;49m\u001b[43mcore_atom\u001b[49m\u001b[38;5;241;43m.\u001b[39;49m\u001b[43msolve\u001b[49m\u001b[43m(\u001b[49m\u001b[38;5;241;43m*\u001b[39;49m\u001b[38;5;241;43m*\u001b[39;49m\u001b[43mkwargs\u001b[49m\u001b[43m)\u001b[49m\n\u001b[1;32m    146\u001b[0m \u001b[38;5;28mprint\u001b[39m(\u001b[38;5;124m\"\u001b[39m\u001b[38;5;124mSettin up and solving empty atom\u001b[39m\u001b[38;5;124m\"\u001b[39m)\n\u001b[1;32m    147\u001b[0m \u001b[38;5;28mself\u001b[39m\u001b[38;5;241m.\u001b[39msetup_empty_atom()\n",
      "File \u001b[0;32m~/plasma/average_atom/core/aa_types.py:92\u001b[0m, in \u001b[0;36mTFStarret2014_core.solve\u001b[0;34m(self, **kwargs)\u001b[0m\n\u001b[1;32m     90\u001b[0m \u001b[38;5;28mself\u001b[39m\u001b[38;5;241m.\u001b[39mne_bar \u001b[38;5;241m=\u001b[39m \u001b[38;5;28mself\u001b[39m\u001b[38;5;241m.\u001b[39mne[\u001b[38;5;241m-\u001b[39m\u001b[38;5;241m1\u001b[39m] \u001b[38;5;66;03m# a CS specific idea\u001b[39;00m\n\u001b[1;32m     91\u001b[0m \u001b[38;5;28mself\u001b[39m\u001b[38;5;241m.\u001b[39mZstar \u001b[38;5;241m=\u001b[39m \u001b[38;5;28mself\u001b[39m\u001b[38;5;241m.\u001b[39mne_bar\u001b[38;5;241m/\u001b[39m\u001b[38;5;28mself\u001b[39m\u001b[38;5;241m.\u001b[39mni_bar\n\u001b[0;32m---> 92\u001b[0m \u001b[38;5;28;43mself\u001b[39;49m\u001b[38;5;241;43m.\u001b[39;49m\u001b[43msave_data\u001b[49m\u001b[43m(\u001b[49m\u001b[43m)\u001b[49m\n",
      "File \u001b[0;32m~/plasma/average_atom/core/aa_types.py:103\u001b[0m, in \u001b[0;36mTFStarret2014_core.save_data\u001b[0;34m(self)\u001b[0m\n\u001b[1;32m     99\u001b[0m column_names \u001b[38;5;241m=\u001b[39m \u001b[38;5;124mf\u001b[39m\u001b[38;5;124m\"\u001b[39m\u001b[38;5;124m   \u001b[39m\u001b[38;5;132;01m{\u001b[39;00m\u001b[38;5;124m'\u001b[39m\u001b[38;5;124mr[AU]\u001b[39m\u001b[38;5;124m'\u001b[39m\u001b[38;5;132;01m:\u001b[39;00m\u001b[38;5;124m15\u001b[39m\u001b[38;5;132;01m}\u001b[39;00m\u001b[38;5;124m \u001b[39m\u001b[38;5;132;01m{\u001b[39;00m\u001b[38;5;124m'\u001b[39m\u001b[38;5;124mne_full[AU]\u001b[39m\u001b[38;5;124m'\u001b[39m\u001b[38;5;132;01m:\u001b[39;00m\u001b[38;5;124m15\u001b[39m\u001b[38;5;132;01m}\u001b[39;00m\u001b[38;5;124m \u001b[39m\u001b[38;5;132;01m{\u001b[39;00m\u001b[38;5;124m'\u001b[39m\u001b[38;5;124mn_ion[AU]\u001b[39m\u001b[38;5;124m'\u001b[39m\u001b[38;5;132;01m:\u001b[39;00m\u001b[38;5;124m15\u001b[39m\u001b[38;5;132;01m}\u001b[39;00m\u001b[38;5;124m \u001b[39m\u001b[38;5;132;01m{\u001b[39;00m\u001b[38;5;124m'\u001b[39m\u001b[38;5;124mne_ext[AU]\u001b[39m\u001b[38;5;124m'\u001b[39m\u001b[38;5;132;01m:\u001b[39;00m\u001b[38;5;124m15\u001b[39m\u001b[38;5;132;01m}\u001b[39;00m\u001b[38;5;124m \u001b[39m\u001b[38;5;132;01m{\u001b[39;00m\u001b[38;5;124m'\u001b[39m\u001b[38;5;124mne_PA[AU]\u001b[39m\u001b[38;5;124m'\u001b[39m\u001b[38;5;132;01m:\u001b[39;00m\u001b[38;5;124m15\u001b[39m\u001b[38;5;132;01m}\u001b[39;00m\u001b[38;5;124m \u001b[39m\u001b[38;5;132;01m{\u001b[39;00m\u001b[38;5;124m'\u001b[39m\u001b[38;5;124mne_scr[AU]\u001b[39m\u001b[38;5;124m'\u001b[39m\u001b[38;5;132;01m:\u001b[39;00m\u001b[38;5;124m15\u001b[39m\u001b[38;5;132;01m}\u001b[39;00m\u001b[38;5;124m \u001b[39m\u001b[38;5;124m\"\u001b[39m\n\u001b[1;32m    100\u001b[0m header \u001b[38;5;241m=\u001b[39m (\u001b[38;5;124m\"\u001b[39m\u001b[38;5;124mModel replicates Starrett & Saumon 2014 \u001b[39m\u001b[38;5;124m'\u001b[39m\u001b[38;5;124mA simple method for determining the ionic structure of warm dense matter\u001b[39m\u001b[38;5;124m'\u001b[39m\u001b[38;5;130;01m\\n\u001b[39;00m\u001b[38;5;124m\"\u001b[39m \u001b[38;5;241m+\u001b[39m \n\u001b[1;32m    101\u001b[0m \u001b[38;5;66;03m#           \"# All units in Hartree [AU] if not specified\\n\"+\u001b[39;00m\n\u001b[1;32m    102\u001b[0m         err_info \u001b[38;5;241m+\u001b[39m aa_info \u001b[38;5;241m+\u001b[39m column_names)   \n\u001b[0;32m--> 103\u001b[0m data \u001b[38;5;241m=\u001b[39m np\u001b[38;5;241m.\u001b[39marray([\u001b[38;5;28mself\u001b[39m\u001b[38;5;241m.\u001b[39mgrid\u001b[38;5;241m.\u001b[39mxs, \u001b[38;5;28;43mself\u001b[39;49m\u001b[38;5;241;43m.\u001b[39;49m\u001b[43mne_full\u001b[49m, \u001b[38;5;28mself\u001b[39m\u001b[38;5;241m.\u001b[39mn_ion, \u001b[38;5;28mself\u001b[39m\u001b[38;5;241m.\u001b[39mne_ext, \u001b[38;5;28mself\u001b[39m\u001b[38;5;241m.\u001b[39mne_PA, \u001b[38;5;28mself\u001b[39m\u001b[38;5;241m.\u001b[39mne_scr] )\u001b[38;5;241m.\u001b[39mT\n\u001b[1;32m    105\u001b[0m txt\u001b[38;5;241m=\u001b[39m\u001b[38;5;124m'\u001b[39m\u001b[38;5;132;01m{0}\u001b[39;00m\u001b[38;5;124m_\u001b[39m\u001b[38;5;132;01m{1}\u001b[39;00m\u001b[38;5;124m_R\u001b[39m\u001b[38;5;132;01m{2:.1e}\u001b[39;00m\u001b[38;5;124m_rs\u001b[39m\u001b[38;5;132;01m{3:.1e}\u001b[39;00m\u001b[38;5;124m_Te\u001b[39m\u001b[38;5;132;01m{4:.1e}\u001b[39;00m\u001b[38;5;124meV_Ti\u001b[39m\u001b[38;5;132;01m{5:.1e}\u001b[39;00m\u001b[38;5;124meV_electron_info.dat\u001b[39m\u001b[38;5;124m'\u001b[39m\u001b[38;5;241m.\u001b[39mformat(\u001b[38;5;28mself\u001b[39m\u001b[38;5;241m.\u001b[39mname, \u001b[38;5;28mself\u001b[39m\u001b[38;5;241m.\u001b[39maa_type, \u001b[38;5;28mself\u001b[39m\u001b[38;5;241m.\u001b[39mR, \u001b[38;5;28mself\u001b[39m\u001b[38;5;241m.\u001b[39mrs, \u001b[38;5;28mself\u001b[39m\u001b[38;5;241m.\u001b[39mTe\u001b[38;5;241m*\u001b[39mAU_to_eV, \u001b[38;5;28mself\u001b[39m\u001b[38;5;241m.\u001b[39mTi\u001b[38;5;241m*\u001b[39mAU_to_eV, \u001b[38;5;28mself\u001b[39m\u001b[38;5;241m.\u001b[39mZstar)\n\u001b[1;32m    106\u001b[0m \u001b[38;5;28mself\u001b[39m\u001b[38;5;241m.\u001b[39msavefile \u001b[38;5;241m=\u001b[39m os\u001b[38;5;241m.\u001b[39mpath\u001b[38;5;241m.\u001b[39mjoin(PACKAGE_DIR,\u001b[38;5;124m\"\u001b[39m\u001b[38;5;124mdata\u001b[39m\u001b[38;5;124m\"\u001b[39m,txt)\n",
      "\u001b[0;31mAttributeError\u001b[0m: 'TFStarret2014_core' object has no attribute 'ne_full'"
     ]
    }
   ],
   "source": [
    "aa_CS.solve(verbose=True)"
   ]
  },
  {
   "cell_type": "code",
   "execution_count": null,
   "id": "80621fdf-8f43-472f-9fec-62a9abffca0b",
   "metadata": {
    "tags": []
   },
   "outputs": [],
   "source": [
    "aa_CS.save_data()"
   ]
  },
  {
   "cell_type": "code",
   "execution_count": null,
   "id": "d310a140-67ea-40d8-9880-4fdc6fc36fc6",
   "metadata": {
    "tags": []
   },
   "outputs": [],
   "source": [
    "aa_CS.combine_models()\n",
    "aa_CS.ne_full[-20:], aa_CS.ne_ext[-20:]"
   ]
  },
  {
   "cell_type": "code",
   "execution_count": null,
   "id": "608e285a-c163-4b83-9804-9cab55ca17a3",
   "metadata": {
    "tags": []
   },
   "outputs": [],
   "source": [
    "aa_CS.grid.integrate_f(aa_CS.ne_PA), aa_CS.Zstar"
   ]
  },
  {
   "cell_type": "code",
   "execution_count": null,
   "id": "1816c4d7-8c6f-43d4-84ed-6be8270d9038",
   "metadata": {
    "tags": []
   },
   "outputs": [],
   "source": [
    "from importlib import reload\n",
    "try:\n",
    "    reload(plotting)\n",
    "except NameError as e:\n",
    "    from average_atom.core import plotting as plotting\n",
    "    print(\"Error: \",e)\n",
    "except Exception as e:\n",
    "    print(\"Unexpected error during reload\")\n",
    "    print(e)\n",
    "    \n",
    "from average_atom.core.plotting import compare_aa, plot_convergence\n",
    "\n",
    "compare_aa([aa_CS.core_atom, aa_CS.empty_atom])"
   ]
  },
  {
   "cell_type": "code",
   "execution_count": null,
   "id": "b9fba91c-4099-45e6-92ba-dd72a4e252e5",
   "metadata": {
    "tags": []
   },
   "outputs": [],
   "source": [
    "# plot_convergence(aa)\n",
    "plot_convergence(aa_CS.empty_atom)"
   ]
  },
  {
   "cell_type": "code",
   "execution_count": null,
   "id": "4eb77c08-2c0f-44a0-9bdd-fa202ab940ff",
   "metadata": {
    "tags": []
   },
   "outputs": [],
   "source": [
    "aa_CS.core_atom.grid.xs.shape"
   ]
  },
  {
   "cell_type": "code",
   "execution_count": 7,
   "id": "8d521ebb-a765-4bf4-a475-ba3bb4551568",
   "metadata": {
    "tags": []
   },
   "outputs": [],
   "source": [
    "def column_cleaning(frame):\n",
    "    frame.columns = np.roll(frame.columns, len(frame.columns)-1)\n",
    "    return frame.dropna(how='all', axis=1)\n",
    "\n",
    "def load_NS_ne_tf_data(filename, ne_type='full'):\n",
    "    NS_aa = read_csv(filename, skiprows=3, delim_whitespace=True, escapechar=\"#\")#, names=[\"r\", \"g\"])\n",
    "    column_cleaning(NS_aa)\n",
    "    if ne_type=='full':\n",
    "        return np.array(NS_aa['r(a_B)']), np.array(NS_aa['nefull'])\n",
    "    elif ne_type=='bound':\n",
    "        return np.array(NS_aa['r(a_B)']), np.array(NS_aa['ne_ion'])\n",
    "    elif ne_type=='empty':\n",
    "        return np.array(NS_aa['r(a_B)']), np.array(NS_aa['neext'])\n",
    "    elif ne_type=='free':\n",
    "        return np.array(NS_aa['r(a_B)']), np.array(NS_aa['nefull'])-np.array(NS_aa['ne_ion'])\n",
    "    \n",
    "def load_NS_ne_ks_data(filename, ne_type='full'):\n",
    "    NS_aa = read_csv(filename, skiprows=4, delim_whitespace=True, escapechar=\"#\")#, names=[\"r\", \"g\"])\n",
    "    column_cleaning(NS_aa)\n",
    "    if ne_type=='full':\n",
    "        return np.array(NS_aa['r(a_B)']), np.array(NS_aa['ne_full'])\n",
    "    elif ne_type=='bound':\n",
    "        return np.array(NS_aa['r(a_B)']), np.array(NS_aa['ne_ion'])\n",
    "    elif ne_type=='empty':\n",
    "        return np.array(NS_aa['r(a_B)']), np.array(NS_aa['ne_ext'])\n",
    "    elif ne_type=='free':\n",
    "        return np.array(NS_aa['r(a_B)']), np.array(NS_aa['ne_full'])-np.array(NS_aa['ne_ion'])\n",
    "\n",
    "\n",
    "NS_folder = \"/home/zach/plasma/average_atom/data/aluminum_2T/aluminum_2T_NS/\"\n",
    "\n",
    "ne_type = 'full'\n",
    "\n",
    "# Fixed Ti cases\n",
    "NS_tf_ne11 = load_NS_ne_tf_data(NS_folder + \"qm_ksdt_aluminum_ti1ev_t1ev_d2.7gpcc/aluminum.tfpa.dat\", ne_type=ne_type)\n",
    "NS_ks_ne11 = load_NS_ne_ks_data(NS_folder + \"qm_ksdt_aluminum_ti1ev_t1ev_d2.7gpcc/aluminum.qmpa.dat\", ne_type=ne_type)\n",
    "\n",
    "NS_tf_ne12 = load_NS_ne_tf_data(NS_folder + \"qm_ksdt_aluminum_ti1ev_t3ev_d2.7gpcc/aluminum.tfpa.dat\", ne_type=ne_type)\n",
    "NS_ks_ne12 = load_NS_ne_ks_data(NS_folder + \"qm_ksdt_aluminum_ti1ev_t3ev_d2.7gpcc/aluminum.qmpa.dat\", ne_type=ne_type)\n",
    "\n",
    "NS_tf_ne13 = load_NS_ne_tf_data(NS_folder + \"qm_ksdt_aluminum_ti1ev_t10ev_d2.7gpcc/aluminum.tfpa.dat\", ne_type=ne_type)\n",
    "NS_ks_ne13 = load_NS_ne_ks_data(NS_folder + \"qm_ksdt_aluminum_ti1ev_t10ev_d2.7gpcc/aluminum.qmpa.dat\", ne_type=ne_type)\n",
    "\n",
    "NS_tf_ne14 = load_NS_ne_tf_data(NS_folder + \"qm_ksdt_aluminum_ti1ev_t30ev_d2.7gpcc/aluminum.tfpa.dat\", ne_type=ne_type)\n",
    "NS_ks_ne14 = load_NS_ne_ks_data(NS_folder + \"qm_ksdt_aluminum_ti1ev_t30ev_d2.7gpcc/aluminum.qmpa.dat\", ne_type=ne_type)\n",
    "\n",
    "# Fixed Te cases\n",
    "NS_tf_ne21 = load_NS_ne_tf_data(NS_folder + \"qm_ksdt_aluminum_ti1ev_t30ev_d2.7gpcc/aluminum.tfpa.dat\", ne_type=ne_type)\n",
    "NS_ks_ne21 = load_NS_ne_ks_data(NS_folder + \"qm_ksdt_aluminum_ti1ev_t30ev_d2.7gpcc/aluminum.qmpa.dat\", ne_type=ne_type)\n",
    "\n",
    "NS_tf_ne22 = load_NS_ne_tf_data(NS_folder + \"qm_ksdt_aluminum_ti3ev_t30ev_d2.7gpcc/aluminum.tfpa.dat\", ne_type=ne_type)\n",
    "NS_ks_ne22 = load_NS_ne_ks_data(NS_folder + \"qm_ksdt_aluminum_ti3ev_t30ev_d2.7gpcc/aluminum.qmpa.dat\", ne_type=ne_type)\n",
    "\n",
    "NS_tf_ne23 = load_NS_ne_tf_data(NS_folder + \"qm_ksdt_aluminum_ti10ev_t30ev_d2.7gpcc/aluminum.tfpa.dat\", ne_type=ne_type)\n",
    "NS_ks_ne23 = load_NS_ne_ks_data(NS_folder + \"qm_ksdt_aluminum_ti10ev_t30ev_d2.7gpcc/aluminum.qmpa.dat\", ne_type=ne_type)\n",
    "\n",
    "NS_tf_ne24 = load_NS_ne_tf_data(NS_folder + \"qm_ksdt_aluminum_ti30ev_t30ev_d2.7gpcc/aluminum.tfpa.dat\", ne_type=ne_type)\n",
    "NS_ks_ne24 = load_NS_ne_ks_data(NS_folder + \"qm_ksdt_aluminum_ti30ev_t30ev_d2.7gpcc/aluminum.qmpa.dat\", ne_type=ne_type)\n",
    "\n",
    "# Mine\n"
   ]
  },
  {
   "cell_type": "code",
   "execution_count": 8,
   "id": "9c56f7e9-7da2-4562-b0fe-97a00b5e43d0",
   "metadata": {
    "tags": []
   },
   "outputs": [
    {
     "data": {
      "image/png": "[encoded data removed]",
      "text/plain": [
       "<Figure size 1000x700 with 1 Axes>"
      ]
     },
     "metadata": {},
     "output_type": "display_data"
    }
   ],
   "source": [
    "def plot_ne(ne_data, ks=False, figax = None, **kwargs):#line = None, color=None, label=None):\n",
    "    if figax is None:\n",
    "        fig, ax = plt.subplots()\n",
    "    else:\n",
    "        fig, ax  = figax\n",
    "    \n",
    "    fourpi = False\n",
    "    if fourpi==True:\n",
    "        if ks==False:\n",
    "            ax.plot(ne_data[0], 4*π*ne_data[0]**2*ne_data[1], **kwargs )#, linestyle=line, color=color, label=label)\n",
    "        else:\n",
    "            ax.plot(ne_data[0], ne_data[1], **kwargs )#, linestyle=line, color=color, label=label)\n",
    "        ax.set_ylabel(r\"$4 \\pi  r^2 n_{bound}$\")        \n",
    "    else:\n",
    "        if ks==False:\n",
    "            ax.plot(ne_data[0], ne_data[1], **kwargs )#, linestyle=line, color=color, label=label)\n",
    "        else:\n",
    "            ax.plot(ne_data[0], (4*π*ne_data[0]**2)**-1*ne_data[1], **kwargs )#, linestyle=line, color=color, label=label)\n",
    "        ax.set_ylabel(r\"$n_{free} $ [au]\")        \n",
    "\n",
    "    if fourpi:\n",
    "        ax.set_xlim(0,3)\n",
    "        ax.set_ylim(0, 13)\n",
    "    else:\n",
    "        ax.set_xlim(1e-2,30)\n",
    "        ax.set_yscale('log')#, linthresh=1e-3)\n",
    "        ax.set_xscale('log')\n",
    "        ax.set_ylim(1e-3, 1e1)\n",
    "\n",
    "    \n",
    "    ax.set_xlabel(r\"$r $ [au]\")\n",
    "    \n",
    "    ax.legend(fontsize=6, ncols=2)\n",
    "    \n",
    "# Fixed Ti\n",
    "fig, ax = plt.subplots()\n",
    "ax.set_title(r\"Aluminum @ $2.7$ g/cc, $T_i = 1 $ eV\")\n",
    "\n",
    "# plot_ne(NS_ks_ne11, ks=True, figax = (fig, ax), color=color_cycle[0], linestyle='-', label=r\"NS QM $T_e=1$ eV\")\n",
    "plot_ne(NS_tf_ne11, ks=False, figax = (fig, ax), color=color_cycle[0], linestyle='--', label=r\"NS TF $T_e=1$ eV\")\n",
    "plot_ne(ZJ_csaa, ks=False, figax = (fig, ax), color=color_cycle[0], linestyle='--', label=r\"ZJ (CS2014) TF $T_e=1$ eV\")"
   ]
  }
 ],
 "metadata": {
  "kernelspec": {
   "display_name": "Python 3 (ipykernel)",
   "language": "python",
   "name": "python3"
  },
  "language_info": {
   "codemirror_mode": {
    "name": "ipython",
    "version": 3
   },
   "file_extension": ".py",
   "mimetype": "text/x-python",
   "name": "python",
   "nbconvert_exporter": "python",
   "pygments_lexer": "ipython3",
   "version": "3.10.6"
  }
 },
 "nbformat": 4,
 "nbformat_minor": 5
}
